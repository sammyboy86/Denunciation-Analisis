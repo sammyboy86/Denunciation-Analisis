{
 "cells": [
  {
   "cell_type": "code",
   "execution_count": 1,
   "metadata": {},
   "outputs": [],
   "source": [
    "import pandas as pd\n",
    "import numpy as np\n",
    "import funciones\n",
    "\n",
    "#base de datos con las denuncias\n",
    "\n",
    "df_maltrato_animal = pd.read_csv(r\"C:\\Users\\samue\\OneDrive\\Documents\\GitHub\\captain_planet_sammy\\captain-planet\\analisis_maltrato_animal\\data\\clean\\categorizado\\df_maltrato_animal_actualizado_categorizado\", encoding = 'latin')\n",
    "df_maltrato_animal[[\"fecha_de_recepcion\", \"fecha_de_ratificacion\", \"fecha_de_turno\", \"fecha_de_admision/radicacion\", \"fecha_de_conclusion\"]] = df_maltrato_animal[[\"fecha_de_recepcion\", \"fecha_de_ratificacion\", \"fecha_de_turno\", \"fecha_de_admision/radicacion\", \"fecha_de_conclusion\"]].apply(pd.to_datetime, errors = 'coerce')\n"
   ]
  },
  {
   "cell_type": "code",
   "execution_count": 2,
   "metadata": {},
   "outputs": [],
   "source": [
    "df_telefonia_indice = pd.read_csv(r'C:\\Users\\samue\\OneDrive\\Documents\\GitHub\\captain_planet_sammy\\captain-planet\\analisis_maltrato_animal\\data\\raw\\indice desarrollo social cdmx\\telefonia\\telefonia-indice-de-desarrollo-social-en-la-ciudad.csv', encoding='utf-8')\n",
    "\n",
    "funciones.estandarizacion(df_telefonia_indice,'nomgeo','dim')\n",
    "\n",
    "funciones.limpiar_encabezados(df_telefonia_indice)\n",
    "\n",
    "df_vivienda_indicee = df_telefonia_indice.sort_values(by=['nomgeo','estratos'])"
   ]
  },
  {
   "cell_type": "code",
   "execution_count": 3,
   "metadata": {},
   "outputs": [],
   "source": [
    "df_vivienda_indice = pd.read_csv(r'C:\\Users\\samue\\OneDrive\\Documents\\GitHub\\captain_planet_sammy\\captain-planet\\analisis_maltrato_animal\\data\\raw\\indice desarrollo social cdmx\\vivienda-indice-de-desarrollo-social-en-la-ciudad.csv', encoding='utf-8')\n",
    "\n",
    "funciones.estandarizacion(df_vivienda_indice,'nomgeo','dim')\n",
    "\n",
    "funciones.limpiar_encabezados(df_vivienda_indice)\n"
   ]
  },
  {
   "cell_type": "code",
   "execution_count": 4,
   "metadata": {},
   "outputs": [],
   "source": [
    "df_victimas = pd.read_csv(r'C:\\Users\\samue\\OneDrive\\Documents\\GitHub\\captain_planet_sammy\\captain-planet\\analisis_maltrato_animal\\data\\clean\\df_victimas.csv', encoding='utf-8')"
   ]
  },
  {
   "cell_type": "code",
   "execution_count": 5,
   "metadata": {},
   "outputs": [],
   "source": [
    "def preparacion_enriquecimiento(df_og, alcaldias_og, id_denuncia_og):\n",
    "    df_a_enriquecer = df_og.groupby([alcaldias_og]).count().loc[:,[id_denuncia_og]]\n",
    "\n",
    "    df_a_enriquecer= df_a_enriquecer.rename(columns={id_denuncia_og:'num_denuncias'})\n",
    "    return df_a_enriquecer\n"
   ]
  },
  {
   "cell_type": "code",
   "execution_count": 6,
   "metadata": {},
   "outputs": [],
   "source": [
    "datos_corr = preparacion_enriquecimiento(df_maltrato_animal, 'alcaldia','id_denuncia')"
   ]
  },
  {
   "cell_type": "code",
   "execution_count": 7,
   "metadata": {},
   "outputs": [],
   "source": [
    "def enriquecimiento(df_a_enriquecer, df_externo, alcaldias_externo, columnas_de_interes,nombre,tipo):\n",
    "\n",
    "    if(tipo=='conteo'):\n",
    "        df_externo_gb = df_externo.groupby([alcaldias_externo]).count()\n",
    "    elif(tipo=='suma'):\n",
    "        df_externo_gb = df_externo.groupby([alcaldias_externo]).sum()\n",
    "    else:\n",
    "        df_externo_gb = df_externo.groupby([alcaldias_externo]).mean()\n",
    "\n",
    "    index = 0        \n",
    "\n",
    "    for columna in columnas_de_interes:\n",
    "\n",
    "        df_a_enriquecer[nombre[index]] = np.nan\n",
    "\n",
    "        for i in df_a_enriquecer.index:\n",
    "            \n",
    "            datos_externos_temp = df_externo_gb.loc[i]\n",
    "            \n",
    "            if(not datos_externos_temp.empty):    \n",
    "                df_a_enriquecer.loc[i, nombre[index]] = datos_externos_temp[columna]\n",
    "    \n",
    "        df_a_enriquecer[nombre[index]] = df_a_enriquecer[nombre[index]].astype('float64')\n",
    "    \n",
    "        index = index +1\n"
   ]
  },
  {
   "cell_type": "code",
   "execution_count": 8,
   "metadata": {},
   "outputs": [],
   "source": [
    "\n",
    "enriquecimiento(datos_corr, df_maltrato_animal,'alcaldia',['maltrato_fisico'],['maltrato_fisico'],'suma')\n",
    "enriquecimiento(datos_corr, df_maltrato_animal,'alcaldia',['intemperie_o_inmovilidad'],['intemperie_o_inmovilidad'],'suma')\n",
    "enriquecimiento(datos_corr, df_maltrato_animal,'alcaldia',['subalimentacion'],['subalimentacion'],'suma')"
   ]
  },
  {
   "cell_type": "code",
   "execution_count": 9,
   "metadata": {},
   "outputs": [],
   "source": [
    "estrato_bajo_tel = df_telefonia_indice[df_telefonia_indice['estratos']=='Pobreza muy alta']\n",
    "estrato_medio_tel = df_telefonia_indice[df_telefonia_indice['estratos']=='Satisfaccion mínima']\n",
    "estrato_alto_tel = df_telefonia_indice[df_telefonia_indice['estratos']=='Estrato alto']\n",
    "\n",
    "estrato_bajo_viv = df_vivienda_indice[df_vivienda_indice['estratos']=='Pobreza muy alta']\n",
    "estrato_medio_viv = df_vivienda_indice[df_vivienda_indice['estratos']=='Satisfaccion mínima']\n",
    "estrato_alto_viv = df_vivienda_indice[df_vivienda_indice['estratos']=='Estrato alto']"
   ]
  },
  {
   "cell_type": "code",
   "execution_count": 10,
   "metadata": {},
   "outputs": [],
   "source": [
    "enriquecimiento(datos_corr, estrato_bajo_tel, 'nomgeo', ['total'], ['bajo_total_tel'], 'suma')\n",
    "enriquecimiento(datos_corr, estrato_medio_tel, 'nomgeo', ['total'], ['medio_total_tel'], 'suma')\n",
    "enriquecimiento(datos_corr, estrato_alto_tel, 'nomgeo', ['total'], ['alto_total_tel'], 'suma')\n",
    "\n",
    "enriquecimiento(datos_corr, estrato_bajo_viv, 'nomgeo', ['total'], ['bajo_total_viv'], 'suma')\n",
    "enriquecimiento(datos_corr, estrato_medio_viv, 'nomgeo', ['total'], ['medio_total_viv'], 'suma')\n",
    "enriquecimiento(datos_corr, estrato_alto_viv, 'nomgeo', ['total'], ['alto_total_viv'], 'suma')\n"
   ]
  },
  {
   "cell_type": "code",
   "execution_count": 11,
   "metadata": {},
   "outputs": [],
   "source": [
    "datos_corr['pob_total_tel'] = datos_corr['bajo_total_tel'] + datos_corr['medio_total_tel']+ datos_corr['alto_total_tel']\n",
    "\n",
    "datos_corr['pctg_alto_tel'] = datos_corr['alto_total_tel'] / datos_corr['pob_total_tel']\n",
    "datos_corr['pctg_medio_tel'] = datos_corr['medio_total_tel'] / datos_corr['pob_total_tel']\n",
    "datos_corr['pctg_bajo_tel'] = datos_corr['bajo_total_tel'] / datos_corr['pob_total_tel']"
   ]
  },
  {
   "cell_type": "code",
   "execution_count": 12,
   "metadata": {},
   "outputs": [],
   "source": [
    "datos_corr['pob_total_viv'] = datos_corr['bajo_total_viv'] + datos_corr['medio_total_viv']+ datos_corr['alto_total_viv']\n",
    "\n",
    "datos_corr['pctg_alto_viv'] = datos_corr['alto_total_viv'] / datos_corr['pob_total_viv']\n",
    "datos_corr['pctg_medio_viv'] = datos_corr['medio_total_viv'] / datos_corr['pob_total_viv']\n",
    "datos_corr['pctg_bajo_viv'] = datos_corr['bajo_total_viv'] / datos_corr['pob_total_viv']"
   ]
  },
  {
   "cell_type": "code",
   "execution_count": 14,
   "metadata": {},
   "outputs": [],
   "source": [
    "datos_corr.reset_index(inplace=True)\n",
    "datos_corr = datos_corr.loc[:,['alcaldia','pctg_alto_tel', 'pctg_medio_tel', 'pctg_bajo_tel', 'pctg_alto_viv', 'pctg_medio_viv', 'pctg_bajo_viv']]"
   ]
  },
  {
   "cell_type": "code",
   "execution_count": 16,
   "metadata": {},
   "outputs": [],
   "source": [
    "datos_corr.to_csv(r'C:\\Users\\samue\\OneDrive\\Documents\\GitHub\\captain_planet_sammy\\captain-planet\\analisis_maltrato_animal\\data\\clean\\datos_desarrollo')"
   ]
  },
  {
   "cell_type": "code",
   "execution_count": 61,
   "metadata": {},
   "outputs": [],
   "source": [
    "enriquecimiento(datos_corr, df_victimas,'alcaldiahechos',['idcarpeta'],['num_carpetas'],'conteo')"
   ]
  },
  {
   "cell_type": "code",
   "execution_count": 62,
   "metadata": {},
   "outputs": [],
   "source": [
    "datos_corr = datos_corr.loc[:,['pctg_alto_tel', 'pctg_medio_tel', 'pctg_bajo_tel', 'pctg_alto_viv', 'pctg_medio_viv', 'pctg_bajo_viv','num_carpetas', 'maltrato_fisico','intemperie_o_inmovilidad','subalimentacion','num_denuncias',]]"
   ]
  },
  {
   "cell_type": "code",
   "execution_count": 63,
   "metadata": {},
   "outputs": [
    {
     "data": {
      "text/html": [
       "<div>\n",
       "<style scoped>\n",
       "    .dataframe tbody tr th:only-of-type {\n",
       "        vertical-align: middle;\n",
       "    }\n",
       "\n",
       "    .dataframe tbody tr th {\n",
       "        vertical-align: top;\n",
       "    }\n",
       "\n",
       "    .dataframe thead th {\n",
       "        text-align: right;\n",
       "    }\n",
       "</style>\n",
       "<table border=\"1\" class=\"dataframe\">\n",
       "  <thead>\n",
       "    <tr style=\"text-align: right;\">\n",
       "      <th></th>\n",
       "      <th>pctg_alto_tel</th>\n",
       "      <th>pctg_medio_tel</th>\n",
       "      <th>pctg_bajo_tel</th>\n",
       "      <th>pctg_alto_viv</th>\n",
       "      <th>pctg_medio_viv</th>\n",
       "      <th>pctg_bajo_viv</th>\n",
       "      <th>num_carpetas</th>\n",
       "      <th>maltrato_fisico</th>\n",
       "      <th>intemperie_o_inmovilidad</th>\n",
       "      <th>subalimentacion</th>\n",
       "      <th>num_denuncias</th>\n",
       "    </tr>\n",
       "    <tr>\n",
       "      <th>alcaldia</th>\n",
       "      <th></th>\n",
       "      <th></th>\n",
       "      <th></th>\n",
       "      <th></th>\n",
       "      <th></th>\n",
       "      <th></th>\n",
       "      <th></th>\n",
       "      <th></th>\n",
       "      <th></th>\n",
       "      <th></th>\n",
       "      <th></th>\n",
       "    </tr>\n",
       "  </thead>\n",
       "  <tbody>\n",
       "    <tr>\n",
       "      <th>alvaro obregon</th>\n",
       "      <td>0.631740</td>\n",
       "      <td>0.325952</td>\n",
       "      <td>0.042308</td>\n",
       "      <td>0.285429</td>\n",
       "      <td>0.278947</td>\n",
       "      <td>0.435624</td>\n",
       "      <td>27183.0</td>\n",
       "      <td>93.0</td>\n",
       "      <td>587.0</td>\n",
       "      <td>522.0</td>\n",
       "      <td>774</td>\n",
       "    </tr>\n",
       "    <tr>\n",
       "      <th>azcapotzalco</th>\n",
       "      <td>0.642261</td>\n",
       "      <td>0.317373</td>\n",
       "      <td>0.040366</td>\n",
       "      <td>0.283898</td>\n",
       "      <td>0.388635</td>\n",
       "      <td>0.327467</td>\n",
       "      <td>16808.0</td>\n",
       "      <td>65.0</td>\n",
       "      <td>371.0</td>\n",
       "      <td>327.0</td>\n",
       "      <td>533</td>\n",
       "    </tr>\n",
       "    <tr>\n",
       "      <th>benito juarez</th>\n",
       "      <td>0.796607</td>\n",
       "      <td>0.190274</td>\n",
       "      <td>0.013119</td>\n",
       "      <td>0.582020</td>\n",
       "      <td>0.294547</td>\n",
       "      <td>0.123433</td>\n",
       "      <td>29415.0</td>\n",
       "      <td>72.0</td>\n",
       "      <td>419.0</td>\n",
       "      <td>316.0</td>\n",
       "      <td>600</td>\n",
       "    </tr>\n",
       "    <tr>\n",
       "      <th>coyoacan</th>\n",
       "      <td>0.713584</td>\n",
       "      <td>0.257422</td>\n",
       "      <td>0.028995</td>\n",
       "      <td>0.436234</td>\n",
       "      <td>0.276561</td>\n",
       "      <td>0.287205</td>\n",
       "      <td>23512.0</td>\n",
       "      <td>70.0</td>\n",
       "      <td>473.0</td>\n",
       "      <td>408.0</td>\n",
       "      <td>671</td>\n",
       "    </tr>\n",
       "    <tr>\n",
       "      <th>cuajimalpa de morelos</th>\n",
       "      <td>0.661551</td>\n",
       "      <td>0.298886</td>\n",
       "      <td>0.039562</td>\n",
       "      <td>0.396824</td>\n",
       "      <td>0.178556</td>\n",
       "      <td>0.424621</td>\n",
       "      <td>5462.0</td>\n",
       "      <td>14.0</td>\n",
       "      <td>136.0</td>\n",
       "      <td>119.0</td>\n",
       "      <td>190</td>\n",
       "    </tr>\n",
       "    <tr>\n",
       "      <th>cuauhtemoc</th>\n",
       "      <td>0.650324</td>\n",
       "      <td>0.317112</td>\n",
       "      <td>0.032564</td>\n",
       "      <td>0.361751</td>\n",
       "      <td>0.352035</td>\n",
       "      <td>0.286213</td>\n",
       "      <td>53570.0</td>\n",
       "      <td>88.0</td>\n",
       "      <td>498.0</td>\n",
       "      <td>484.0</td>\n",
       "      <td>743</td>\n",
       "    </tr>\n",
       "    <tr>\n",
       "      <th>gustavo a madero</th>\n",
       "      <td>0.594246</td>\n",
       "      <td>0.354137</td>\n",
       "      <td>0.051616</td>\n",
       "      <td>0.258779</td>\n",
       "      <td>0.317495</td>\n",
       "      <td>0.423727</td>\n",
       "      <td>37813.0</td>\n",
       "      <td>132.0</td>\n",
       "      <td>825.0</td>\n",
       "      <td>768.0</td>\n",
       "      <td>1174</td>\n",
       "    </tr>\n",
       "    <tr>\n",
       "      <th>iztacalco</th>\n",
       "      <td>0.650549</td>\n",
       "      <td>0.324027</td>\n",
       "      <td>0.025424</td>\n",
       "      <td>0.270853</td>\n",
       "      <td>0.406558</td>\n",
       "      <td>0.322589</td>\n",
       "      <td>15712.0</td>\n",
       "      <td>53.0</td>\n",
       "      <td>359.0</td>\n",
       "      <td>314.0</td>\n",
       "      <td>484</td>\n",
       "    </tr>\n",
       "    <tr>\n",
       "      <th>iztapalapa</th>\n",
       "      <td>0.541203</td>\n",
       "      <td>0.395678</td>\n",
       "      <td>0.063119</td>\n",
       "      <td>0.169541</td>\n",
       "      <td>0.302182</td>\n",
       "      <td>0.528277</td>\n",
       "      <td>58687.0</td>\n",
       "      <td>220.0</td>\n",
       "      <td>1315.0</td>\n",
       "      <td>1209.0</td>\n",
       "      <td>1782</td>\n",
       "    </tr>\n",
       "    <tr>\n",
       "      <th>la magdalena contreras</th>\n",
       "      <td>0.593867</td>\n",
       "      <td>0.348388</td>\n",
       "      <td>0.057745</td>\n",
       "      <td>0.211119</td>\n",
       "      <td>0.204944</td>\n",
       "      <td>0.583937</td>\n",
       "      <td>6263.0</td>\n",
       "      <td>29.0</td>\n",
       "      <td>202.0</td>\n",
       "      <td>166.0</td>\n",
       "      <td>254</td>\n",
       "    </tr>\n",
       "    <tr>\n",
       "      <th>miguel hidalgo</th>\n",
       "      <td>0.741635</td>\n",
       "      <td>0.235032</td>\n",
       "      <td>0.023333</td>\n",
       "      <td>0.539676</td>\n",
       "      <td>0.284795</td>\n",
       "      <td>0.175529</td>\n",
       "      <td>24321.0</td>\n",
       "      <td>54.0</td>\n",
       "      <td>273.0</td>\n",
       "      <td>220.0</td>\n",
       "      <td>409</td>\n",
       "    </tr>\n",
       "    <tr>\n",
       "      <th>milpa alta</th>\n",
       "      <td>0.385711</td>\n",
       "      <td>0.504733</td>\n",
       "      <td>0.109556</td>\n",
       "      <td>0.077758</td>\n",
       "      <td>0.211640</td>\n",
       "      <td>0.710602</td>\n",
       "      <td>2537.0</td>\n",
       "      <td>10.0</td>\n",
       "      <td>63.0</td>\n",
       "      <td>66.0</td>\n",
       "      <td>84</td>\n",
       "    </tr>\n",
       "    <tr>\n",
       "      <th>tlahuac</th>\n",
       "      <td>0.529175</td>\n",
       "      <td>0.406625</td>\n",
       "      <td>0.064199</td>\n",
       "      <td>0.137286</td>\n",
       "      <td>0.334596</td>\n",
       "      <td>0.528118</td>\n",
       "      <td>9394.0</td>\n",
       "      <td>43.0</td>\n",
       "      <td>250.0</td>\n",
       "      <td>223.0</td>\n",
       "      <td>324</td>\n",
       "    </tr>\n",
       "    <tr>\n",
       "      <th>tlalpan</th>\n",
       "      <td>0.621089</td>\n",
       "      <td>0.338082</td>\n",
       "      <td>0.040828</td>\n",
       "      <td>0.281486</td>\n",
       "      <td>0.254873</td>\n",
       "      <td>0.463641</td>\n",
       "      <td>21657.0</td>\n",
       "      <td>76.0</td>\n",
       "      <td>555.0</td>\n",
       "      <td>497.0</td>\n",
       "      <td>754</td>\n",
       "    </tr>\n",
       "    <tr>\n",
       "      <th>venustiano carranza</th>\n",
       "      <td>0.617537</td>\n",
       "      <td>0.344847</td>\n",
       "      <td>0.037616</td>\n",
       "      <td>0.277159</td>\n",
       "      <td>0.337133</td>\n",
       "      <td>0.385708</td>\n",
       "      <td>22159.0</td>\n",
       "      <td>75.0</td>\n",
       "      <td>378.0</td>\n",
       "      <td>340.0</td>\n",
       "      <td>516</td>\n",
       "    </tr>\n",
       "    <tr>\n",
       "      <th>xochimilco</th>\n",
       "      <td>0.559208</td>\n",
       "      <td>0.383799</td>\n",
       "      <td>0.056993</td>\n",
       "      <td>0.181623</td>\n",
       "      <td>0.226763</td>\n",
       "      <td>0.591614</td>\n",
       "      <td>11589.0</td>\n",
       "      <td>64.0</td>\n",
       "      <td>353.0</td>\n",
       "      <td>320.0</td>\n",
       "      <td>473</td>\n",
       "    </tr>\n",
       "  </tbody>\n",
       "</table>\n",
       "</div>"
      ],
      "text/plain": [
       "                        pctg_alto_tel  pctg_medio_tel  pctg_bajo_tel  \\\n",
       "alcaldia                                                               \n",
       "alvaro obregon               0.631740        0.325952       0.042308   \n",
       "azcapotzalco                 0.642261        0.317373       0.040366   \n",
       "benito juarez                0.796607        0.190274       0.013119   \n",
       "coyoacan                     0.713584        0.257422       0.028995   \n",
       "cuajimalpa de morelos        0.661551        0.298886       0.039562   \n",
       "cuauhtemoc                   0.650324        0.317112       0.032564   \n",
       "gustavo a madero             0.594246        0.354137       0.051616   \n",
       "iztacalco                    0.650549        0.324027       0.025424   \n",
       "iztapalapa                   0.541203        0.395678       0.063119   \n",
       "la magdalena contreras       0.593867        0.348388       0.057745   \n",
       "miguel hidalgo               0.741635        0.235032       0.023333   \n",
       "milpa alta                   0.385711        0.504733       0.109556   \n",
       "tlahuac                      0.529175        0.406625       0.064199   \n",
       "tlalpan                      0.621089        0.338082       0.040828   \n",
       "venustiano carranza          0.617537        0.344847       0.037616   \n",
       "xochimilco                   0.559208        0.383799       0.056993   \n",
       "\n",
       "                        pctg_alto_viv  pctg_medio_viv  pctg_bajo_viv  \\\n",
       "alcaldia                                                               \n",
       "alvaro obregon               0.285429        0.278947       0.435624   \n",
       "azcapotzalco                 0.283898        0.388635       0.327467   \n",
       "benito juarez                0.582020        0.294547       0.123433   \n",
       "coyoacan                     0.436234        0.276561       0.287205   \n",
       "cuajimalpa de morelos        0.396824        0.178556       0.424621   \n",
       "cuauhtemoc                   0.361751        0.352035       0.286213   \n",
       "gustavo a madero             0.258779        0.317495       0.423727   \n",
       "iztacalco                    0.270853        0.406558       0.322589   \n",
       "iztapalapa                   0.169541        0.302182       0.528277   \n",
       "la magdalena contreras       0.211119        0.204944       0.583937   \n",
       "miguel hidalgo               0.539676        0.284795       0.175529   \n",
       "milpa alta                   0.077758        0.211640       0.710602   \n",
       "tlahuac                      0.137286        0.334596       0.528118   \n",
       "tlalpan                      0.281486        0.254873       0.463641   \n",
       "venustiano carranza          0.277159        0.337133       0.385708   \n",
       "xochimilco                   0.181623        0.226763       0.591614   \n",
       "\n",
       "                        num_carpetas  maltrato_fisico  \\\n",
       "alcaldia                                                \n",
       "alvaro obregon               27183.0             93.0   \n",
       "azcapotzalco                 16808.0             65.0   \n",
       "benito juarez                29415.0             72.0   \n",
       "coyoacan                     23512.0             70.0   \n",
       "cuajimalpa de morelos         5462.0             14.0   \n",
       "cuauhtemoc                   53570.0             88.0   \n",
       "gustavo a madero             37813.0            132.0   \n",
       "iztacalco                    15712.0             53.0   \n",
       "iztapalapa                   58687.0            220.0   \n",
       "la magdalena contreras        6263.0             29.0   \n",
       "miguel hidalgo               24321.0             54.0   \n",
       "milpa alta                    2537.0             10.0   \n",
       "tlahuac                       9394.0             43.0   \n",
       "tlalpan                      21657.0             76.0   \n",
       "venustiano carranza          22159.0             75.0   \n",
       "xochimilco                   11589.0             64.0   \n",
       "\n",
       "                        intemperie_o_inmovilidad  subalimentacion  \\\n",
       "alcaldia                                                            \n",
       "alvaro obregon                             587.0            522.0   \n",
       "azcapotzalco                               371.0            327.0   \n",
       "benito juarez                              419.0            316.0   \n",
       "coyoacan                                   473.0            408.0   \n",
       "cuajimalpa de morelos                      136.0            119.0   \n",
       "cuauhtemoc                                 498.0            484.0   \n",
       "gustavo a madero                           825.0            768.0   \n",
       "iztacalco                                  359.0            314.0   \n",
       "iztapalapa                                1315.0           1209.0   \n",
       "la magdalena contreras                     202.0            166.0   \n",
       "miguel hidalgo                             273.0            220.0   \n",
       "milpa alta                                  63.0             66.0   \n",
       "tlahuac                                    250.0            223.0   \n",
       "tlalpan                                    555.0            497.0   \n",
       "venustiano carranza                        378.0            340.0   \n",
       "xochimilco                                 353.0            320.0   \n",
       "\n",
       "                        num_denuncias  \n",
       "alcaldia                               \n",
       "alvaro obregon                    774  \n",
       "azcapotzalco                      533  \n",
       "benito juarez                     600  \n",
       "coyoacan                          671  \n",
       "cuajimalpa de morelos             190  \n",
       "cuauhtemoc                        743  \n",
       "gustavo a madero                 1174  \n",
       "iztacalco                         484  \n",
       "iztapalapa                       1782  \n",
       "la magdalena contreras            254  \n",
       "miguel hidalgo                    409  \n",
       "milpa alta                         84  \n",
       "tlahuac                           324  \n",
       "tlalpan                           754  \n",
       "venustiano carranza               516  \n",
       "xochimilco                        473  "
      ]
     },
     "execution_count": 63,
     "metadata": {},
     "output_type": "execute_result"
    }
   ],
   "source": [
    "datos_corr"
   ]
  },
  {
   "cell_type": "code",
   "execution_count": 64,
   "metadata": {},
   "outputs": [
    {
     "data": {
      "application/vnd.plotly.v1+json": {
       "config": {
        "plotlyServerURL": "https://plot.ly"
       },
       "data": [
        {
         "coloraxis": "coloraxis",
         "hovertemplate": "x: %{x}<br>y: %{y}<br>color: %{z}<extra></extra>",
         "name": "0",
         "texttemplate": "%{z}",
         "type": "heatmap",
         "x": [
          "pctg_alto_tel",
          "pctg_medio_tel",
          "pctg_bajo_tel",
          "pctg_alto_viv",
          "pctg_medio_viv",
          "pctg_bajo_viv",
          "num_carpetas",
          "maltrato_fisico",
          "intemperie_o_inmovilidad",
          "subalimentacion",
          "num_denuncias"
         ],
         "xaxis": "x",
         "y": [
          "pctg_alto_tel",
          "pctg_medio_tel",
          "pctg_bajo_tel",
          "pctg_alto_viv",
          "pctg_medio_viv",
          "pctg_bajo_viv",
          "num_carpetas",
          "maltrato_fisico",
          "intemperie_o_inmovilidad",
          "subalimentacion",
          "num_denuncias"
         ],
         "yaxis": "y",
         "z": [
          [
           1,
           -0.996291107540437,
           -0.9604903980989968,
           0.939916059319989,
           0.22073948140972327,
           -0.9223303562156293,
           0.22782212443518096,
           0.010898790672616305,
           0.010456431199436166,
           -0.03949012625098021,
           0.03937794487087906
          ],
          [
           -0.996291107540437,
           1,
           0.9329801255585514,
           -0.9554244037579689,
           -0.1655884655724896,
           0.9130949435300385,
           -0.2072737290105632,
           0.009497230693825829,
           0.00946530114436034,
           0.061258834611279,
           -0.019954402353199185
          ],
          [
           -0.9604903980989968,
           0.9329801255585514,
           1,
           -0.8413440535694372,
           -0.38775298604731306,
           0.9046964119012635,
           -0.28255059546647837,
           -0.07630722764822674,
           -0.07435359099512223,
           -0.032953511686165955,
           -0.10017411170350295
          ],
          [
           0.939916059319989,
           -0.9554244037579689,
           -0.8413440535694372,
           1,
           0.0629077727130966,
           -0.9097748146803618,
           0.209283285126125,
           -0.07275373657287441,
           -0.0816642512790579,
           -0.12822692627993088,
           -0.0446976017368461
          ],
          [
           0.22073948140972327,
           -0.1655884655724896,
           -0.38775298604731306,
           0.0629077727130966,
           1,
           -0.47151187288240964,
           0.40301006233672787,
           0.3221593056078308,
           0.27831510142370836,
           0.2777201592797861,
           0.29719972693846486
          ],
          [
           -0.9223303562156293,
           0.9130949435300385,
           0.9046964119012635,
           -0.9097748146803618,
           -0.47151187288240964,
           1,
           -0.3525471114347917,
           -0.06970849640079747,
           -0.04359913583058004,
           -0.00220844615798681,
           -0.08411783684129519
          ],
          [
           0.22782212443518096,
           -0.2072737290105632,
           -0.28255059546647837,
           0.209283285126125,
           0.40301006233672787,
           -0.3525471114347917,
           1,
           0.8653103454496223,
           0.839220770462066,
           0.841521222478992,
           0.8629376002765047
          ],
          [
           0.010898790672616305,
           0.009497230693825829,
           -0.07630722764822674,
           -0.07275373657287441,
           0.3221593056078308,
           -0.06970849640079747,
           0.8653103454496223,
           1,
           0.989010705367891,
           0.9867763706182185,
           0.9891377913225582
          ],
          [
           0.010456431199436166,
           0.00946530114436034,
           -0.07435359099512223,
           -0.0816642512790579,
           0.27831510142370836,
           -0.04359913583058004,
           0.839220770462066,
           0.989010705367891,
           1,
           0.9972339256213463,
           0.997919197288396
          ],
          [
           -0.03949012625098021,
           0.061258834611279,
           -0.032953511686165955,
           -0.12822692627993088,
           0.2777201592797861,
           -0.00220844615798681,
           0.841521222478992,
           0.9867763706182185,
           0.9972339256213463,
           1,
           0.9955278051317749
          ],
          [
           0.03937794487087906,
           -0.019954402353199185,
           -0.10017411170350295,
           -0.0446976017368461,
           0.29719972693846486,
           -0.08411783684129519,
           0.8629376002765047,
           0.9891377913225582,
           0.997919197288396,
           0.9955278051317749,
           1
          ]
         ]
        }
       ],
       "layout": {
        "coloraxis": {
         "colorscale": [
          [
           0,
           "#0d0887"
          ],
          [
           0.1111111111111111,
           "#46039f"
          ],
          [
           0.2222222222222222,
           "#7201a8"
          ],
          [
           0.3333333333333333,
           "#9c179e"
          ],
          [
           0.4444444444444444,
           "#bd3786"
          ],
          [
           0.5555555555555556,
           "#d8576b"
          ],
          [
           0.6666666666666666,
           "#ed7953"
          ],
          [
           0.7777777777777778,
           "#fb9f3a"
          ],
          [
           0.8888888888888888,
           "#fdca26"
          ],
          [
           1,
           "#f0f921"
          ]
         ]
        },
        "margin": {
         "t": 60
        },
        "template": {
         "data": {
          "bar": [
           {
            "error_x": {
             "color": "#2a3f5f"
            },
            "error_y": {
             "color": "#2a3f5f"
            },
            "marker": {
             "line": {
              "color": "#E5ECF6",
              "width": 0.5
             },
             "pattern": {
              "fillmode": "overlay",
              "size": 10,
              "solidity": 0.2
             }
            },
            "type": "bar"
           }
          ],
          "barpolar": [
           {
            "marker": {
             "line": {
              "color": "#E5ECF6",
              "width": 0.5
             },
             "pattern": {
              "fillmode": "overlay",
              "size": 10,
              "solidity": 0.2
             }
            },
            "type": "barpolar"
           }
          ],
          "carpet": [
           {
            "aaxis": {
             "endlinecolor": "#2a3f5f",
             "gridcolor": "white",
             "linecolor": "white",
             "minorgridcolor": "white",
             "startlinecolor": "#2a3f5f"
            },
            "baxis": {
             "endlinecolor": "#2a3f5f",
             "gridcolor": "white",
             "linecolor": "white",
             "minorgridcolor": "white",
             "startlinecolor": "#2a3f5f"
            },
            "type": "carpet"
           }
          ],
          "choropleth": [
           {
            "colorbar": {
             "outlinewidth": 0,
             "ticks": ""
            },
            "type": "choropleth"
           }
          ],
          "contour": [
           {
            "colorbar": {
             "outlinewidth": 0,
             "ticks": ""
            },
            "colorscale": [
             [
              0,
              "#0d0887"
             ],
             [
              0.1111111111111111,
              "#46039f"
             ],
             [
              0.2222222222222222,
              "#7201a8"
             ],
             [
              0.3333333333333333,
              "#9c179e"
             ],
             [
              0.4444444444444444,
              "#bd3786"
             ],
             [
              0.5555555555555556,
              "#d8576b"
             ],
             [
              0.6666666666666666,
              "#ed7953"
             ],
             [
              0.7777777777777778,
              "#fb9f3a"
             ],
             [
              0.8888888888888888,
              "#fdca26"
             ],
             [
              1,
              "#f0f921"
             ]
            ],
            "type": "contour"
           }
          ],
          "contourcarpet": [
           {
            "colorbar": {
             "outlinewidth": 0,
             "ticks": ""
            },
            "type": "contourcarpet"
           }
          ],
          "heatmap": [
           {
            "colorbar": {
             "outlinewidth": 0,
             "ticks": ""
            },
            "colorscale": [
             [
              0,
              "#0d0887"
             ],
             [
              0.1111111111111111,
              "#46039f"
             ],
             [
              0.2222222222222222,
              "#7201a8"
             ],
             [
              0.3333333333333333,
              "#9c179e"
             ],
             [
              0.4444444444444444,
              "#bd3786"
             ],
             [
              0.5555555555555556,
              "#d8576b"
             ],
             [
              0.6666666666666666,
              "#ed7953"
             ],
             [
              0.7777777777777778,
              "#fb9f3a"
             ],
             [
              0.8888888888888888,
              "#fdca26"
             ],
             [
              1,
              "#f0f921"
             ]
            ],
            "type": "heatmap"
           }
          ],
          "heatmapgl": [
           {
            "colorbar": {
             "outlinewidth": 0,
             "ticks": ""
            },
            "colorscale": [
             [
              0,
              "#0d0887"
             ],
             [
              0.1111111111111111,
              "#46039f"
             ],
             [
              0.2222222222222222,
              "#7201a8"
             ],
             [
              0.3333333333333333,
              "#9c179e"
             ],
             [
              0.4444444444444444,
              "#bd3786"
             ],
             [
              0.5555555555555556,
              "#d8576b"
             ],
             [
              0.6666666666666666,
              "#ed7953"
             ],
             [
              0.7777777777777778,
              "#fb9f3a"
             ],
             [
              0.8888888888888888,
              "#fdca26"
             ],
             [
              1,
              "#f0f921"
             ]
            ],
            "type": "heatmapgl"
           }
          ],
          "histogram": [
           {
            "marker": {
             "pattern": {
              "fillmode": "overlay",
              "size": 10,
              "solidity": 0.2
             }
            },
            "type": "histogram"
           }
          ],
          "histogram2d": [
           {
            "colorbar": {
             "outlinewidth": 0,
             "ticks": ""
            },
            "colorscale": [
             [
              0,
              "#0d0887"
             ],
             [
              0.1111111111111111,
              "#46039f"
             ],
             [
              0.2222222222222222,
              "#7201a8"
             ],
             [
              0.3333333333333333,
              "#9c179e"
             ],
             [
              0.4444444444444444,
              "#bd3786"
             ],
             [
              0.5555555555555556,
              "#d8576b"
             ],
             [
              0.6666666666666666,
              "#ed7953"
             ],
             [
              0.7777777777777778,
              "#fb9f3a"
             ],
             [
              0.8888888888888888,
              "#fdca26"
             ],
             [
              1,
              "#f0f921"
             ]
            ],
            "type": "histogram2d"
           }
          ],
          "histogram2dcontour": [
           {
            "colorbar": {
             "outlinewidth": 0,
             "ticks": ""
            },
            "colorscale": [
             [
              0,
              "#0d0887"
             ],
             [
              0.1111111111111111,
              "#46039f"
             ],
             [
              0.2222222222222222,
              "#7201a8"
             ],
             [
              0.3333333333333333,
              "#9c179e"
             ],
             [
              0.4444444444444444,
              "#bd3786"
             ],
             [
              0.5555555555555556,
              "#d8576b"
             ],
             [
              0.6666666666666666,
              "#ed7953"
             ],
             [
              0.7777777777777778,
              "#fb9f3a"
             ],
             [
              0.8888888888888888,
              "#fdca26"
             ],
             [
              1,
              "#f0f921"
             ]
            ],
            "type": "histogram2dcontour"
           }
          ],
          "mesh3d": [
           {
            "colorbar": {
             "outlinewidth": 0,
             "ticks": ""
            },
            "type": "mesh3d"
           }
          ],
          "parcoords": [
           {
            "line": {
             "colorbar": {
              "outlinewidth": 0,
              "ticks": ""
             }
            },
            "type": "parcoords"
           }
          ],
          "pie": [
           {
            "automargin": true,
            "type": "pie"
           }
          ],
          "scatter": [
           {
            "fillpattern": {
             "fillmode": "overlay",
             "size": 10,
             "solidity": 0.2
            },
            "type": "scatter"
           }
          ],
          "scatter3d": [
           {
            "line": {
             "colorbar": {
              "outlinewidth": 0,
              "ticks": ""
             }
            },
            "marker": {
             "colorbar": {
              "outlinewidth": 0,
              "ticks": ""
             }
            },
            "type": "scatter3d"
           }
          ],
          "scattercarpet": [
           {
            "marker": {
             "colorbar": {
              "outlinewidth": 0,
              "ticks": ""
             }
            },
            "type": "scattercarpet"
           }
          ],
          "scattergeo": [
           {
            "marker": {
             "colorbar": {
              "outlinewidth": 0,
              "ticks": ""
             }
            },
            "type": "scattergeo"
           }
          ],
          "scattergl": [
           {
            "marker": {
             "colorbar": {
              "outlinewidth": 0,
              "ticks": ""
             }
            },
            "type": "scattergl"
           }
          ],
          "scattermapbox": [
           {
            "marker": {
             "colorbar": {
              "outlinewidth": 0,
              "ticks": ""
             }
            },
            "type": "scattermapbox"
           }
          ],
          "scatterpolar": [
           {
            "marker": {
             "colorbar": {
              "outlinewidth": 0,
              "ticks": ""
             }
            },
            "type": "scatterpolar"
           }
          ],
          "scatterpolargl": [
           {
            "marker": {
             "colorbar": {
              "outlinewidth": 0,
              "ticks": ""
             }
            },
            "type": "scatterpolargl"
           }
          ],
          "scatterternary": [
           {
            "marker": {
             "colorbar": {
              "outlinewidth": 0,
              "ticks": ""
             }
            },
            "type": "scatterternary"
           }
          ],
          "surface": [
           {
            "colorbar": {
             "outlinewidth": 0,
             "ticks": ""
            },
            "colorscale": [
             [
              0,
              "#0d0887"
             ],
             [
              0.1111111111111111,
              "#46039f"
             ],
             [
              0.2222222222222222,
              "#7201a8"
             ],
             [
              0.3333333333333333,
              "#9c179e"
             ],
             [
              0.4444444444444444,
              "#bd3786"
             ],
             [
              0.5555555555555556,
              "#d8576b"
             ],
             [
              0.6666666666666666,
              "#ed7953"
             ],
             [
              0.7777777777777778,
              "#fb9f3a"
             ],
             [
              0.8888888888888888,
              "#fdca26"
             ],
             [
              1,
              "#f0f921"
             ]
            ],
            "type": "surface"
           }
          ],
          "table": [
           {
            "cells": {
             "fill": {
              "color": "#EBF0F8"
             },
             "line": {
              "color": "white"
             }
            },
            "header": {
             "fill": {
              "color": "#C8D4E3"
             },
             "line": {
              "color": "white"
             }
            },
            "type": "table"
           }
          ]
         },
         "layout": {
          "annotationdefaults": {
           "arrowcolor": "#2a3f5f",
           "arrowhead": 0,
           "arrowwidth": 1
          },
          "autotypenumbers": "strict",
          "coloraxis": {
           "colorbar": {
            "outlinewidth": 0,
            "ticks": ""
           }
          },
          "colorscale": {
           "diverging": [
            [
             0,
             "#8e0152"
            ],
            [
             0.1,
             "#c51b7d"
            ],
            [
             0.2,
             "#de77ae"
            ],
            [
             0.3,
             "#f1b6da"
            ],
            [
             0.4,
             "#fde0ef"
            ],
            [
             0.5,
             "#f7f7f7"
            ],
            [
             0.6,
             "#e6f5d0"
            ],
            [
             0.7,
             "#b8e186"
            ],
            [
             0.8,
             "#7fbc41"
            ],
            [
             0.9,
             "#4d9221"
            ],
            [
             1,
             "#276419"
            ]
           ],
           "sequential": [
            [
             0,
             "#0d0887"
            ],
            [
             0.1111111111111111,
             "#46039f"
            ],
            [
             0.2222222222222222,
             "#7201a8"
            ],
            [
             0.3333333333333333,
             "#9c179e"
            ],
            [
             0.4444444444444444,
             "#bd3786"
            ],
            [
             0.5555555555555556,
             "#d8576b"
            ],
            [
             0.6666666666666666,
             "#ed7953"
            ],
            [
             0.7777777777777778,
             "#fb9f3a"
            ],
            [
             0.8888888888888888,
             "#fdca26"
            ],
            [
             1,
             "#f0f921"
            ]
           ],
           "sequentialminus": [
            [
             0,
             "#0d0887"
            ],
            [
             0.1111111111111111,
             "#46039f"
            ],
            [
             0.2222222222222222,
             "#7201a8"
            ],
            [
             0.3333333333333333,
             "#9c179e"
            ],
            [
             0.4444444444444444,
             "#bd3786"
            ],
            [
             0.5555555555555556,
             "#d8576b"
            ],
            [
             0.6666666666666666,
             "#ed7953"
            ],
            [
             0.7777777777777778,
             "#fb9f3a"
            ],
            [
             0.8888888888888888,
             "#fdca26"
            ],
            [
             1,
             "#f0f921"
            ]
           ]
          },
          "colorway": [
           "#636efa",
           "#EF553B",
           "#00cc96",
           "#ab63fa",
           "#FFA15A",
           "#19d3f3",
           "#FF6692",
           "#B6E880",
           "#FF97FF",
           "#FECB52"
          ],
          "font": {
           "color": "#2a3f5f"
          },
          "geo": {
           "bgcolor": "white",
           "lakecolor": "white",
           "landcolor": "#E5ECF6",
           "showlakes": true,
           "showland": true,
           "subunitcolor": "white"
          },
          "hoverlabel": {
           "align": "left"
          },
          "hovermode": "closest",
          "mapbox": {
           "style": "light"
          },
          "paper_bgcolor": "white",
          "plot_bgcolor": "#E5ECF6",
          "polar": {
           "angularaxis": {
            "gridcolor": "white",
            "linecolor": "white",
            "ticks": ""
           },
           "bgcolor": "#E5ECF6",
           "radialaxis": {
            "gridcolor": "white",
            "linecolor": "white",
            "ticks": ""
           }
          },
          "scene": {
           "xaxis": {
            "backgroundcolor": "#E5ECF6",
            "gridcolor": "white",
            "gridwidth": 2,
            "linecolor": "white",
            "showbackground": true,
            "ticks": "",
            "zerolinecolor": "white"
           },
           "yaxis": {
            "backgroundcolor": "#E5ECF6",
            "gridcolor": "white",
            "gridwidth": 2,
            "linecolor": "white",
            "showbackground": true,
            "ticks": "",
            "zerolinecolor": "white"
           },
           "zaxis": {
            "backgroundcolor": "#E5ECF6",
            "gridcolor": "white",
            "gridwidth": 2,
            "linecolor": "white",
            "showbackground": true,
            "ticks": "",
            "zerolinecolor": "white"
           }
          },
          "shapedefaults": {
           "line": {
            "color": "#2a3f5f"
           }
          },
          "ternary": {
           "aaxis": {
            "gridcolor": "white",
            "linecolor": "white",
            "ticks": ""
           },
           "baxis": {
            "gridcolor": "white",
            "linecolor": "white",
            "ticks": ""
           },
           "bgcolor": "#E5ECF6",
           "caxis": {
            "gridcolor": "white",
            "linecolor": "white",
            "ticks": ""
           }
          },
          "title": {
           "x": 0.05
          },
          "xaxis": {
           "automargin": true,
           "gridcolor": "white",
           "linecolor": "white",
           "ticks": "",
           "title": {
            "standoff": 15
           },
           "zerolinecolor": "white",
           "zerolinewidth": 2
          },
          "yaxis": {
           "automargin": true,
           "gridcolor": "white",
           "linecolor": "white",
           "ticks": "",
           "title": {
            "standoff": 15
           },
           "zerolinecolor": "white",
           "zerolinewidth": 2
          }
         }
        },
        "xaxis": {
         "anchor": "y",
         "constrain": "domain",
         "domain": [
          0,
          1
         ],
         "scaleanchor": "y"
        },
        "yaxis": {
         "anchor": "x",
         "autorange": "reversed",
         "constrain": "domain",
         "domain": [
          0,
          1
         ]
        }
       }
      }
     },
     "metadata": {},
     "output_type": "display_data"
    }
   ],
   "source": [
    "import plotly.express as px\n",
    "\n",
    "\n",
    "fig = px.imshow(datos_corr.corr(), text_auto=True)\n",
    "fig.show()"
   ]
  },
  {
   "cell_type": "markdown",
   "metadata": {},
   "source": [
    "-terminar mapas\n",
    "\n",
    "-checar lo del machine learning (tiempo)\n",
    "https://www.machinelearningplus.com/time-series/time-series-analysis-python/\n",
    "\n",
    "-darle a streamlit (diseñar modelo)\n",
    "    +series tiempo\n",
    "    +tfi df (https://scikit-learn.org/stable/tutorial/text_analytics/working_with_text_data.html)\n",
    "    +nubes de palabras\n",
    "    +correlaciones\n",
    "    +mapas\n",
    "\n",
    "-subclases\n",
    "\n",
    "-aniadir poblacion (peso a las alcaldias)\n",
    "\n",
    "-word relevance machine learning algorithms\n",
    "\n"
   ]
  }
 ],
 "metadata": {
  "kernelspec": {
   "display_name": "Python 3.10.4 ('env')",
   "language": "python",
   "name": "python3"
  },
  "language_info": {
   "codemirror_mode": {
    "name": "ipython",
    "version": 3
   },
   "file_extension": ".py",
   "mimetype": "text/x-python",
   "name": "python",
   "nbconvert_exporter": "python",
   "pygments_lexer": "ipython3",
   "version": "3.10.4"
  },
  "orig_nbformat": 4,
  "vscode": {
   "interpreter": {
    "hash": "c4144324fcff0bc5a8de6332d56aa7c47a05da9eb72c9e185f253733c7069112"
   }
  }
 },
 "nbformat": 4,
 "nbformat_minor": 2
}
