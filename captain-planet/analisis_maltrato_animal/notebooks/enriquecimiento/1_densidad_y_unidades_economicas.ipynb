{
 "cells": [
  {
   "cell_type": "code",
   "execution_count": 1,
   "metadata": {},
   "outputs": [],
   "source": [
    "import pandas as pd\n",
    "import numpy as np\n",
    "import funciones\n",
    "\n",
    "#base de datos con las denuncias\n",
    "\n",
    "df_maltrato_animal = pd.read_csv(r\"C:\\Users\\samue\\OneDrive\\Documents\\GitHub\\captain_planet_sammy\\captain-planet\\analisis_maltrato_animal\\data\\clean\\categorizado\\df_maltrato_animal_actualizado_categorizado\", encoding = 'latin')\n",
    "df_maltrato_animal[[\"fecha_de_recepcion\", \"fecha_de_ratificacion\", \"fecha_de_turno\", \"fecha_de_admision/radicacion\", \"fecha_de_conclusion\"]] = df_maltrato_animal[[\"fecha_de_recepcion\", \"fecha_de_ratificacion\", \"fecha_de_turno\", \"fecha_de_admision/radicacion\", \"fecha_de_conclusion\"]].apply(pd.to_datetime, errors = 'coerce')\n"
   ]
  },
  {
   "cell_type": "code",
   "execution_count": 2,
   "metadata": {},
   "outputs": [
    {
     "name": "stdout",
     "output_type": "stream",
     "text": [
      "PyTables is not installed. No support for HDF output.\n",
      "SQLalchemy is not installed. No support for SQL output.\n"
     ]
    }
   ],
   "source": [
    "from simpledbf import Dbf5\n",
    "\n",
    "dbf = Dbf5(r'C:\\Users\\samue\\OneDrive\\Documents\\GitHub\\captain_planet_sammy\\captain-planet\\data\\raw\\ri_11.dbf')\n",
    "\n",
    "#base de datos externa, densidad de poblacion\n",
    "df_pob = dbf.to_dataframe().dropna()\n",
    "\n",
    "\n",
    "funciones.estandarizacion(df_pob, 'colonia', 'alcaldia')"
   ]
  },
  {
   "cell_type": "code",
   "execution_count": 3,
   "metadata": {},
   "outputs": [],
   "source": [
    "dbf = Dbf5(r'C:\\Users\\samue\\OneDrive\\Documents\\GitHub\\captain_planet_sammy\\captain-planet\\data\\raw\\ue_comerciales_colonia.dbf')\n",
    "\n",
    "#base de datos externa, densidad de poblacion\n",
    "df_ue = dbf.to_dataframe().dropna()\n",
    "\n",
    "funciones.estandarizacion(df_ue, 'nombre', 'alcaldia')\n"
   ]
  },
  {
   "cell_type": "code",
   "execution_count": 4,
   "metadata": {},
   "outputs": [],
   "source": [
    "datos_corr = funciones.preparacion_enriquecimiento(df_maltrato_animal, 'alcaldia','colonia','id_denuncia')"
   ]
  },
  {
   "cell_type": "code",
   "execution_count": 5,
   "metadata": {},
   "outputs": [],
   "source": [
    "funciones.enriquecimiento(datos_corr, df_maltrato_animal,'alcaldia','colonia',['maltrato_fisico'],['maltrato_fisico'],'suma')\n",
    "funciones.enriquecimiento(datos_corr, df_maltrato_animal,'alcaldia','colonia',['intemperie_o_inmovilidad'],['intemperie_o_inmovilidad'],'suma')\n",
    "funciones.enriquecimiento(datos_corr, df_maltrato_animal,'alcaldia','colonia',['subalimentacion'],['subalimentacion'],'suma')"
   ]
  },
  {
   "cell_type": "code",
   "execution_count": 6,
   "metadata": {},
   "outputs": [],
   "source": [
    "funciones.enriquecimiento(datos_corr, df_pob, 'alcaldia','colonia', ['SUP_COL_M2', 'pob_2010'],['superficie_metros_cuadrados', 'poblacion_2010'], False)\n",
    "funciones.enriquecimiento(datos_corr, df_ue, 'alcaldia','nombre', ['ue', 'ind','com','serv'],['unidades_economicas','industriales','comerciales','servicios'], False)"
   ]
  },
  {
   "cell_type": "code",
   "execution_count": 7,
   "metadata": {},
   "outputs": [],
   "source": [
    "datos_corr['densidad']=(datos_corr['poblacion_2010'] / datos_corr['superficie_metros_cuadrados'])"
   ]
  },
  {
   "cell_type": "code",
   "execution_count": 8,
   "metadata": {},
   "outputs": [
    {
     "data": {
      "text/html": [
       "<div>\n",
       "<style scoped>\n",
       "    .dataframe tbody tr th:only-of-type {\n",
       "        vertical-align: middle;\n",
       "    }\n",
       "\n",
       "    .dataframe tbody tr th {\n",
       "        vertical-align: top;\n",
       "    }\n",
       "\n",
       "    .dataframe thead th {\n",
       "        text-align: right;\n",
       "    }\n",
       "</style>\n",
       "<table border=\"1\" class=\"dataframe\">\n",
       "  <thead>\n",
       "    <tr style=\"text-align: right;\">\n",
       "      <th></th>\n",
       "      <th></th>\n",
       "      <th>num_denuncias</th>\n",
       "      <th>maltrato_fisico</th>\n",
       "      <th>intemperie_o_inmovilidad</th>\n",
       "      <th>subalimentacion</th>\n",
       "      <th>superficie_metros_cuadrados</th>\n",
       "      <th>poblacion_2010</th>\n",
       "      <th>unidades_economicas</th>\n",
       "      <th>industriales</th>\n",
       "      <th>comerciales</th>\n",
       "      <th>servicios</th>\n",
       "      <th>densidad</th>\n",
       "    </tr>\n",
       "    <tr>\n",
       "      <th>alcaldia</th>\n",
       "      <th>colonia</th>\n",
       "      <th></th>\n",
       "      <th></th>\n",
       "      <th></th>\n",
       "      <th></th>\n",
       "      <th></th>\n",
       "      <th></th>\n",
       "      <th></th>\n",
       "      <th></th>\n",
       "      <th></th>\n",
       "      <th></th>\n",
       "      <th></th>\n",
       "    </tr>\n",
       "  </thead>\n",
       "  <tbody>\n",
       "    <tr>\n",
       "      <th rowspan=\"5\" valign=\"top\">alvaro obregon</th>\n",
       "      <th>1 victoria</th>\n",
       "      <td>6</td>\n",
       "      <td>0.0</td>\n",
       "      <td>4.0</td>\n",
       "      <td>4.0</td>\n",
       "      <td>69993.5</td>\n",
       "      <td>2351.0</td>\n",
       "      <td>74.0</td>\n",
       "      <td>5.0</td>\n",
       "      <td>40.0</td>\n",
       "      <td>28.0</td>\n",
       "      <td>0.033589</td>\n",
       "    </tr>\n",
       "    <tr>\n",
       "      <th>1 victoria seccion bosques</th>\n",
       "      <td>3</td>\n",
       "      <td>0.0</td>\n",
       "      <td>3.0</td>\n",
       "      <td>1.0</td>\n",
       "      <td>99323.3</td>\n",
       "      <td>4316.0</td>\n",
       "      <td>110.0</td>\n",
       "      <td>10.0</td>\n",
       "      <td>63.0</td>\n",
       "      <td>35.0</td>\n",
       "      <td>0.043454</td>\n",
       "    </tr>\n",
       "    <tr>\n",
       "      <th>2 el pirul ampl</th>\n",
       "      <td>1</td>\n",
       "      <td>0.0</td>\n",
       "      <td>1.0</td>\n",
       "      <td>1.0</td>\n",
       "      <td>30139.4</td>\n",
       "      <td>1197.0</td>\n",
       "      <td>25.0</td>\n",
       "      <td>1.0</td>\n",
       "      <td>15.0</td>\n",
       "      <td>9.0</td>\n",
       "      <td>0.039715</td>\n",
       "    </tr>\n",
       "    <tr>\n",
       "      <th>2 rios</th>\n",
       "      <td>1</td>\n",
       "      <td>0.0</td>\n",
       "      <td>1.0</td>\n",
       "      <td>1.0</td>\n",
       "      <td>40620.3</td>\n",
       "      <td>1180.0</td>\n",
       "      <td>21.0</td>\n",
       "      <td>3.0</td>\n",
       "      <td>15.0</td>\n",
       "      <td>3.0</td>\n",
       "      <td>0.029050</td>\n",
       "    </tr>\n",
       "    <tr>\n",
       "      <th>8 de agosto</th>\n",
       "      <td>2</td>\n",
       "      <td>0.0</td>\n",
       "      <td>2.0</td>\n",
       "      <td>2.0</td>\n",
       "      <td>160837.0</td>\n",
       "      <td>1704.0</td>\n",
       "      <td>58.0</td>\n",
       "      <td>9.0</td>\n",
       "      <td>24.0</td>\n",
       "      <td>49.0</td>\n",
       "      <td>0.010595</td>\n",
       "    </tr>\n",
       "    <tr>\n",
       "      <th>...</th>\n",
       "      <th>...</th>\n",
       "      <td>...</td>\n",
       "      <td>...</td>\n",
       "      <td>...</td>\n",
       "      <td>...</td>\n",
       "      <td>...</td>\n",
       "      <td>...</td>\n",
       "      <td>...</td>\n",
       "      <td>...</td>\n",
       "      <td>...</td>\n",
       "      <td>...</td>\n",
       "      <td>...</td>\n",
       "    </tr>\n",
       "    <tr>\n",
       "      <th rowspan=\"5\" valign=\"top\">xochimilco</th>\n",
       "      <th>tepepan ampl</th>\n",
       "      <td>18</td>\n",
       "      <td>4.0</td>\n",
       "      <td>13.0</td>\n",
       "      <td>11.0</td>\n",
       "      <td>764589.0</td>\n",
       "      <td>8184.0</td>\n",
       "      <td>313.0</td>\n",
       "      <td>22.0</td>\n",
       "      <td>137.0</td>\n",
       "      <td>153.0</td>\n",
       "      <td>0.010704</td>\n",
       "    </tr>\n",
       "    <tr>\n",
       "      <th>tierra nueva</th>\n",
       "      <td>1</td>\n",
       "      <td>0.0</td>\n",
       "      <td>1.0</td>\n",
       "      <td>1.0</td>\n",
       "      <td>182334.0</td>\n",
       "      <td>1860.0</td>\n",
       "      <td>142.0</td>\n",
       "      <td>19.0</td>\n",
       "      <td>116.0</td>\n",
       "      <td>162.0</td>\n",
       "      <td>0.010201</td>\n",
       "    </tr>\n",
       "    <tr>\n",
       "      <th>tlaxopan</th>\n",
       "      <td>3</td>\n",
       "      <td>0.0</td>\n",
       "      <td>3.0</td>\n",
       "      <td>3.0</td>\n",
       "      <td>2272460.0</td>\n",
       "      <td>4355.0</td>\n",
       "      <td>126.0</td>\n",
       "      <td>14.0</td>\n",
       "      <td>72.0</td>\n",
       "      <td>40.0</td>\n",
       "      <td>0.001916</td>\n",
       "    </tr>\n",
       "    <tr>\n",
       "      <th>villa xochimilco u hab</th>\n",
       "      <td>1</td>\n",
       "      <td>0.0</td>\n",
       "      <td>1.0</td>\n",
       "      <td>0.0</td>\n",
       "      <td>54414.1</td>\n",
       "      <td>957.0</td>\n",
       "      <td>43.0</td>\n",
       "      <td>4.0</td>\n",
       "      <td>17.0</td>\n",
       "      <td>22.0</td>\n",
       "      <td>0.017587</td>\n",
       "    </tr>\n",
       "    <tr>\n",
       "      <th>xaltocan barr</th>\n",
       "      <td>15</td>\n",
       "      <td>3.0</td>\n",
       "      <td>14.0</td>\n",
       "      <td>13.0</td>\n",
       "      <td>1464350.0</td>\n",
       "      <td>10993.0</td>\n",
       "      <td>1535.0</td>\n",
       "      <td>67.0</td>\n",
       "      <td>986.0</td>\n",
       "      <td>486.0</td>\n",
       "      <td>0.007507</td>\n",
       "    </tr>\n",
       "  </tbody>\n",
       "</table>\n",
       "<p>1071 rows × 11 columns</p>\n",
       "</div>"
      ],
      "text/plain": [
       "                                           num_denuncias  maltrato_fisico  \\\n",
       "alcaldia       colonia                                                      \n",
       "alvaro obregon 1 victoria                              6              0.0   \n",
       "               1 victoria seccion bosques              3              0.0   \n",
       "               2 el pirul ampl                         1              0.0   \n",
       "               2 rios                                  1              0.0   \n",
       "               8 de agosto                             2              0.0   \n",
       "...                                                  ...              ...   \n",
       "xochimilco     tepepan ampl                           18              4.0   \n",
       "               tierra nueva                            1              0.0   \n",
       "               tlaxopan                                3              0.0   \n",
       "               villa xochimilco u hab                  1              0.0   \n",
       "               xaltocan barr                          15              3.0   \n",
       "\n",
       "                                           intemperie_o_inmovilidad  \\\n",
       "alcaldia       colonia                                                \n",
       "alvaro obregon 1 victoria                                       4.0   \n",
       "               1 victoria seccion bosques                       3.0   \n",
       "               2 el pirul ampl                                  1.0   \n",
       "               2 rios                                           1.0   \n",
       "               8 de agosto                                      2.0   \n",
       "...                                                             ...   \n",
       "xochimilco     tepepan ampl                                    13.0   \n",
       "               tierra nueva                                     1.0   \n",
       "               tlaxopan                                         3.0   \n",
       "               villa xochimilco u hab                           1.0   \n",
       "               xaltocan barr                                   14.0   \n",
       "\n",
       "                                           subalimentacion  \\\n",
       "alcaldia       colonia                                       \n",
       "alvaro obregon 1 victoria                              4.0   \n",
       "               1 victoria seccion bosques              1.0   \n",
       "               2 el pirul ampl                         1.0   \n",
       "               2 rios                                  1.0   \n",
       "               8 de agosto                             2.0   \n",
       "...                                                    ...   \n",
       "xochimilco     tepepan ampl                           11.0   \n",
       "               tierra nueva                            1.0   \n",
       "               tlaxopan                                3.0   \n",
       "               villa xochimilco u hab                  0.0   \n",
       "               xaltocan barr                          13.0   \n",
       "\n",
       "                                           superficie_metros_cuadrados  \\\n",
       "alcaldia       colonia                                                   \n",
       "alvaro obregon 1 victoria                                      69993.5   \n",
       "               1 victoria seccion bosques                      99323.3   \n",
       "               2 el pirul ampl                                 30139.4   \n",
       "               2 rios                                          40620.3   \n",
       "               8 de agosto                                    160837.0   \n",
       "...                                                                ...   \n",
       "xochimilco     tepepan ampl                                   764589.0   \n",
       "               tierra nueva                                   182334.0   \n",
       "               tlaxopan                                      2272460.0   \n",
       "               villa xochimilco u hab                          54414.1   \n",
       "               xaltocan barr                                 1464350.0   \n",
       "\n",
       "                                           poblacion_2010  \\\n",
       "alcaldia       colonia                                      \n",
       "alvaro obregon 1 victoria                          2351.0   \n",
       "               1 victoria seccion bosques          4316.0   \n",
       "               2 el pirul ampl                     1197.0   \n",
       "               2 rios                              1180.0   \n",
       "               8 de agosto                         1704.0   \n",
       "...                                                   ...   \n",
       "xochimilco     tepepan ampl                        8184.0   \n",
       "               tierra nueva                        1860.0   \n",
       "               tlaxopan                            4355.0   \n",
       "               villa xochimilco u hab               957.0   \n",
       "               xaltocan barr                      10993.0   \n",
       "\n",
       "                                           unidades_economicas  industriales  \\\n",
       "alcaldia       colonia                                                         \n",
       "alvaro obregon 1 victoria                                 74.0           5.0   \n",
       "               1 victoria seccion bosques                110.0          10.0   \n",
       "               2 el pirul ampl                            25.0           1.0   \n",
       "               2 rios                                     21.0           3.0   \n",
       "               8 de agosto                                58.0           9.0   \n",
       "...                                                        ...           ...   \n",
       "xochimilco     tepepan ampl                              313.0          22.0   \n",
       "               tierra nueva                              142.0          19.0   \n",
       "               tlaxopan                                  126.0          14.0   \n",
       "               villa xochimilco u hab                     43.0           4.0   \n",
       "               xaltocan barr                            1535.0          67.0   \n",
       "\n",
       "                                           comerciales  servicios  densidad  \n",
       "alcaldia       colonia                                                       \n",
       "alvaro obregon 1 victoria                         40.0       28.0  0.033589  \n",
       "               1 victoria seccion bosques         63.0       35.0  0.043454  \n",
       "               2 el pirul ampl                    15.0        9.0  0.039715  \n",
       "               2 rios                             15.0        3.0  0.029050  \n",
       "               8 de agosto                        24.0       49.0  0.010595  \n",
       "...                                                ...        ...       ...  \n",
       "xochimilco     tepepan ampl                      137.0      153.0  0.010704  \n",
       "               tierra nueva                      116.0      162.0  0.010201  \n",
       "               tlaxopan                           72.0       40.0  0.001916  \n",
       "               villa xochimilco u hab             17.0       22.0  0.017587  \n",
       "               xaltocan barr                     986.0      486.0  0.007507  \n",
       "\n",
       "[1071 rows x 11 columns]"
      ]
     },
     "execution_count": 8,
     "metadata": {},
     "output_type": "execute_result"
    }
   ],
   "source": [
    "datos_corr"
   ]
  },
  {
   "cell_type": "code",
   "execution_count": 9,
   "metadata": {},
   "outputs": [
    {
     "data": {
      "application/vnd.plotly.v1+json": {
       "config": {
        "plotlyServerURL": "https://plot.ly"
       },
       "data": [
        {
         "coloraxis": "coloraxis",
         "hovertemplate": "x: %{x}<br>y: %{y}<br>color: %{z}<extra></extra>",
         "name": "0",
         "texttemplate": "%{z}",
         "type": "heatmap",
         "x": [
          "num_denuncias",
          "maltrato_fisico",
          "intemperie_o_inmovilidad",
          "subalimentacion",
          "superficie_metros_cuadrados",
          "poblacion_2010",
          "unidades_economicas",
          "industriales",
          "comerciales",
          "servicios",
          "densidad"
         ],
         "xaxis": "x",
         "y": [
          "num_denuncias",
          "maltrato_fisico",
          "intemperie_o_inmovilidad",
          "subalimentacion",
          "superficie_metros_cuadrados",
          "poblacion_2010",
          "unidades_economicas",
          "industriales",
          "comerciales",
          "servicios",
          "densidad"
         ],
         "yaxis": "y",
         "z": [
          [
           1,
           0.7885773815126597,
           0.9852993742961653,
           0.9805544834349845,
           0.148208612110162,
           0.46806074177519,
           0.29753616653725756,
           0.34579109521675194,
           0.1893666530141532,
           0.32727412525945127,
           0.027705227411713648
          ],
          [
           0.7885773815126597,
           1,
           0.7626462031765824,
           0.7581535164950742,
           0.1450640664425871,
           0.40180921162096034,
           0.22516189718803573,
           0.28859017423150146,
           0.15948023050192364,
           0.23459727437546982,
           0.048050820262115025
          ],
          [
           0.9852993742961653,
           0.7626462031765824,
           1,
           0.9734580227927658,
           0.15201090553716087,
           0.46616946061960146,
           0.2841349226935772,
           0.3495300311952138,
           0.18086929729266946,
           0.31018888984306187,
           0.030686564181269905
          ],
          [
           0.9805544834349845,
           0.7581535164950742,
           0.9734580227927658,
           1,
           0.16810896338791773,
           0.46937542247640335,
           0.28763698214540656,
           0.34534501753601726,
           0.19339491584069785,
           0.29663414507973607,
           0.03070239270701584
          ],
          [
           0.148208612110162,
           0.1450640664425871,
           0.15201090553716087,
           0.16810896338791773,
           1,
           0.5039031712598381,
           0.3386031252996656,
           0.3499971250647918,
           0.2570937666345502,
           0.32343490583044443,
           -0.37435695480640085
          ],
          [
           0.46806074177519,
           0.40180921162096034,
           0.46616946061960146,
           0.46937542247640335,
           0.5039031712598381,
           1,
           0.5333008256174819,
           0.5985640953265909,
           0.38481192015205,
           0.5218617015709309,
           0.021498205071463175
          ],
          [
           0.29753616653725756,
           0.22516189718803573,
           0.2841349226935772,
           0.28763698214540656,
           0.3386031252996656,
           0.5333008256174819,
           1,
           0.5252830306162128,
           0.9061002798411306,
           0.8046735733247504,
           -0.14908080892713088
          ],
          [
           0.34579109521675194,
           0.28859017423150146,
           0.3495300311952138,
           0.34534501753601726,
           0.3499971250647918,
           0.5985640953265909,
           0.5252830306162128,
           1,
           0.41084002784574153,
           0.4863902289469602,
           -0.0662108422333806
          ],
          [
           0.1893666530141532,
           0.15948023050192364,
           0.18086929729266946,
           0.19339491584069785,
           0.2570937666345502,
           0.38481192015205,
           0.9061002798411306,
           0.41084002784574153,
           1,
           0.5629363854922036,
           -0.08993137859809061
          ],
          [
           0.32727412525945127,
           0.23459727437546982,
           0.31018888984306187,
           0.29663414507973607,
           0.32343490583044443,
           0.5218617015709309,
           0.8046735733247504,
           0.4863902289469602,
           0.5629363854922036,
           1,
           -0.19747552509431884
          ],
          [
           0.027705227411713648,
           0.048050820262115025,
           0.030686564181269905,
           0.03070239270701584,
           -0.37435695480640085,
           0.021498205071463175,
           -0.14908080892713088,
           -0.0662108422333806,
           -0.08993137859809061,
           -0.19747552509431884,
           1
          ]
         ]
        }
       ],
       "layout": {
        "coloraxis": {
         "colorscale": [
          [
           0,
           "#0d0887"
          ],
          [
           0.1111111111111111,
           "#46039f"
          ],
          [
           0.2222222222222222,
           "#7201a8"
          ],
          [
           0.3333333333333333,
           "#9c179e"
          ],
          [
           0.4444444444444444,
           "#bd3786"
          ],
          [
           0.5555555555555556,
           "#d8576b"
          ],
          [
           0.6666666666666666,
           "#ed7953"
          ],
          [
           0.7777777777777778,
           "#fb9f3a"
          ],
          [
           0.8888888888888888,
           "#fdca26"
          ],
          [
           1,
           "#f0f921"
          ]
         ]
        },
        "margin": {
         "t": 60
        },
        "template": {
         "data": {
          "bar": [
           {
            "error_x": {
             "color": "#2a3f5f"
            },
            "error_y": {
             "color": "#2a3f5f"
            },
            "marker": {
             "line": {
              "color": "#E5ECF6",
              "width": 0.5
             },
             "pattern": {
              "fillmode": "overlay",
              "size": 10,
              "solidity": 0.2
             }
            },
            "type": "bar"
           }
          ],
          "barpolar": [
           {
            "marker": {
             "line": {
              "color": "#E5ECF6",
              "width": 0.5
             },
             "pattern": {
              "fillmode": "overlay",
              "size": 10,
              "solidity": 0.2
             }
            },
            "type": "barpolar"
           }
          ],
          "carpet": [
           {
            "aaxis": {
             "endlinecolor": "#2a3f5f",
             "gridcolor": "white",
             "linecolor": "white",
             "minorgridcolor": "white",
             "startlinecolor": "#2a3f5f"
            },
            "baxis": {
             "endlinecolor": "#2a3f5f",
             "gridcolor": "white",
             "linecolor": "white",
             "minorgridcolor": "white",
             "startlinecolor": "#2a3f5f"
            },
            "type": "carpet"
           }
          ],
          "choropleth": [
           {
            "colorbar": {
             "outlinewidth": 0,
             "ticks": ""
            },
            "type": "choropleth"
           }
          ],
          "contour": [
           {
            "colorbar": {
             "outlinewidth": 0,
             "ticks": ""
            },
            "colorscale": [
             [
              0,
              "#0d0887"
             ],
             [
              0.1111111111111111,
              "#46039f"
             ],
             [
              0.2222222222222222,
              "#7201a8"
             ],
             [
              0.3333333333333333,
              "#9c179e"
             ],
             [
              0.4444444444444444,
              "#bd3786"
             ],
             [
              0.5555555555555556,
              "#d8576b"
             ],
             [
              0.6666666666666666,
              "#ed7953"
             ],
             [
              0.7777777777777778,
              "#fb9f3a"
             ],
             [
              0.8888888888888888,
              "#fdca26"
             ],
             [
              1,
              "#f0f921"
             ]
            ],
            "type": "contour"
           }
          ],
          "contourcarpet": [
           {
            "colorbar": {
             "outlinewidth": 0,
             "ticks": ""
            },
            "type": "contourcarpet"
           }
          ],
          "heatmap": [
           {
            "colorbar": {
             "outlinewidth": 0,
             "ticks": ""
            },
            "colorscale": [
             [
              0,
              "#0d0887"
             ],
             [
              0.1111111111111111,
              "#46039f"
             ],
             [
              0.2222222222222222,
              "#7201a8"
             ],
             [
              0.3333333333333333,
              "#9c179e"
             ],
             [
              0.4444444444444444,
              "#bd3786"
             ],
             [
              0.5555555555555556,
              "#d8576b"
             ],
             [
              0.6666666666666666,
              "#ed7953"
             ],
             [
              0.7777777777777778,
              "#fb9f3a"
             ],
             [
              0.8888888888888888,
              "#fdca26"
             ],
             [
              1,
              "#f0f921"
             ]
            ],
            "type": "heatmap"
           }
          ],
          "heatmapgl": [
           {
            "colorbar": {
             "outlinewidth": 0,
             "ticks": ""
            },
            "colorscale": [
             [
              0,
              "#0d0887"
             ],
             [
              0.1111111111111111,
              "#46039f"
             ],
             [
              0.2222222222222222,
              "#7201a8"
             ],
             [
              0.3333333333333333,
              "#9c179e"
             ],
             [
              0.4444444444444444,
              "#bd3786"
             ],
             [
              0.5555555555555556,
              "#d8576b"
             ],
             [
              0.6666666666666666,
              "#ed7953"
             ],
             [
              0.7777777777777778,
              "#fb9f3a"
             ],
             [
              0.8888888888888888,
              "#fdca26"
             ],
             [
              1,
              "#f0f921"
             ]
            ],
            "type": "heatmapgl"
           }
          ],
          "histogram": [
           {
            "marker": {
             "pattern": {
              "fillmode": "overlay",
              "size": 10,
              "solidity": 0.2
             }
            },
            "type": "histogram"
           }
          ],
          "histogram2d": [
           {
            "colorbar": {
             "outlinewidth": 0,
             "ticks": ""
            },
            "colorscale": [
             [
              0,
              "#0d0887"
             ],
             [
              0.1111111111111111,
              "#46039f"
             ],
             [
              0.2222222222222222,
              "#7201a8"
             ],
             [
              0.3333333333333333,
              "#9c179e"
             ],
             [
              0.4444444444444444,
              "#bd3786"
             ],
             [
              0.5555555555555556,
              "#d8576b"
             ],
             [
              0.6666666666666666,
              "#ed7953"
             ],
             [
              0.7777777777777778,
              "#fb9f3a"
             ],
             [
              0.8888888888888888,
              "#fdca26"
             ],
             [
              1,
              "#f0f921"
             ]
            ],
            "type": "histogram2d"
           }
          ],
          "histogram2dcontour": [
           {
            "colorbar": {
             "outlinewidth": 0,
             "ticks": ""
            },
            "colorscale": [
             [
              0,
              "#0d0887"
             ],
             [
              0.1111111111111111,
              "#46039f"
             ],
             [
              0.2222222222222222,
              "#7201a8"
             ],
             [
              0.3333333333333333,
              "#9c179e"
             ],
             [
              0.4444444444444444,
              "#bd3786"
             ],
             [
              0.5555555555555556,
              "#d8576b"
             ],
             [
              0.6666666666666666,
              "#ed7953"
             ],
             [
              0.7777777777777778,
              "#fb9f3a"
             ],
             [
              0.8888888888888888,
              "#fdca26"
             ],
             [
              1,
              "#f0f921"
             ]
            ],
            "type": "histogram2dcontour"
           }
          ],
          "mesh3d": [
           {
            "colorbar": {
             "outlinewidth": 0,
             "ticks": ""
            },
            "type": "mesh3d"
           }
          ],
          "parcoords": [
           {
            "line": {
             "colorbar": {
              "outlinewidth": 0,
              "ticks": ""
             }
            },
            "type": "parcoords"
           }
          ],
          "pie": [
           {
            "automargin": true,
            "type": "pie"
           }
          ],
          "scatter": [
           {
            "fillpattern": {
             "fillmode": "overlay",
             "size": 10,
             "solidity": 0.2
            },
            "type": "scatter"
           }
          ],
          "scatter3d": [
           {
            "line": {
             "colorbar": {
              "outlinewidth": 0,
              "ticks": ""
             }
            },
            "marker": {
             "colorbar": {
              "outlinewidth": 0,
              "ticks": ""
             }
            },
            "type": "scatter3d"
           }
          ],
          "scattercarpet": [
           {
            "marker": {
             "colorbar": {
              "outlinewidth": 0,
              "ticks": ""
             }
            },
            "type": "scattercarpet"
           }
          ],
          "scattergeo": [
           {
            "marker": {
             "colorbar": {
              "outlinewidth": 0,
              "ticks": ""
             }
            },
            "type": "scattergeo"
           }
          ],
          "scattergl": [
           {
            "marker": {
             "colorbar": {
              "outlinewidth": 0,
              "ticks": ""
             }
            },
            "type": "scattergl"
           }
          ],
          "scattermapbox": [
           {
            "marker": {
             "colorbar": {
              "outlinewidth": 0,
              "ticks": ""
             }
            },
            "type": "scattermapbox"
           }
          ],
          "scatterpolar": [
           {
            "marker": {
             "colorbar": {
              "outlinewidth": 0,
              "ticks": ""
             }
            },
            "type": "scatterpolar"
           }
          ],
          "scatterpolargl": [
           {
            "marker": {
             "colorbar": {
              "outlinewidth": 0,
              "ticks": ""
             }
            },
            "type": "scatterpolargl"
           }
          ],
          "scatterternary": [
           {
            "marker": {
             "colorbar": {
              "outlinewidth": 0,
              "ticks": ""
             }
            },
            "type": "scatterternary"
           }
          ],
          "surface": [
           {
            "colorbar": {
             "outlinewidth": 0,
             "ticks": ""
            },
            "colorscale": [
             [
              0,
              "#0d0887"
             ],
             [
              0.1111111111111111,
              "#46039f"
             ],
             [
              0.2222222222222222,
              "#7201a8"
             ],
             [
              0.3333333333333333,
              "#9c179e"
             ],
             [
              0.4444444444444444,
              "#bd3786"
             ],
             [
              0.5555555555555556,
              "#d8576b"
             ],
             [
              0.6666666666666666,
              "#ed7953"
             ],
             [
              0.7777777777777778,
              "#fb9f3a"
             ],
             [
              0.8888888888888888,
              "#fdca26"
             ],
             [
              1,
              "#f0f921"
             ]
            ],
            "type": "surface"
           }
          ],
          "table": [
           {
            "cells": {
             "fill": {
              "color": "#EBF0F8"
             },
             "line": {
              "color": "white"
             }
            },
            "header": {
             "fill": {
              "color": "#C8D4E3"
             },
             "line": {
              "color": "white"
             }
            },
            "type": "table"
           }
          ]
         },
         "layout": {
          "annotationdefaults": {
           "arrowcolor": "#2a3f5f",
           "arrowhead": 0,
           "arrowwidth": 1
          },
          "autotypenumbers": "strict",
          "coloraxis": {
           "colorbar": {
            "outlinewidth": 0,
            "ticks": ""
           }
          },
          "colorscale": {
           "diverging": [
            [
             0,
             "#8e0152"
            ],
            [
             0.1,
             "#c51b7d"
            ],
            [
             0.2,
             "#de77ae"
            ],
            [
             0.3,
             "#f1b6da"
            ],
            [
             0.4,
             "#fde0ef"
            ],
            [
             0.5,
             "#f7f7f7"
            ],
            [
             0.6,
             "#e6f5d0"
            ],
            [
             0.7,
             "#b8e186"
            ],
            [
             0.8,
             "#7fbc41"
            ],
            [
             0.9,
             "#4d9221"
            ],
            [
             1,
             "#276419"
            ]
           ],
           "sequential": [
            [
             0,
             "#0d0887"
            ],
            [
             0.1111111111111111,
             "#46039f"
            ],
            [
             0.2222222222222222,
             "#7201a8"
            ],
            [
             0.3333333333333333,
             "#9c179e"
            ],
            [
             0.4444444444444444,
             "#bd3786"
            ],
            [
             0.5555555555555556,
             "#d8576b"
            ],
            [
             0.6666666666666666,
             "#ed7953"
            ],
            [
             0.7777777777777778,
             "#fb9f3a"
            ],
            [
             0.8888888888888888,
             "#fdca26"
            ],
            [
             1,
             "#f0f921"
            ]
           ],
           "sequentialminus": [
            [
             0,
             "#0d0887"
            ],
            [
             0.1111111111111111,
             "#46039f"
            ],
            [
             0.2222222222222222,
             "#7201a8"
            ],
            [
             0.3333333333333333,
             "#9c179e"
            ],
            [
             0.4444444444444444,
             "#bd3786"
            ],
            [
             0.5555555555555556,
             "#d8576b"
            ],
            [
             0.6666666666666666,
             "#ed7953"
            ],
            [
             0.7777777777777778,
             "#fb9f3a"
            ],
            [
             0.8888888888888888,
             "#fdca26"
            ],
            [
             1,
             "#f0f921"
            ]
           ]
          },
          "colorway": [
           "#636efa",
           "#EF553B",
           "#00cc96",
           "#ab63fa",
           "#FFA15A",
           "#19d3f3",
           "#FF6692",
           "#B6E880",
           "#FF97FF",
           "#FECB52"
          ],
          "font": {
           "color": "#2a3f5f"
          },
          "geo": {
           "bgcolor": "white",
           "lakecolor": "white",
           "landcolor": "#E5ECF6",
           "showlakes": true,
           "showland": true,
           "subunitcolor": "white"
          },
          "hoverlabel": {
           "align": "left"
          },
          "hovermode": "closest",
          "mapbox": {
           "style": "light"
          },
          "paper_bgcolor": "white",
          "plot_bgcolor": "#E5ECF6",
          "polar": {
           "angularaxis": {
            "gridcolor": "white",
            "linecolor": "white",
            "ticks": ""
           },
           "bgcolor": "#E5ECF6",
           "radialaxis": {
            "gridcolor": "white",
            "linecolor": "white",
            "ticks": ""
           }
          },
          "scene": {
           "xaxis": {
            "backgroundcolor": "#E5ECF6",
            "gridcolor": "white",
            "gridwidth": 2,
            "linecolor": "white",
            "showbackground": true,
            "ticks": "",
            "zerolinecolor": "white"
           },
           "yaxis": {
            "backgroundcolor": "#E5ECF6",
            "gridcolor": "white",
            "gridwidth": 2,
            "linecolor": "white",
            "showbackground": true,
            "ticks": "",
            "zerolinecolor": "white"
           },
           "zaxis": {
            "backgroundcolor": "#E5ECF6",
            "gridcolor": "white",
            "gridwidth": 2,
            "linecolor": "white",
            "showbackground": true,
            "ticks": "",
            "zerolinecolor": "white"
           }
          },
          "shapedefaults": {
           "line": {
            "color": "#2a3f5f"
           }
          },
          "ternary": {
           "aaxis": {
            "gridcolor": "white",
            "linecolor": "white",
            "ticks": ""
           },
           "baxis": {
            "gridcolor": "white",
            "linecolor": "white",
            "ticks": ""
           },
           "bgcolor": "#E5ECF6",
           "caxis": {
            "gridcolor": "white",
            "linecolor": "white",
            "ticks": ""
           }
          },
          "title": {
           "x": 0.05
          },
          "xaxis": {
           "automargin": true,
           "gridcolor": "white",
           "linecolor": "white",
           "ticks": "",
           "title": {
            "standoff": 15
           },
           "zerolinecolor": "white",
           "zerolinewidth": 2
          },
          "yaxis": {
           "automargin": true,
           "gridcolor": "white",
           "linecolor": "white",
           "ticks": "",
           "title": {
            "standoff": 15
           },
           "zerolinecolor": "white",
           "zerolinewidth": 2
          }
         }
        },
        "xaxis": {
         "anchor": "y",
         "constrain": "domain",
         "domain": [
          0,
          1
         ],
         "scaleanchor": "y"
        },
        "yaxis": {
         "anchor": "x",
         "autorange": "reversed",
         "constrain": "domain",
         "domain": [
          0,
          1
         ]
        }
       }
      }
     },
     "metadata": {},
     "output_type": "display_data"
    }
   ],
   "source": [
    "import plotly.express as px\n",
    "\n",
    "\n",
    "fig = px.imshow(datos_corr.corr(), text_auto=True)\n",
    "fig.show()"
   ]
  }
 ],
 "metadata": {
  "kernelspec": {
   "display_name": "Python 3.10.4 ('env')",
   "language": "python",
   "name": "python3"
  },
  "language_info": {
   "codemirror_mode": {
    "name": "ipython",
    "version": 3
   },
   "file_extension": ".py",
   "mimetype": "text/x-python",
   "name": "python",
   "nbconvert_exporter": "python",
   "pygments_lexer": "ipython3",
   "version": "3.10.4"
  },
  "orig_nbformat": 4,
  "vscode": {
   "interpreter": {
    "hash": "c4144324fcff0bc5a8de6332d56aa7c47a05da9eb72c9e185f253733c7069112"
   }
  }
 },
 "nbformat": 4,
 "nbformat_minor": 2
}
