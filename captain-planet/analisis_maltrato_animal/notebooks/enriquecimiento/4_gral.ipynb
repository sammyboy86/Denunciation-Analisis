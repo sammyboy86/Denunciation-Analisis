{
 "cells": [
  {
   "cell_type": "code",
   "execution_count": 1,
   "metadata": {},
   "outputs": [],
   "source": [
    "import pandas as pd\n",
    "import numpy as np\n",
    "import funciones\n",
    "\n",
    "#base de datos con las denuncias\n",
    "\n",
    "df_maltrato_animal = pd.read_csv(r\"C:\\Users\\samue\\OneDrive\\Documents\\GitHub\\captain_planet_sammy\\captain-planet\\analisis_maltrato_animal\\data\\clean\\categorizado\\df_maltrato_animal_actualizado_categorizado\", encoding = 'latin')\n",
    "df_maltrato_animal[[\"fecha_de_recepcion\", \"fecha_de_ratificacion\", \"fecha_de_turno\", \"fecha_de_admision/radicacion\", \"fecha_de_conclusion\"]] = df_maltrato_animal[[\"fecha_de_recepcion\", \"fecha_de_ratificacion\", \"fecha_de_turno\", \"fecha_de_admision/radicacion\", \"fecha_de_conclusion\"]].apply(pd.to_datetime, errors = 'coerce')\n",
    "\n",
    "\n",
    "colonias_matched = pd.read_csv(r'C:\\Users\\samue\\OneDrive\\Documents\\GitHub\\captain_planet_sammy\\captain-planet\\analisis_maltrato_animal\\data\\clean\\colonias_matched.csv',encoding='utf-8')"
   ]
  },
  {
   "cell_type": "code",
   "execution_count": 2,
   "metadata": {},
   "outputs": [
    {
     "name": "stdout",
     "output_type": "stream",
     "text": [
      "PyTables is not installed. No support for HDF output.\n",
      "SQLalchemy is not installed. No support for SQL output.\n"
     ]
    }
   ],
   "source": [
    "from simpledbf import Dbf5\n",
    "\n",
    "dbf = Dbf5(r'C:\\Users\\samue\\OneDrive\\Documents\\GitHub\\captain_planet_sammy\\captain-planet\\data\\raw\\ri_11.dbf')\n",
    "\n",
    "#base de datos externa, densidad de poblacion\n",
    "df_pob = dbf.to_dataframe().dropna()\n",
    "\n",
    "\n",
    "funciones.estandarizacion(df_pob, 'colonia', 'alcaldia')"
   ]
  },
  {
   "cell_type": "code",
   "execution_count": 3,
   "metadata": {},
   "outputs": [],
   "source": [
    "dbf = Dbf5(r'C:\\Users\\samue\\OneDrive\\Documents\\GitHub\\captain_planet_sammy\\captain-planet\\data\\raw\\ue_comerciales_colonia.dbf')\n",
    "\n",
    "#base de datos externa, unidades economicas\n",
    "df_ue = dbf.to_dataframe().dropna()\n",
    "\n",
    "funciones.estandarizacion(df_ue, 'nombre', 'alcaldia')\n"
   ]
  },
  {
   "cell_type": "code",
   "execution_count": 4,
   "metadata": {},
   "outputs": [
    {
     "ename": "KeyboardInterrupt",
     "evalue": "",
     "output_type": "error",
     "traceback": [
      "\u001b[1;31m---------------------------------------------------------------------------\u001b[0m",
      "\u001b[1;31mKeyboardInterrupt\u001b[0m                         Traceback (most recent call last)",
      "\u001b[1;32mc:\\Users\\samue\\OneDrive\\Documents\\GitHub\\captain_planet_sammy\\captain-planet\\analisis_maltrato_animal\\notebooks\\enriquecimiento\\4_gral.ipynb Celda 4\u001b[0m in \u001b[0;36m<cell line: 3>\u001b[1;34m()\u001b[0m\n\u001b[0;32m      <a href='vscode-notebook-cell:/c%3A/Users/samue/OneDrive/Documents/GitHub/captain_planet_sammy/captain-planet/analisis_maltrato_animal/notebooks/enriquecimiento/4_gral.ipynb#W3sZmlsZQ%3D%3D?line=0'>1</a>\u001b[0m df_victimas \u001b[39m=\u001b[39m pd\u001b[39m.\u001b[39mread_csv(\u001b[39mr\u001b[39m\u001b[39m'\u001b[39m\u001b[39mC:\u001b[39m\u001b[39m\\\u001b[39m\u001b[39mUsers\u001b[39m\u001b[39m\\\u001b[39m\u001b[39msamue\u001b[39m\u001b[39m\\\u001b[39m\u001b[39mOneDrive\u001b[39m\u001b[39m\\\u001b[39m\u001b[39mDocuments\u001b[39m\u001b[39m\\\u001b[39m\u001b[39mGitHub\u001b[39m\u001b[39m\\\u001b[39m\u001b[39mcaptain_planet_sammy\u001b[39m\u001b[39m\\\u001b[39m\u001b[39mcaptain-planet\u001b[39m\u001b[39m\\\u001b[39m\u001b[39manalisis_maltrato_animal\u001b[39m\u001b[39m\\\u001b[39m\u001b[39mdata\u001b[39m\u001b[39m\\\u001b[39m\u001b[39mclean\u001b[39m\u001b[39m\\\u001b[39m\u001b[39mdf_victimas.csv\u001b[39m\u001b[39m'\u001b[39m,encoding\u001b[39m=\u001b[39m\u001b[39m'\u001b[39m\u001b[39mutf-8\u001b[39m\u001b[39m'\u001b[39m)\n\u001b[1;32m----> <a href='vscode-notebook-cell:/c%3A/Users/samue/OneDrive/Documents/GitHub/captain_planet_sammy/captain-planet/analisis_maltrato_animal/notebooks/enriquecimiento/4_gral.ipynb#W3sZmlsZQ%3D%3D?line=2'>3</a>\u001b[0m funciones\u001b[39m.\u001b[39;49mactualizar_colonias_gral(df_victimas,\u001b[39m'\u001b[39;49m\u001b[39malcaldiahechos\u001b[39;49m\u001b[39m'\u001b[39;49m,\u001b[39m'\u001b[39;49m\u001b[39mcoloniahechos\u001b[39;49m\u001b[39m'\u001b[39;49m, colonias_matched)\n",
      "File \u001b[1;32mc:\\Users\\samue\\OneDrive\\Documents\\GitHub\\captain_planet_sammy\\captain-planet\\analisis_maltrato_animal\\notebooks\\enriquecimiento\\funciones.py:83\u001b[0m, in \u001b[0;36mactualizar_colonias_gral\u001b[1;34m(df_externo, alcaldia_externo, colonia_externo, colonias_matched)\u001b[0m\n\u001b[0;32m     81\u001b[0m \u001b[39mdef\u001b[39;00m \u001b[39mactualizar_colonias_gral\u001b[39m(df_externo, alcaldia_externo,colonia_externo,colonias_matched):\n\u001b[0;32m     82\u001b[0m     \u001b[39mfor\u001b[39;00m i \u001b[39min\u001b[39;00m \u001b[39mrange\u001b[39m(colonias_matched\u001b[39m.\u001b[39mshape[\u001b[39m0\u001b[39m]):\n\u001b[1;32m---> 83\u001b[0m         df_externo\u001b[39m.\u001b[39mloc[(df_externo[alcaldia_externo]\u001b[39m==\u001b[39;49mcolonias_matched\u001b[39m.\u001b[39;49miloc[i,\u001b[39m0\u001b[39;49m])\u001b[39m&\u001b[39m(df_externo[colonia_externo]\u001b[39m==\u001b[39mcolonias_matched\u001b[39m.\u001b[39miloc[i,\u001b[39m1\u001b[39m]), colonia_externo]  \u001b[39m=\u001b[39m colonias_matched\u001b[39m.\u001b[39miloc[i,\u001b[39m2\u001b[39m]\n",
      "File \u001b[1;32mc:\\Users\\samue\\OneDrive\\Escritorio\\Verano 2022\\venv_sabueso\\env\\lib\\site-packages\\pandas\\core\\ops\\common.py:70\u001b[0m, in \u001b[0;36m_unpack_zerodim_and_defer.<locals>.new_method\u001b[1;34m(self, other)\u001b[0m\n\u001b[0;32m     66\u001b[0m             \u001b[39mreturn\u001b[39;00m \u001b[39mNotImplemented\u001b[39m\n\u001b[0;32m     68\u001b[0m other \u001b[39m=\u001b[39m item_from_zerodim(other)\n\u001b[1;32m---> 70\u001b[0m \u001b[39mreturn\u001b[39;00m method(\u001b[39mself\u001b[39;49m, other)\n",
      "File \u001b[1;32mc:\\Users\\samue\\OneDrive\\Escritorio\\Verano 2022\\venv_sabueso\\env\\lib\\site-packages\\pandas\\core\\arraylike.py:40\u001b[0m, in \u001b[0;36mOpsMixin.__eq__\u001b[1;34m(self, other)\u001b[0m\n\u001b[0;32m     38\u001b[0m \u001b[39m@unpack_zerodim_and_defer\u001b[39m(\u001b[39m\"\u001b[39m\u001b[39m__eq__\u001b[39m\u001b[39m\"\u001b[39m)\n\u001b[0;32m     39\u001b[0m \u001b[39mdef\u001b[39;00m \u001b[39m__eq__\u001b[39m(\u001b[39mself\u001b[39m, other):\n\u001b[1;32m---> 40\u001b[0m     \u001b[39mreturn\u001b[39;00m \u001b[39mself\u001b[39;49m\u001b[39m.\u001b[39;49m_cmp_method(other, operator\u001b[39m.\u001b[39;49meq)\n",
      "File \u001b[1;32mc:\\Users\\samue\\OneDrive\\Escritorio\\Verano 2022\\venv_sabueso\\env\\lib\\site-packages\\pandas\\core\\series.py:5623\u001b[0m, in \u001b[0;36mSeries._cmp_method\u001b[1;34m(self, other, op)\u001b[0m\n\u001b[0;32m   5620\u001b[0m rvalues \u001b[39m=\u001b[39m extract_array(other, extract_numpy\u001b[39m=\u001b[39m\u001b[39mTrue\u001b[39;00m, extract_range\u001b[39m=\u001b[39m\u001b[39mTrue\u001b[39;00m)\n\u001b[0;32m   5622\u001b[0m \u001b[39mwith\u001b[39;00m np\u001b[39m.\u001b[39merrstate(\u001b[39mall\u001b[39m\u001b[39m=\u001b[39m\u001b[39m\"\u001b[39m\u001b[39mignore\u001b[39m\u001b[39m\"\u001b[39m):\n\u001b[1;32m-> 5623\u001b[0m     res_values \u001b[39m=\u001b[39m ops\u001b[39m.\u001b[39;49mcomparison_op(lvalues, rvalues, op)\n\u001b[0;32m   5625\u001b[0m \u001b[39mreturn\u001b[39;00m \u001b[39mself\u001b[39m\u001b[39m.\u001b[39m_construct_result(res_values, name\u001b[39m=\u001b[39mres_name)\n",
      "File \u001b[1;32mc:\\Users\\samue\\OneDrive\\Escritorio\\Verano 2022\\venv_sabueso\\env\\lib\\site-packages\\pandas\\core\\ops\\array_ops.py:283\u001b[0m, in \u001b[0;36mcomparison_op\u001b[1;34m(left, right, op)\u001b[0m\n\u001b[0;32m    280\u001b[0m     \u001b[39mreturn\u001b[39;00m invalid_comparison(lvalues, rvalues, op)\n\u001b[0;32m    282\u001b[0m \u001b[39melif\u001b[39;00m is_object_dtype(lvalues\u001b[39m.\u001b[39mdtype) \u001b[39mor\u001b[39;00m \u001b[39misinstance\u001b[39m(rvalues, \u001b[39mstr\u001b[39m):\n\u001b[1;32m--> 283\u001b[0m     res_values \u001b[39m=\u001b[39m comp_method_OBJECT_ARRAY(op, lvalues, rvalues)\n\u001b[0;32m    285\u001b[0m \u001b[39melse\u001b[39;00m:\n\u001b[0;32m    286\u001b[0m     res_values \u001b[39m=\u001b[39m _na_arithmetic_op(lvalues, rvalues, op, is_cmp\u001b[39m=\u001b[39m\u001b[39mTrue\u001b[39;00m)\n",
      "File \u001b[1;32mc:\\Users\\samue\\OneDrive\\Escritorio\\Verano 2022\\venv_sabueso\\env\\lib\\site-packages\\pandas\\core\\ops\\array_ops.py:74\u001b[0m, in \u001b[0;36mcomp_method_OBJECT_ARRAY\u001b[1;34m(op, x, y)\u001b[0m\n\u001b[0;32m     72\u001b[0m \u001b[39melse\u001b[39;00m:\n\u001b[0;32m     73\u001b[0m     result \u001b[39m=\u001b[39m libops\u001b[39m.\u001b[39mscalar_compare(x\u001b[39m.\u001b[39mravel(), y, op)\n\u001b[1;32m---> 74\u001b[0m \u001b[39mreturn\u001b[39;00m result\u001b[39m.\u001b[39;49mreshape(x\u001b[39m.\u001b[39;49mshape)\n",
      "\u001b[1;31mKeyboardInterrupt\u001b[0m: "
     ]
    }
   ],
   "source": [
    "df_victimas = pd.read_csv(r'C:\\Users\\samue\\OneDrive\\Documents\\GitHub\\captain_planet_sammy\\captain-planet\\analisis_maltrato_animal\\data\\clean\\df_victimas.csv',encoding='utf-8')\n",
    "\n",
    "funciones.actualizar_colonias_gral(df_victimas,'alcaldiahechos','coloniahechos', colonias_matched)"
   ]
  },
  {
   "cell_type": "code",
   "execution_count": null,
   "metadata": {},
   "outputs": [],
   "source": [
    "df_victimas[df_victimas['coloniahechos'].isin(df_pob['colonia'])]"
   ]
  },
  {
   "cell_type": "code",
   "execution_count": null,
   "metadata": {},
   "outputs": [],
   "source": [
    "df_victimas"
   ]
  },
  {
   "cell_type": "code",
   "execution_count": null,
   "metadata": {},
   "outputs": [],
   "source": [
    "df_victimas.to_csv(r'C:\\Users\\samue\\OneDrive\\Documents\\GitHub\\captain_planet_sammy\\captain-planet\\analisis_maltrato_animal\\data\\clean\\df_victimas_actualizado')"
   ]
  }
 ],
 "metadata": {
  "kernelspec": {
   "display_name": "Python 3.10.4 ('env')",
   "language": "python",
   "name": "python3"
  },
  "language_info": {
   "codemirror_mode": {
    "name": "ipython",
    "version": 3
   },
   "file_extension": ".py",
   "mimetype": "text/x-python",
   "name": "python",
   "nbconvert_exporter": "python",
   "pygments_lexer": "ipython3",
   "version": "3.10.4"
  },
  "orig_nbformat": 4,
  "vscode": {
   "interpreter": {
    "hash": "c4144324fcff0bc5a8de6332d56aa7c47a05da9eb72c9e185f253733c7069112"
   }
  }
 },
 "nbformat": 4,
 "nbformat_minor": 2
}
