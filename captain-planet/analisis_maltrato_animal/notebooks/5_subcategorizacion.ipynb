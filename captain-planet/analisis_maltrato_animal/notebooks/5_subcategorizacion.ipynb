{
 "cells": [
  {
   "cell_type": "code",
   "execution_count": 1,
   "metadata": {},
   "outputs": [],
   "source": [
    "import pandas as pd\n",
    "import numpy as np\n",
    "import funciones\n"
   ]
  },
  {
   "cell_type": "code",
   "execution_count": 2,
   "metadata": {},
   "outputs": [],
   "source": [
    "\n",
    "df_maltrato_animal = pd.read_csv(r'C:\\Users\\samue\\OneDrive\\Documents\\GitHub\\captain_planet_sammy\\captain-planet\\analisis_maltrato_animal\\data\\clean\\df_maltrato_animal.csv', encoding = 'utf-8')\n",
    "df_maltrato_animal[[\"fecha_de_recepcion\", \"fecha_de_ratificacion\", \"fecha_de_turno\", \"fecha_de_admision/radicacion\", \"fecha_de_conclusion\"]] = df_maltrato_animal[[\"fecha_de_recepcion\", \"fecha_de_ratificacion\", \"fecha_de_turno\", \"fecha_de_admision/radicacion\", \"fecha_de_conclusion\"]].apply(pd.to_datetime, errors = 'coerce')\n",
    "\n",
    "pd.set_option('display.max_columns', None)\n",
    "pd.set_option('display.max_colwidth', None)"
   ]
  },
  {
   "cell_type": "markdown",
   "metadata": {},
   "source": [
    "Ideas: \n",
    "(Agregar estas columnas y categorizar denuncias procesando las descripciones)\n",
    "\n",
    "maltrato_fisico = ['golpeado', 'herida','laceraciones','cuerpo', 'lacera']\n",
    "intemperie_o_inmovilidad = ['amarrado', 'intemperie', 'balcón','azotea', 'cadena', 'jaula', 'movilidad','camioneta','carro','auto','heces','hacinamiento', 'atención', 'protección','escaleras']\n",
    "subalimentacion = ['aliment', 'agua', 'delgado','cuidado', 'desnutrido']\n",
    "criadero = ['crias','criadero', 'pie']\n",
    "rituales = ['ritual']\n",
    "comercio = ['comerc']\n",
    "\n",
    "\n",
    "numero_ejemplares = [] (aca estandarizar numeros y ver como no confundirlos con numeros de calle)\n",
    "\n",
    "pobreza - violencia\n"
   ]
  },
  {
   "cell_type": "code",
   "execution_count": 3,
   "metadata": {},
   "outputs": [],
   "source": [
    "df_maltrato_animal['maltrato_fisico'] = 0\n",
    "df_maltrato_animal['intemperie_o_inmovilidad'] = 0\n",
    "df_maltrato_animal['subalimentacion'] = 0\n",
    "df_maltrato_animal['criadero'] = 0\n",
    "df_maltrato_animal['rituales'] = 0\n",
    "df_maltrato_animal['comercio'] = 0\n"
   ]
  },
  {
   "cell_type": "code",
   "execution_count": 4,
   "metadata": {},
   "outputs": [],
   "source": [
    "df_maltrato_animal.loc[df_maltrato_animal['actos,_hechos_y_omisiones'].str.contains('golpeado|herida|laceraciones|cuerpo|lacera'), 'maltrato_fisico'] = 1\n",
    "df_maltrato_animal.loc[df_maltrato_animal['actos,_hechos_y_omisiones'].str.contains('amarrado|intemperie|balcón|azotea|cadena|jaula|movilidad|camioneta|carro|auto|heces|hacinamiento|atención|protección|escalera'), 'intemperie_o_inmovilidad'] = 1\n",
    "df_maltrato_animal.loc[df_maltrato_animal['actos,_hechos_y_omisiones'].str.contains('aliment|agua|delgado|cuidado|desnutrido'), 'subalimentacion'] = 1\n",
    "df_maltrato_animal.loc[df_maltrato_animal['actos,_hechos_y_omisiones'].str.contains('crias|criadero|pie'), 'criadero'] = 1\n",
    "df_maltrato_animal.loc[df_maltrato_animal['actos,_hechos_y_omisiones'].str.contains('ritual'), 'rituales'] = 1\n",
    "df_maltrato_animal.loc[df_maltrato_animal['actos,_hechos_y_omisiones'].str.contains('comerc'), 'comercio'] = 1"
   ]
  },
  {
   "cell_type": "code",
   "execution_count": 5,
   "metadata": {},
   "outputs": [
    {
     "data": {
      "text/html": [
       "<div>\n",
       "<style scoped>\n",
       "    .dataframe tbody tr th:only-of-type {\n",
       "        vertical-align: middle;\n",
       "    }\n",
       "\n",
       "    .dataframe tbody tr th {\n",
       "        vertical-align: top;\n",
       "    }\n",
       "\n",
       "    .dataframe thead th {\n",
       "        text-align: right;\n",
       "    }\n",
       "</style>\n",
       "<table border=\"1\" class=\"dataframe\">\n",
       "  <thead>\n",
       "    <tr style=\"text-align: right;\">\n",
       "      <th></th>\n",
       "      <th>Unnamed: 0.2</th>\n",
       "      <th>Unnamed: 0.1</th>\n",
       "      <th>Unnamed: 0</th>\n",
       "      <th>id_denuncia</th>\n",
       "      <th>estatus</th>\n",
       "      <th>tipo_de_denuncia</th>\n",
       "      <th>expediente</th>\n",
       "      <th>materia</th>\n",
       "      <th>fecha_de_recepcion</th>\n",
       "      <th>fecha_de_ratificacion</th>\n",
       "      <th>fecha_de_turno</th>\n",
       "      <th>fecha_de_admision/radicacion</th>\n",
       "      <th>fecha_de_conclusion</th>\n",
       "      <th>medio_de_recepcion</th>\n",
       "      <th>domicilio</th>\n",
       "      <th>colonia</th>\n",
       "      <th>alcaldia</th>\n",
       "      <th>codigo_postal</th>\n",
       "      <th>regimen_propiedad</th>\n",
       "      <th>actos,_hechos_y_omisiones</th>\n",
       "      <th>area_responsable</th>\n",
       "      <th>coord._x</th>\n",
       "      <th>coord._y</th>\n",
       "      <th>denuncia_padre</th>\n",
       "      <th>cve_col</th>\n",
       "      <th>maltrato_fisico</th>\n",
       "      <th>intemperie_o_inmovilidad</th>\n",
       "      <th>subalimentacion</th>\n",
       "      <th>criadero</th>\n",
       "      <th>rituales</th>\n",
       "      <th>comercio</th>\n",
       "    </tr>\n",
       "  </thead>\n",
       "  <tbody>\n",
       "    <tr>\n",
       "      <th>0</th>\n",
       "      <td>37828</td>\n",
       "      <td>37828</td>\n",
       "      <td>37828</td>\n",
       "      <td>38008</td>\n",
       "      <td>Concluida</td>\n",
       "      <td>Denuncia ciudadana</td>\n",
       "      <td>PAOT-2019-105-SPA-59</td>\n",
       "      <td>Maltrato Animal</td>\n",
       "      <td>2019-02-01</td>\n",
       "      <td>2019-02-01</td>\n",
       "      <td>2019-03-01</td>\n",
       "      <td>2019-01-16</td>\n",
       "      <td>2019-01-24</td>\n",
       "      <td>Internet</td>\n",
       "      <td>Calle: Lic. Francisco Benitez Núm. ext: 74 Núm. int:</td>\n",
       "      <td>progreso tizapan</td>\n",
       "      <td>alvaro obregon</td>\n",
       "      <td>1080.0</td>\n",
       "      <td>NaN</td>\n",
       "      <td>El maltrato de aproximadamente veinte ejemplares caninos que son presuntamente golpeados, ubicados en Lic. Fco. Benítez, número 74, colonia Progreso, demarcación territorial Álvaro Obregón.</td>\n",
       "      <td>Subprocuraduría Ambiental, de Protección y Bienestar a los Animales</td>\n",
       "      <td>2138173.08</td>\n",
       "      <td>478011.91</td>\n",
       "      <td>NaN</td>\n",
       "      <td>10-182</td>\n",
       "      <td>1</td>\n",
       "      <td>0</td>\n",
       "      <td>0</td>\n",
       "      <td>0</td>\n",
       "      <td>0</td>\n",
       "      <td>0</td>\n",
       "    </tr>\n",
       "    <tr>\n",
       "      <th>1</th>\n",
       "      <td>37832</td>\n",
       "      <td>37832</td>\n",
       "      <td>37832</td>\n",
       "      <td>37968</td>\n",
       "      <td>Concluida</td>\n",
       "      <td>Denuncia ciudadana</td>\n",
       "      <td>PAOT-2019-65-SPA-38</td>\n",
       "      <td>Maltrato Animal</td>\n",
       "      <td>2019-02-01</td>\n",
       "      <td>2019-02-01</td>\n",
       "      <td>2019-02-01</td>\n",
       "      <td>2019-01-17</td>\n",
       "      <td>2019-12-18</td>\n",
       "      <td>Internet</td>\n",
       "      <td>Calle: Privada del Frijol Núm. ext: S/N Núm. int: S/N</td>\n",
       "      <td>las salinas</td>\n",
       "      <td>azcapotzalco</td>\n",
       "      <td>2360.0</td>\n",
       "      <td>NaN</td>\n",
       "      <td>el presunto maltrato de un ejemplar canino que se encuentra permanentemente amarrado a una escalera que da a la vía pública, ubicada en Privada del Frijol, sin número, entre Norte 59 y Privada del Maíz, colonia Las Salinas, demarcación territorial Azcapotzalco.</td>\n",
       "      <td>Subprocuraduría Ambiental, de Protección y Bienestar a los Animales</td>\n",
       "      <td>2154853.63</td>\n",
       "      <td>482688.21</td>\n",
       "      <td>NaN</td>\n",
       "      <td>02-042</td>\n",
       "      <td>0</td>\n",
       "      <td>1</td>\n",
       "      <td>0</td>\n",
       "      <td>0</td>\n",
       "      <td>0</td>\n",
       "      <td>0</td>\n",
       "    </tr>\n",
       "    <tr>\n",
       "      <th>2</th>\n",
       "      <td>37833</td>\n",
       "      <td>37833</td>\n",
       "      <td>37833</td>\n",
       "      <td>37980</td>\n",
       "      <td>Concluida</td>\n",
       "      <td>Denuncia ciudadana</td>\n",
       "      <td>PAOT-2019-77-SPA-43</td>\n",
       "      <td>Maltrato Animal</td>\n",
       "      <td>2019-02-01</td>\n",
       "      <td>2019-02-01</td>\n",
       "      <td>2019-02-01</td>\n",
       "      <td>2019-01-17</td>\n",
       "      <td>2019-02-28</td>\n",
       "      <td>Internet</td>\n",
       "      <td>Calle: Poniente 122 Núm. ext: S/N Núm. int:</td>\n",
       "      <td>las salinas</td>\n",
       "      <td>azcapotzalco</td>\n",
       "      <td>2360.0</td>\n",
       "      <td>NaN</td>\n",
       "      <td>El maltrato del que es objeto un ejemplar canino ubicado en Poniente 122, lote 725, colonia Las Salinas, demarcación territorial Azcapotzalco.</td>\n",
       "      <td>Subprocuraduría Ambiental, de Protección y Bienestar a los Animales</td>\n",
       "      <td>2154879.00</td>\n",
       "      <td>482678.00</td>\n",
       "      <td>NaN</td>\n",
       "      <td>02-042</td>\n",
       "      <td>0</td>\n",
       "      <td>0</td>\n",
       "      <td>0</td>\n",
       "      <td>0</td>\n",
       "      <td>0</td>\n",
       "      <td>0</td>\n",
       "    </tr>\n",
       "    <tr>\n",
       "      <th>3</th>\n",
       "      <td>37834</td>\n",
       "      <td>37834</td>\n",
       "      <td>37834</td>\n",
       "      <td>37934</td>\n",
       "      <td>No admitida</td>\n",
       "      <td>Denuncia ciudadana</td>\n",
       "      <td>PAOT-2019-31-SPA-19</td>\n",
       "      <td>Maltrato Animal</td>\n",
       "      <td>2019-02-01</td>\n",
       "      <td>2019-02-01</td>\n",
       "      <td>2019-02-01</td>\n",
       "      <td>2019-01-17</td>\n",
       "      <td>NaT</td>\n",
       "      <td>Teléfono</td>\n",
       "      <td>Calle: Batalla San Andrés Núm. ext: 245 Núm. int: S/N</td>\n",
       "      <td>francisco villa u hab</td>\n",
       "      <td>azcapotzalco</td>\n",
       "      <td>2420.0</td>\n",
       "      <td>NaN</td>\n",
       "      <td>el presunto maltrato del que son objeto cinco ejemplares caninos adultos y otros cuatro cachorros, los cuales no cuentan con suficiente alimento por lo que se observan delgados y están la intemperie, aunado a lo anterior, los adultos son utilizados como pies de cría, ubicados en Batalla San Andrés, número 245, colonia Francisco Villa, demarcación territorial Azcapotzalco.</td>\n",
       "      <td>Subprocuraduría Ambiental, de Protección y Bienestar a los Animales</td>\n",
       "      <td>0.00</td>\n",
       "      <td>0.00</td>\n",
       "      <td>NaN</td>\n",
       "      <td>02-030</td>\n",
       "      <td>0</td>\n",
       "      <td>1</td>\n",
       "      <td>1</td>\n",
       "      <td>1</td>\n",
       "      <td>0</td>\n",
       "      <td>0</td>\n",
       "    </tr>\n",
       "    <tr>\n",
       "      <th>4</th>\n",
       "      <td>37835</td>\n",
       "      <td>37835</td>\n",
       "      <td>37835</td>\n",
       "      <td>37966</td>\n",
       "      <td>Concluida</td>\n",
       "      <td>Denuncia ciudadana</td>\n",
       "      <td>PAOT-2019-63-SPA-37</td>\n",
       "      <td>Maltrato Animal</td>\n",
       "      <td>2019-02-01</td>\n",
       "      <td>2019-02-01</td>\n",
       "      <td>2019-02-01</td>\n",
       "      <td>2019-01-17</td>\n",
       "      <td>2019-04-22</td>\n",
       "      <td>Internet</td>\n",
       "      <td>Calle: Av. Aquiles Serdán Núm. ext: Edif.12 Núm. int:</td>\n",
       "      <td>miguel hidalgo u hab</td>\n",
       "      <td>azcapotzalco</td>\n",
       "      <td>2450.0</td>\n",
       "      <td>NaN</td>\n",
       "      <td>el presunto maltrato de un ejemplar canino que no cuenta con protección de la intemperie, agua ni alimentación adecuada, aunado a que es golpeado, el cual se localiza en Avenida Aquiles Serdán, U.H. Miguel Hidalgo, edificio E-12 (color azul), interior 202, entre Rafael Alducin y Duraznos, colonia U.H. Miguel Hidalgo, demarcación territorial Azcapotzalco.</td>\n",
       "      <td>Subprocuraduría Ambiental, de Protección y Bienestar a los Animales</td>\n",
       "      <td>2155522.20</td>\n",
       "      <td>479182.49</td>\n",
       "      <td>NaN</td>\n",
       "      <td>02-047</td>\n",
       "      <td>1</td>\n",
       "      <td>1</td>\n",
       "      <td>1</td>\n",
       "      <td>0</td>\n",
       "      <td>0</td>\n",
       "      <td>0</td>\n",
       "    </tr>\n",
       "    <tr>\n",
       "      <th>...</th>\n",
       "      <td>...</td>\n",
       "      <td>...</td>\n",
       "      <td>...</td>\n",
       "      <td>...</td>\n",
       "      <td>...</td>\n",
       "      <td>...</td>\n",
       "      <td>...</td>\n",
       "      <td>...</td>\n",
       "      <td>...</td>\n",
       "      <td>...</td>\n",
       "      <td>...</td>\n",
       "      <td>...</td>\n",
       "      <td>...</td>\n",
       "      <td>...</td>\n",
       "      <td>...</td>\n",
       "      <td>...</td>\n",
       "      <td>...</td>\n",
       "      <td>...</td>\n",
       "      <td>...</td>\n",
       "      <td>...</td>\n",
       "      <td>...</td>\n",
       "      <td>...</td>\n",
       "      <td>...</td>\n",
       "      <td>...</td>\n",
       "      <td>...</td>\n",
       "      <td>...</td>\n",
       "      <td>...</td>\n",
       "      <td>...</td>\n",
       "      <td>...</td>\n",
       "      <td>...</td>\n",
       "      <td>...</td>\n",
       "    </tr>\n",
       "    <tr>\n",
       "      <th>9760</th>\n",
       "      <td>57710</td>\n",
       "      <td>57710</td>\n",
       "      <td>57710</td>\n",
       "      <td>57788</td>\n",
       "      <td>En proceso de turno</td>\n",
       "      <td>Denuncia ciudadana</td>\n",
       "      <td>PAOT-2022-3422</td>\n",
       "      <td>Maltrato Animal</td>\n",
       "      <td>2022-06-20</td>\n",
       "      <td>2022-06-20</td>\n",
       "      <td>NaT</td>\n",
       "      <td>NaT</td>\n",
       "      <td>NaT</td>\n",
       "      <td>Personal</td>\n",
       "      <td>Calle: Cinco de Mayo Núm. ext: 80 Núm. int: S/N</td>\n",
       "      <td>san andres totoltepec pblo</td>\n",
       "      <td>tlalpan</td>\n",
       "      <td>14400.0</td>\n",
       "      <td>NaN</td>\n",
       "      <td>el maltrato del que es objeto un ejemplar canino, el cual se encuentra amarrado de manera permanente a la intemperie, impidiéndole el movimiento, por lo que cuenta con laceraciones en el cuello, aunado a que se desconoce si le proporcionan alimento y agua suficiente, sito en Cinco de Mayo número 80, entre Cerrada Tlaltenango y Camino Real al Ajusco, colonia San Andrés Totoltepec, C.P.14400 demarcación territorial Tlalpan.</td>\n",
       "      <td>NaN</td>\n",
       "      <td>0.00</td>\n",
       "      <td>0.00</td>\n",
       "      <td>NaN</td>\n",
       "      <td>12-147</td>\n",
       "      <td>1</td>\n",
       "      <td>1</td>\n",
       "      <td>1</td>\n",
       "      <td>0</td>\n",
       "      <td>0</td>\n",
       "      <td>0</td>\n",
       "    </tr>\n",
       "    <tr>\n",
       "      <th>9761</th>\n",
       "      <td>57711</td>\n",
       "      <td>57711</td>\n",
       "      <td>57711</td>\n",
       "      <td>57783</td>\n",
       "      <td>En proceso de turno</td>\n",
       "      <td>Denuncia ciudadana</td>\n",
       "      <td>PAOT-2022-3417</td>\n",
       "      <td>Maltrato Animal</td>\n",
       "      <td>2022-06-20</td>\n",
       "      <td>2022-06-20</td>\n",
       "      <td>NaT</td>\n",
       "      <td>NaT</td>\n",
       "      <td>NaT</td>\n",
       "      <td>Aplicación móvil (App)</td>\n",
       "      <td>Calle: Cerrada Lázaro Cárdenas Núm. ext: Mz.10 Núm. int: Lt.12</td>\n",
       "      <td>san pedro martir pblo</td>\n",
       "      <td>tlalpan</td>\n",
       "      <td>14640.0</td>\n",
       "      <td>NaN</td>\n",
       "      <td>el maltrato del que son objeto diversos ejemplares caninos que permanecen encerrados, se reproducen constantemente por lo que matan a las crías, sito en Calle Cerrada Lázaro Cárdenas 10, número 12, Colonia Ejidos De San Pedro Martin, demarcación territorial Tlalpan.</td>\n",
       "      <td>NaN</td>\n",
       "      <td>0.00</td>\n",
       "      <td>0.00</td>\n",
       "      <td>NaN</td>\n",
       "      <td>12-160</td>\n",
       "      <td>0</td>\n",
       "      <td>0</td>\n",
       "      <td>0</td>\n",
       "      <td>0</td>\n",
       "      <td>0</td>\n",
       "      <td>0</td>\n",
       "    </tr>\n",
       "    <tr>\n",
       "      <th>9762</th>\n",
       "      <td>57712</td>\n",
       "      <td>57712</td>\n",
       "      <td>57712</td>\n",
       "      <td>57786</td>\n",
       "      <td>En proceso de turno</td>\n",
       "      <td>Denuncia ciudadana</td>\n",
       "      <td>PAOT-2022-3420</td>\n",
       "      <td>Maltrato Animal</td>\n",
       "      <td>2022-06-20</td>\n",
       "      <td>2022-06-20</td>\n",
       "      <td>NaT</td>\n",
       "      <td>NaT</td>\n",
       "      <td>NaT</td>\n",
       "      <td>Internet</td>\n",
       "      <td>Calle: Privada Cariaco Núm. ext: S/N Núm. int: S/N</td>\n",
       "      <td>valle de tepepan</td>\n",
       "      <td>tlalpan</td>\n",
       "      <td>14646.0</td>\n",
       "      <td>NaN</td>\n",
       "      <td>el maltrato del que es objeto un ejemplar canino que permanece a la intemperie amarrado a un árbol, aunado a que cuenta con animales de granja en espacio reducido, sito en Calle Privada Cariaco, sin número, Colonia Valle De Tepepan, demarcación territorial Tlalpan, como referencia la entrada es por unas escaleras que dan a lado de un condominio con el número exterior 28.</td>\n",
       "      <td>NaN</td>\n",
       "      <td>0.00</td>\n",
       "      <td>0.00</td>\n",
       "      <td>NaN</td>\n",
       "      <td>12-183</td>\n",
       "      <td>0</td>\n",
       "      <td>1</td>\n",
       "      <td>0</td>\n",
       "      <td>0</td>\n",
       "      <td>0</td>\n",
       "      <td>0</td>\n",
       "    </tr>\n",
       "    <tr>\n",
       "      <th>9763</th>\n",
       "      <td>57714</td>\n",
       "      <td>57714</td>\n",
       "      <td>57714</td>\n",
       "      <td>57785</td>\n",
       "      <td>En proceso de turno</td>\n",
       "      <td>Denuncia ciudadana</td>\n",
       "      <td>PAOT-2022-3419</td>\n",
       "      <td>Maltrato Animal</td>\n",
       "      <td>2022-06-20</td>\n",
       "      <td>2022-06-20</td>\n",
       "      <td>NaT</td>\n",
       "      <td>NaT</td>\n",
       "      <td>NaT</td>\n",
       "      <td>Aplicación móvil (App)</td>\n",
       "      <td>Calle: Retorno 53 de Avenida del Taller Núm. ext: 23 Núm. int: S/N</td>\n",
       "      <td>jardin balbuena 3</td>\n",
       "      <td>venustiano carranza</td>\n",
       "      <td>15900.0</td>\n",
       "      <td>NaN</td>\n",
       "      <td>el maltrato del que es objeto un ejemplar canino el cual se encuentra en un patio sin resguardo, sito en Calle Retorno 53 de Avenida el Taller número 23, colonia Jardín Balbuena, demarcación territorial Venustiano Carranza.</td>\n",
       "      <td>NaN</td>\n",
       "      <td>0.00</td>\n",
       "      <td>0.00</td>\n",
       "      <td>NaN</td>\n",
       "      <td>17-078</td>\n",
       "      <td>0</td>\n",
       "      <td>0</td>\n",
       "      <td>0</td>\n",
       "      <td>0</td>\n",
       "      <td>0</td>\n",
       "      <td>0</td>\n",
       "    </tr>\n",
       "    <tr>\n",
       "      <th>9764</th>\n",
       "      <td>57715</td>\n",
       "      <td>57715</td>\n",
       "      <td>57715</td>\n",
       "      <td>57790</td>\n",
       "      <td>En proceso de turno</td>\n",
       "      <td>Denuncia ciudadana</td>\n",
       "      <td>PAOT-2022-3424</td>\n",
       "      <td>Maltrato Animal</td>\n",
       "      <td>2022-06-20</td>\n",
       "      <td>2022-06-20</td>\n",
       "      <td>NaT</td>\n",
       "      <td>NaT</td>\n",
       "      <td>NaT</td>\n",
       "      <td>Internet</td>\n",
       "      <td>Calle: Calzada Desierto de los Leones, Kilometro 27 Núm. ext: 66 Núm. int: S/N</td>\n",
       "      <td>san mateo tlaltenango pblo</td>\n",
       "      <td>cuajimalpa de morelos</td>\n",
       "      <td>1830.0</td>\n",
       "      <td>NaN</td>\n",
       "      <td>el maltrato del que es objeto un ejemplar canino del cual no cuenta con alimento ni agua, permanece amarrada, aunado a que recientemente tuvo una camada, adicionalmente la ciudadana cometa que el ejemplar no cuenta con una pata trasera, sito en Daniel Caudillo, Calzada Desierto de los Leones, kilómetro 27, ,número 66, colonia santa Rosa Xochiac San Mateo, demarcación territorial Cuajimalpa</td>\n",
       "      <td>NaN</td>\n",
       "      <td>0.00</td>\n",
       "      <td>0.00</td>\n",
       "      <td>NaN</td>\n",
       "      <td>04-046</td>\n",
       "      <td>0</td>\n",
       "      <td>0</td>\n",
       "      <td>1</td>\n",
       "      <td>0</td>\n",
       "      <td>0</td>\n",
       "      <td>0</td>\n",
       "    </tr>\n",
       "  </tbody>\n",
       "</table>\n",
       "<p>9765 rows × 31 columns</p>\n",
       "</div>"
      ],
      "text/plain": [
       "      Unnamed: 0.2  Unnamed: 0.1  Unnamed: 0  id_denuncia  \\\n",
       "0            37828         37828       37828        38008   \n",
       "1            37832         37832       37832        37968   \n",
       "2            37833         37833       37833        37980   \n",
       "3            37834         37834       37834        37934   \n",
       "4            37835         37835       37835        37966   \n",
       "...            ...           ...         ...          ...   \n",
       "9760         57710         57710       57710        57788   \n",
       "9761         57711         57711       57711        57783   \n",
       "9762         57712         57712       57712        57786   \n",
       "9763         57714         57714       57714        57785   \n",
       "9764         57715         57715       57715        57790   \n",
       "\n",
       "                  estatus    tipo_de_denuncia            expediente  \\\n",
       "0               Concluida  Denuncia ciudadana  PAOT-2019-105-SPA-59   \n",
       "1               Concluida  Denuncia ciudadana   PAOT-2019-65-SPA-38   \n",
       "2               Concluida  Denuncia ciudadana   PAOT-2019-77-SPA-43   \n",
       "3             No admitida  Denuncia ciudadana   PAOT-2019-31-SPA-19   \n",
       "4               Concluida  Denuncia ciudadana   PAOT-2019-63-SPA-37   \n",
       "...                   ...                 ...                   ...   \n",
       "9760  En proceso de turno  Denuncia ciudadana        PAOT-2022-3422   \n",
       "9761  En proceso de turno  Denuncia ciudadana        PAOT-2022-3417   \n",
       "9762  En proceso de turno  Denuncia ciudadana        PAOT-2022-3420   \n",
       "9763  En proceso de turno  Denuncia ciudadana        PAOT-2022-3419   \n",
       "9764  En proceso de turno  Denuncia ciudadana        PAOT-2022-3424   \n",
       "\n",
       "              materia fecha_de_recepcion fecha_de_ratificacion fecha_de_turno  \\\n",
       "0     Maltrato Animal         2019-02-01            2019-02-01     2019-03-01   \n",
       "1     Maltrato Animal         2019-02-01            2019-02-01     2019-02-01   \n",
       "2     Maltrato Animal         2019-02-01            2019-02-01     2019-02-01   \n",
       "3     Maltrato Animal         2019-02-01            2019-02-01     2019-02-01   \n",
       "4     Maltrato Animal         2019-02-01            2019-02-01     2019-02-01   \n",
       "...               ...                ...                   ...            ...   \n",
       "9760  Maltrato Animal         2022-06-20            2022-06-20            NaT   \n",
       "9761  Maltrato Animal         2022-06-20            2022-06-20            NaT   \n",
       "9762  Maltrato Animal         2022-06-20            2022-06-20            NaT   \n",
       "9763  Maltrato Animal         2022-06-20            2022-06-20            NaT   \n",
       "9764  Maltrato Animal         2022-06-20            2022-06-20            NaT   \n",
       "\n",
       "     fecha_de_admision/radicacion fecha_de_conclusion      medio_de_recepcion  \\\n",
       "0                      2019-01-16          2019-01-24                Internet   \n",
       "1                      2019-01-17          2019-12-18                Internet   \n",
       "2                      2019-01-17          2019-02-28                Internet   \n",
       "3                      2019-01-17                 NaT                Teléfono   \n",
       "4                      2019-01-17          2019-04-22                Internet   \n",
       "...                           ...                 ...                     ...   \n",
       "9760                          NaT                 NaT                Personal   \n",
       "9761                          NaT                 NaT  Aplicación móvil (App)   \n",
       "9762                          NaT                 NaT                Internet   \n",
       "9763                          NaT                 NaT  Aplicación móvil (App)   \n",
       "9764                          NaT                 NaT                Internet   \n",
       "\n",
       "                                                                           domicilio  \\\n",
       "0                               Calle: Lic. Francisco Benitez Núm. ext: 74 Núm. int:   \n",
       "1                              Calle: Privada del Frijol Núm. ext: S/N Núm. int: S/N   \n",
       "2                                        Calle: Poniente 122 Núm. ext: S/N Núm. int:   \n",
       "3                              Calle: Batalla San Andrés Núm. ext: 245 Núm. int: S/N   \n",
       "4                              Calle: Av. Aquiles Serdán Núm. ext: Edif.12 Núm. int:   \n",
       "...                                                                              ...   \n",
       "9760                                 Calle: Cinco de Mayo Núm. ext: 80 Núm. int: S/N   \n",
       "9761                  Calle: Cerrada Lázaro Cárdenas Núm. ext: Mz.10 Núm. int: Lt.12   \n",
       "9762                              Calle: Privada Cariaco Núm. ext: S/N Núm. int: S/N   \n",
       "9763              Calle: Retorno 53 de Avenida del Taller Núm. ext: 23 Núm. int: S/N   \n",
       "9764  Calle: Calzada Desierto de los Leones, Kilometro 27 Núm. ext: 66 Núm. int: S/N   \n",
       "\n",
       "                         colonia               alcaldia  codigo_postal  \\\n",
       "0               progreso tizapan         alvaro obregon         1080.0   \n",
       "1                    las salinas           azcapotzalco         2360.0   \n",
       "2                    las salinas           azcapotzalco         2360.0   \n",
       "3          francisco villa u hab           azcapotzalco         2420.0   \n",
       "4           miguel hidalgo u hab           azcapotzalco         2450.0   \n",
       "...                          ...                    ...            ...   \n",
       "9760  san andres totoltepec pblo                tlalpan        14400.0   \n",
       "9761       san pedro martir pblo                tlalpan        14640.0   \n",
       "9762            valle de tepepan                tlalpan        14646.0   \n",
       "9763           jardin balbuena 3    venustiano carranza        15900.0   \n",
       "9764  san mateo tlaltenango pblo  cuajimalpa de morelos         1830.0   \n",
       "\n",
       "     regimen_propiedad  \\\n",
       "0                  NaN   \n",
       "1                  NaN   \n",
       "2                  NaN   \n",
       "3                  NaN   \n",
       "4                  NaN   \n",
       "...                ...   \n",
       "9760               NaN   \n",
       "9761               NaN   \n",
       "9762               NaN   \n",
       "9763               NaN   \n",
       "9764               NaN   \n",
       "\n",
       "                                                                                                                                                                                                                                                                                                                                                                                                                      actos,_hechos_y_omisiones  \\\n",
       "0                                                                                                                                                                                                                                                 El maltrato de aproximadamente veinte ejemplares caninos que son presuntamente golpeados, ubicados en Lic. Fco. Benítez, número 74, colonia Progreso, demarcación territorial Álvaro Obregón.   \n",
       "1                                                                                                                                                                         el presunto maltrato de un ejemplar canino que se encuentra permanentemente amarrado a una escalera que da a la vía pública, ubicada en Privada del Frijol, sin número, entre Norte 59 y Privada del Maíz, colonia Las Salinas, demarcación territorial Azcapotzalco.   \n",
       "2                                                                                                                                                                                                                                                                                                El maltrato del que es objeto un ejemplar canino ubicado en Poniente 122, lote 725, colonia Las Salinas, demarcación territorial Azcapotzalco.   \n",
       "3                                                        el presunto maltrato del que son objeto cinco ejemplares caninos adultos y otros cuatro cachorros, los cuales no cuentan con suficiente alimento por lo que se observan delgados y están la intemperie, aunado a lo anterior, los adultos son utilizados como pies de cría, ubicados en Batalla San Andrés, número 245, colonia Francisco Villa, demarcación territorial Azcapotzalco.   \n",
       "4                                                                          el presunto maltrato de un ejemplar canino que no cuenta con protección de la intemperie, agua ni alimentación adecuada, aunado a que es golpeado, el cual se localiza en Avenida Aquiles Serdán, U.H. Miguel Hidalgo, edificio E-12 (color azul), interior 202, entre Rafael Alducin y Duraznos, colonia U.H. Miguel Hidalgo, demarcación territorial Azcapotzalco.   \n",
       "...                                                                                                                                                                                                                                                                                                                                                                                                                                         ...   \n",
       "9760  el maltrato del que es objeto un ejemplar canino, el cual se encuentra amarrado de manera permanente a la intemperie, impidiéndole el movimiento, por lo que cuenta con laceraciones en el cuello, aunado a que se desconoce si le proporcionan alimento y agua suficiente, sito en Cinco de Mayo número 80, entre Cerrada Tlaltenango y Camino Real al Ajusco, colonia San Andrés Totoltepec, C.P.14400 demarcación territorial Tlalpan.   \n",
       "9761                                                                                                                                                                 el maltrato del que son objeto diversos ejemplares caninos que permanecen encerrados, se reproducen constantemente por lo que matan a las crías, sito en Calle Cerrada Lázaro Cárdenas 10, número 12, Colonia Ejidos De San Pedro Martin, demarcación territorial Tlalpan.   \n",
       "9762                                                      el maltrato del que es objeto un ejemplar canino que permanece a la intemperie amarrado a un árbol, aunado a que cuenta con animales de granja en espacio reducido, sito en Calle Privada Cariaco, sin número, Colonia Valle De Tepepan, demarcación territorial Tlalpan, como referencia la entrada es por unas escaleras que dan a lado de un condominio con el número exterior 28.   \n",
       "9763                                                                                                                                                                                                            el maltrato del que es objeto un ejemplar canino el cual se encuentra en un patio sin resguardo, sito en Calle Retorno 53 de Avenida el Taller número 23, colonia Jardín Balbuena, demarcación territorial Venustiano Carranza.   \n",
       "9764                                   el maltrato del que es objeto un ejemplar canino del cual no cuenta con alimento ni agua, permanece amarrada, aunado a que recientemente tuvo una camada, adicionalmente la ciudadana cometa que el ejemplar no cuenta con una pata trasera, sito en Daniel Caudillo, Calzada Desierto de los Leones, kilómetro 27, ,número 66, colonia santa Rosa Xochiac San Mateo, demarcación territorial Cuajimalpa   \n",
       "\n",
       "                                                         area_responsable  \\\n",
       "0     Subprocuraduría Ambiental, de Protección y Bienestar a los Animales   \n",
       "1     Subprocuraduría Ambiental, de Protección y Bienestar a los Animales   \n",
       "2     Subprocuraduría Ambiental, de Protección y Bienestar a los Animales   \n",
       "3     Subprocuraduría Ambiental, de Protección y Bienestar a los Animales   \n",
       "4     Subprocuraduría Ambiental, de Protección y Bienestar a los Animales   \n",
       "...                                                                   ...   \n",
       "9760                                                                  NaN   \n",
       "9761                                                                  NaN   \n",
       "9762                                                                  NaN   \n",
       "9763                                                                  NaN   \n",
       "9764                                                                  NaN   \n",
       "\n",
       "        coord._x   coord._y  denuncia_padre cve_col  maltrato_fisico  \\\n",
       "0     2138173.08  478011.91             NaN  10-182                1   \n",
       "1     2154853.63  482688.21             NaN  02-042                0   \n",
       "2     2154879.00  482678.00             NaN  02-042                0   \n",
       "3           0.00       0.00             NaN  02-030                0   \n",
       "4     2155522.20  479182.49             NaN  02-047                1   \n",
       "...          ...        ...             ...     ...              ...   \n",
       "9760        0.00       0.00             NaN  12-147                1   \n",
       "9761        0.00       0.00             NaN  12-160                0   \n",
       "9762        0.00       0.00             NaN  12-183                0   \n",
       "9763        0.00       0.00             NaN  17-078                0   \n",
       "9764        0.00       0.00             NaN  04-046                0   \n",
       "\n",
       "      intemperie_o_inmovilidad  subalimentacion  criadero  rituales  comercio  \n",
       "0                            0                0         0         0         0  \n",
       "1                            1                0         0         0         0  \n",
       "2                            0                0         0         0         0  \n",
       "3                            1                1         1         0         0  \n",
       "4                            1                1         0         0         0  \n",
       "...                        ...              ...       ...       ...       ...  \n",
       "9760                         1                1         0         0         0  \n",
       "9761                         0                0         0         0         0  \n",
       "9762                         1                0         0         0         0  \n",
       "9763                         0                0         0         0         0  \n",
       "9764                         0                1         0         0         0  \n",
       "\n",
       "[9765 rows x 31 columns]"
      ]
     },
     "execution_count": 5,
     "metadata": {},
     "output_type": "execute_result"
    }
   ],
   "source": [
    "df_maltrato_animal"
   ]
  },
  {
   "cell_type": "code",
   "execution_count": 6,
   "metadata": {},
   "outputs": [],
   "source": [
    "df_maltrato_animal.to_csv(r'C:\\Users\\samue\\OneDrive\\Documents\\GitHub\\captain_planet_sammy\\captain-planet\\analisis_maltrato_animal\\data\\clean\\df_maltrato_animal_categorizado')"
   ]
  },
  {
   "cell_type": "code",
   "execution_count": 7,
   "metadata": {},
   "outputs": [],
   "source": [
    "datos_corr = funciones.preparacion_enriquecimiento(df_maltrato_animal, 'alcaldia','colonia', 'id_denuncia')"
   ]
  },
  {
   "cell_type": "code",
   "execution_count": 8,
   "metadata": {},
   "outputs": [
    {
     "ename": "TypeError",
     "evalue": "enriquecimiento() missing 1 required positional argument: 'tipo'",
     "output_type": "error",
     "traceback": [
      "\u001b[1;31m---------------------------------------------------------------------------\u001b[0m",
      "\u001b[1;31mTypeError\u001b[0m                                 Traceback (most recent call last)",
      "\u001b[1;32mc:\\Users\\samue\\OneDrive\\Documents\\GitHub\\captain_planet_sammy\\captain-planet\\analisis_maltrato_animal\\notebooks\\5_subcategorizacion.ipynb Celda 9\u001b[0m in \u001b[0;36m<cell line: 1>\u001b[1;34m()\u001b[0m\n\u001b[1;32m----> <a href='vscode-notebook-cell:/c%3A/Users/samue/OneDrive/Documents/GitHub/captain_planet_sammy/captain-planet/analisis_maltrato_animal/notebooks/5_subcategorizacion.ipynb#ch0000008?line=0'>1</a>\u001b[0m funciones\u001b[39m.\u001b[39;49menriquecimiento(datos_corr, df_maltrato_animal,\u001b[39m'\u001b[39;49m\u001b[39malcaldia\u001b[39;49m\u001b[39m'\u001b[39;49m,\u001b[39m'\u001b[39;49m\u001b[39mcolonia\u001b[39;49m\u001b[39m'\u001b[39;49m,[\u001b[39m'\u001b[39;49m\u001b[39mmaltrato_fisico\u001b[39;49m\u001b[39m'\u001b[39;49m],\u001b[39m'\u001b[39;49m\u001b[39msuma\u001b[39;49m\u001b[39m'\u001b[39;49m)\n\u001b[0;32m      <a href='vscode-notebook-cell:/c%3A/Users/samue/OneDrive/Documents/GitHub/captain_planet_sammy/captain-planet/analisis_maltrato_animal/notebooks/5_subcategorizacion.ipynb#ch0000008?line=1'>2</a>\u001b[0m funciones\u001b[39m.\u001b[39menriquecimiento(datos_corr, df_maltrato_animal,\u001b[39m'\u001b[39m\u001b[39malcaldia\u001b[39m\u001b[39m'\u001b[39m,\u001b[39m'\u001b[39m\u001b[39mcolonia\u001b[39m\u001b[39m'\u001b[39m,[\u001b[39m'\u001b[39m\u001b[39mintemperie_o_inmovilidad\u001b[39m\u001b[39m'\u001b[39m],\u001b[39m'\u001b[39m\u001b[39msuma\u001b[39m\u001b[39m'\u001b[39m)\n\u001b[0;32m      <a href='vscode-notebook-cell:/c%3A/Users/samue/OneDrive/Documents/GitHub/captain_planet_sammy/captain-planet/analisis_maltrato_animal/notebooks/5_subcategorizacion.ipynb#ch0000008?line=2'>3</a>\u001b[0m funciones\u001b[39m.\u001b[39menriquecimiento(datos_corr, df_maltrato_animal,\u001b[39m'\u001b[39m\u001b[39malcaldia\u001b[39m\u001b[39m'\u001b[39m,\u001b[39m'\u001b[39m\u001b[39mcolonia\u001b[39m\u001b[39m'\u001b[39m,[\u001b[39m'\u001b[39m\u001b[39msubalimentacion\u001b[39m\u001b[39m'\u001b[39m],\u001b[39m'\u001b[39m\u001b[39msuma\u001b[39m\u001b[39m'\u001b[39m)\n",
      "\u001b[1;31mTypeError\u001b[0m: enriquecimiento() missing 1 required positional argument: 'tipo'"
     ]
    }
   ],
   "source": [
    "funciones.enriquecimiento(datos_corr, df_maltrato_animal,'alcaldia','colonia',['maltrato_fisico'],'suma')\n",
    "funciones.enriquecimiento(datos_corr, df_maltrato_animal,'alcaldia','colonia',['intemperie_o_inmovilidad'],'suma')\n",
    "funciones.enriquecimiento(datos_corr, df_maltrato_animal,'alcaldia','colonia',['subalimentacion'],'suma')\n",
    "funciones.enriquecimiento(datos_corr, df_maltrato_animal,'alcaldia','colonia',['criadero'],'suma')\n",
    "funciones.enriquecimiento(datos_corr, df_maltrato_animal,'alcaldia','colonia',['rituales'],'suma')\n",
    "funciones.enriquecimiento(datos_corr, df_maltrato_animal,'alcaldia','colonia',['comercio'],'suma')"
   ]
  },
  {
   "cell_type": "code",
   "execution_count": null,
   "metadata": {},
   "outputs": [],
   "source": [
    "correlaciones = datos_corr.corr()"
   ]
  },
  {
   "cell_type": "code",
   "execution_count": null,
   "metadata": {},
   "outputs": [
    {
     "data": {
      "application/vnd.plotly.v1+json": {
       "config": {
        "plotlyServerURL": "https://plot.ly"
       },
       "data": [
        {
         "coloraxis": "coloraxis",
         "hovertemplate": "x: %{x}<br>y: %{y}<br>color: %{z}<extra></extra>",
         "name": "0",
         "texttemplate": "%{z}",
         "type": "heatmap",
         "x": [
          "num_denuncias",
          "maltrato_fisico",
          "intemperie_o_inmovilidad",
          "subalimentacion",
          "criadero",
          "rituales",
          "comercio"
         ],
         "xaxis": "x",
         "y": [
          "num_denuncias",
          "maltrato_fisico",
          "intemperie_o_inmovilidad",
          "subalimentacion",
          "criadero",
          "rituales",
          "comercio"
         ],
         "yaxis": "y",
         "z": [
          [
           1,
           0.7885773815126597,
           0.9852993742961653,
           0.9805544834349845,
           0.6796751683171608,
           0.017002055350424608,
           0.24073339223666376
          ],
          [
           0.7885773815126597,
           1,
           0.7626462031765824,
           0.7581535164950742,
           0.5685742928819655,
           0.01014830764753574,
           0.24786801101417463
          ],
          [
           0.9852993742961653,
           0.7626462031765824,
           1,
           0.9734580227927658,
           0.6649965086427145,
           0.016142775354779138,
           0.24227416872938795
          ],
          [
           0.9805544834349845,
           0.7581535164950742,
           0.9734580227927658,
           1,
           0.6700228205597842,
           0.01627724160600283,
           0.20509929846477581
          ],
          [
           0.6796751683171608,
           0.5685742928819655,
           0.6649965086427145,
           0.6700228205597842,
           1,
           0.04226317392844635,
           0.08019036304626793
          ],
          [
           0.017002055350424608,
           0.01014830764753574,
           0.016142775354779138,
           0.01627724160600283,
           0.04226317392844635,
           1,
           -0.005438279839069838
          ],
          [
           0.24073339223666376,
           0.24786801101417463,
           0.24227416872938795,
           0.20509929846477581,
           0.08019036304626793,
           -0.005438279839069838,
           1
          ]
         ]
        }
       ],
       "layout": {
        "coloraxis": {
         "colorscale": [
          [
           0,
           "#0d0887"
          ],
          [
           0.1111111111111111,
           "#46039f"
          ],
          [
           0.2222222222222222,
           "#7201a8"
          ],
          [
           0.3333333333333333,
           "#9c179e"
          ],
          [
           0.4444444444444444,
           "#bd3786"
          ],
          [
           0.5555555555555556,
           "#d8576b"
          ],
          [
           0.6666666666666666,
           "#ed7953"
          ],
          [
           0.7777777777777778,
           "#fb9f3a"
          ],
          [
           0.8888888888888888,
           "#fdca26"
          ],
          [
           1,
           "#f0f921"
          ]
         ]
        },
        "margin": {
         "t": 60
        },
        "template": {
         "data": {
          "bar": [
           {
            "error_x": {
             "color": "#2a3f5f"
            },
            "error_y": {
             "color": "#2a3f5f"
            },
            "marker": {
             "line": {
              "color": "#E5ECF6",
              "width": 0.5
             },
             "pattern": {
              "fillmode": "overlay",
              "size": 10,
              "solidity": 0.2
             }
            },
            "type": "bar"
           }
          ],
          "barpolar": [
           {
            "marker": {
             "line": {
              "color": "#E5ECF6",
              "width": 0.5
             },
             "pattern": {
              "fillmode": "overlay",
              "size": 10,
              "solidity": 0.2
             }
            },
            "type": "barpolar"
           }
          ],
          "carpet": [
           {
            "aaxis": {
             "endlinecolor": "#2a3f5f",
             "gridcolor": "white",
             "linecolor": "white",
             "minorgridcolor": "white",
             "startlinecolor": "#2a3f5f"
            },
            "baxis": {
             "endlinecolor": "#2a3f5f",
             "gridcolor": "white",
             "linecolor": "white",
             "minorgridcolor": "white",
             "startlinecolor": "#2a3f5f"
            },
            "type": "carpet"
           }
          ],
          "choropleth": [
           {
            "colorbar": {
             "outlinewidth": 0,
             "ticks": ""
            },
            "type": "choropleth"
           }
          ],
          "contour": [
           {
            "colorbar": {
             "outlinewidth": 0,
             "ticks": ""
            },
            "colorscale": [
             [
              0,
              "#0d0887"
             ],
             [
              0.1111111111111111,
              "#46039f"
             ],
             [
              0.2222222222222222,
              "#7201a8"
             ],
             [
              0.3333333333333333,
              "#9c179e"
             ],
             [
              0.4444444444444444,
              "#bd3786"
             ],
             [
              0.5555555555555556,
              "#d8576b"
             ],
             [
              0.6666666666666666,
              "#ed7953"
             ],
             [
              0.7777777777777778,
              "#fb9f3a"
             ],
             [
              0.8888888888888888,
              "#fdca26"
             ],
             [
              1,
              "#f0f921"
             ]
            ],
            "type": "contour"
           }
          ],
          "contourcarpet": [
           {
            "colorbar": {
             "outlinewidth": 0,
             "ticks": ""
            },
            "type": "contourcarpet"
           }
          ],
          "heatmap": [
           {
            "colorbar": {
             "outlinewidth": 0,
             "ticks": ""
            },
            "colorscale": [
             [
              0,
              "#0d0887"
             ],
             [
              0.1111111111111111,
              "#46039f"
             ],
             [
              0.2222222222222222,
              "#7201a8"
             ],
             [
              0.3333333333333333,
              "#9c179e"
             ],
             [
              0.4444444444444444,
              "#bd3786"
             ],
             [
              0.5555555555555556,
              "#d8576b"
             ],
             [
              0.6666666666666666,
              "#ed7953"
             ],
             [
              0.7777777777777778,
              "#fb9f3a"
             ],
             [
              0.8888888888888888,
              "#fdca26"
             ],
             [
              1,
              "#f0f921"
             ]
            ],
            "type": "heatmap"
           }
          ],
          "heatmapgl": [
           {
            "colorbar": {
             "outlinewidth": 0,
             "ticks": ""
            },
            "colorscale": [
             [
              0,
              "#0d0887"
             ],
             [
              0.1111111111111111,
              "#46039f"
             ],
             [
              0.2222222222222222,
              "#7201a8"
             ],
             [
              0.3333333333333333,
              "#9c179e"
             ],
             [
              0.4444444444444444,
              "#bd3786"
             ],
             [
              0.5555555555555556,
              "#d8576b"
             ],
             [
              0.6666666666666666,
              "#ed7953"
             ],
             [
              0.7777777777777778,
              "#fb9f3a"
             ],
             [
              0.8888888888888888,
              "#fdca26"
             ],
             [
              1,
              "#f0f921"
             ]
            ],
            "type": "heatmapgl"
           }
          ],
          "histogram": [
           {
            "marker": {
             "pattern": {
              "fillmode": "overlay",
              "size": 10,
              "solidity": 0.2
             }
            },
            "type": "histogram"
           }
          ],
          "histogram2d": [
           {
            "colorbar": {
             "outlinewidth": 0,
             "ticks": ""
            },
            "colorscale": [
             [
              0,
              "#0d0887"
             ],
             [
              0.1111111111111111,
              "#46039f"
             ],
             [
              0.2222222222222222,
              "#7201a8"
             ],
             [
              0.3333333333333333,
              "#9c179e"
             ],
             [
              0.4444444444444444,
              "#bd3786"
             ],
             [
              0.5555555555555556,
              "#d8576b"
             ],
             [
              0.6666666666666666,
              "#ed7953"
             ],
             [
              0.7777777777777778,
              "#fb9f3a"
             ],
             [
              0.8888888888888888,
              "#fdca26"
             ],
             [
              1,
              "#f0f921"
             ]
            ],
            "type": "histogram2d"
           }
          ],
          "histogram2dcontour": [
           {
            "colorbar": {
             "outlinewidth": 0,
             "ticks": ""
            },
            "colorscale": [
             [
              0,
              "#0d0887"
             ],
             [
              0.1111111111111111,
              "#46039f"
             ],
             [
              0.2222222222222222,
              "#7201a8"
             ],
             [
              0.3333333333333333,
              "#9c179e"
             ],
             [
              0.4444444444444444,
              "#bd3786"
             ],
             [
              0.5555555555555556,
              "#d8576b"
             ],
             [
              0.6666666666666666,
              "#ed7953"
             ],
             [
              0.7777777777777778,
              "#fb9f3a"
             ],
             [
              0.8888888888888888,
              "#fdca26"
             ],
             [
              1,
              "#f0f921"
             ]
            ],
            "type": "histogram2dcontour"
           }
          ],
          "mesh3d": [
           {
            "colorbar": {
             "outlinewidth": 0,
             "ticks": ""
            },
            "type": "mesh3d"
           }
          ],
          "parcoords": [
           {
            "line": {
             "colorbar": {
              "outlinewidth": 0,
              "ticks": ""
             }
            },
            "type": "parcoords"
           }
          ],
          "pie": [
           {
            "automargin": true,
            "type": "pie"
           }
          ],
          "scatter": [
           {
            "fillpattern": {
             "fillmode": "overlay",
             "size": 10,
             "solidity": 0.2
            },
            "type": "scatter"
           }
          ],
          "scatter3d": [
           {
            "line": {
             "colorbar": {
              "outlinewidth": 0,
              "ticks": ""
             }
            },
            "marker": {
             "colorbar": {
              "outlinewidth": 0,
              "ticks": ""
             }
            },
            "type": "scatter3d"
           }
          ],
          "scattercarpet": [
           {
            "marker": {
             "colorbar": {
              "outlinewidth": 0,
              "ticks": ""
             }
            },
            "type": "scattercarpet"
           }
          ],
          "scattergeo": [
           {
            "marker": {
             "colorbar": {
              "outlinewidth": 0,
              "ticks": ""
             }
            },
            "type": "scattergeo"
           }
          ],
          "scattergl": [
           {
            "marker": {
             "colorbar": {
              "outlinewidth": 0,
              "ticks": ""
             }
            },
            "type": "scattergl"
           }
          ],
          "scattermapbox": [
           {
            "marker": {
             "colorbar": {
              "outlinewidth": 0,
              "ticks": ""
             }
            },
            "type": "scattermapbox"
           }
          ],
          "scatterpolar": [
           {
            "marker": {
             "colorbar": {
              "outlinewidth": 0,
              "ticks": ""
             }
            },
            "type": "scatterpolar"
           }
          ],
          "scatterpolargl": [
           {
            "marker": {
             "colorbar": {
              "outlinewidth": 0,
              "ticks": ""
             }
            },
            "type": "scatterpolargl"
           }
          ],
          "scatterternary": [
           {
            "marker": {
             "colorbar": {
              "outlinewidth": 0,
              "ticks": ""
             }
            },
            "type": "scatterternary"
           }
          ],
          "surface": [
           {
            "colorbar": {
             "outlinewidth": 0,
             "ticks": ""
            },
            "colorscale": [
             [
              0,
              "#0d0887"
             ],
             [
              0.1111111111111111,
              "#46039f"
             ],
             [
              0.2222222222222222,
              "#7201a8"
             ],
             [
              0.3333333333333333,
              "#9c179e"
             ],
             [
              0.4444444444444444,
              "#bd3786"
             ],
             [
              0.5555555555555556,
              "#d8576b"
             ],
             [
              0.6666666666666666,
              "#ed7953"
             ],
             [
              0.7777777777777778,
              "#fb9f3a"
             ],
             [
              0.8888888888888888,
              "#fdca26"
             ],
             [
              1,
              "#f0f921"
             ]
            ],
            "type": "surface"
           }
          ],
          "table": [
           {
            "cells": {
             "fill": {
              "color": "#EBF0F8"
             },
             "line": {
              "color": "white"
             }
            },
            "header": {
             "fill": {
              "color": "#C8D4E3"
             },
             "line": {
              "color": "white"
             }
            },
            "type": "table"
           }
          ]
         },
         "layout": {
          "annotationdefaults": {
           "arrowcolor": "#2a3f5f",
           "arrowhead": 0,
           "arrowwidth": 1
          },
          "autotypenumbers": "strict",
          "coloraxis": {
           "colorbar": {
            "outlinewidth": 0,
            "ticks": ""
           }
          },
          "colorscale": {
           "diverging": [
            [
             0,
             "#8e0152"
            ],
            [
             0.1,
             "#c51b7d"
            ],
            [
             0.2,
             "#de77ae"
            ],
            [
             0.3,
             "#f1b6da"
            ],
            [
             0.4,
             "#fde0ef"
            ],
            [
             0.5,
             "#f7f7f7"
            ],
            [
             0.6,
             "#e6f5d0"
            ],
            [
             0.7,
             "#b8e186"
            ],
            [
             0.8,
             "#7fbc41"
            ],
            [
             0.9,
             "#4d9221"
            ],
            [
             1,
             "#276419"
            ]
           ],
           "sequential": [
            [
             0,
             "#0d0887"
            ],
            [
             0.1111111111111111,
             "#46039f"
            ],
            [
             0.2222222222222222,
             "#7201a8"
            ],
            [
             0.3333333333333333,
             "#9c179e"
            ],
            [
             0.4444444444444444,
             "#bd3786"
            ],
            [
             0.5555555555555556,
             "#d8576b"
            ],
            [
             0.6666666666666666,
             "#ed7953"
            ],
            [
             0.7777777777777778,
             "#fb9f3a"
            ],
            [
             0.8888888888888888,
             "#fdca26"
            ],
            [
             1,
             "#f0f921"
            ]
           ],
           "sequentialminus": [
            [
             0,
             "#0d0887"
            ],
            [
             0.1111111111111111,
             "#46039f"
            ],
            [
             0.2222222222222222,
             "#7201a8"
            ],
            [
             0.3333333333333333,
             "#9c179e"
            ],
            [
             0.4444444444444444,
             "#bd3786"
            ],
            [
             0.5555555555555556,
             "#d8576b"
            ],
            [
             0.6666666666666666,
             "#ed7953"
            ],
            [
             0.7777777777777778,
             "#fb9f3a"
            ],
            [
             0.8888888888888888,
             "#fdca26"
            ],
            [
             1,
             "#f0f921"
            ]
           ]
          },
          "colorway": [
           "#636efa",
           "#EF553B",
           "#00cc96",
           "#ab63fa",
           "#FFA15A",
           "#19d3f3",
           "#FF6692",
           "#B6E880",
           "#FF97FF",
           "#FECB52"
          ],
          "font": {
           "color": "#2a3f5f"
          },
          "geo": {
           "bgcolor": "white",
           "lakecolor": "white",
           "landcolor": "#E5ECF6",
           "showlakes": true,
           "showland": true,
           "subunitcolor": "white"
          },
          "hoverlabel": {
           "align": "left"
          },
          "hovermode": "closest",
          "mapbox": {
           "style": "light"
          },
          "paper_bgcolor": "white",
          "plot_bgcolor": "#E5ECF6",
          "polar": {
           "angularaxis": {
            "gridcolor": "white",
            "linecolor": "white",
            "ticks": ""
           },
           "bgcolor": "#E5ECF6",
           "radialaxis": {
            "gridcolor": "white",
            "linecolor": "white",
            "ticks": ""
           }
          },
          "scene": {
           "xaxis": {
            "backgroundcolor": "#E5ECF6",
            "gridcolor": "white",
            "gridwidth": 2,
            "linecolor": "white",
            "showbackground": true,
            "ticks": "",
            "zerolinecolor": "white"
           },
           "yaxis": {
            "backgroundcolor": "#E5ECF6",
            "gridcolor": "white",
            "gridwidth": 2,
            "linecolor": "white",
            "showbackground": true,
            "ticks": "",
            "zerolinecolor": "white"
           },
           "zaxis": {
            "backgroundcolor": "#E5ECF6",
            "gridcolor": "white",
            "gridwidth": 2,
            "linecolor": "white",
            "showbackground": true,
            "ticks": "",
            "zerolinecolor": "white"
           }
          },
          "shapedefaults": {
           "line": {
            "color": "#2a3f5f"
           }
          },
          "ternary": {
           "aaxis": {
            "gridcolor": "white",
            "linecolor": "white",
            "ticks": ""
           },
           "baxis": {
            "gridcolor": "white",
            "linecolor": "white",
            "ticks": ""
           },
           "bgcolor": "#E5ECF6",
           "caxis": {
            "gridcolor": "white",
            "linecolor": "white",
            "ticks": ""
           }
          },
          "title": {
           "x": 0.05
          },
          "xaxis": {
           "automargin": true,
           "gridcolor": "white",
           "linecolor": "white",
           "ticks": "",
           "title": {
            "standoff": 15
           },
           "zerolinecolor": "white",
           "zerolinewidth": 2
          },
          "yaxis": {
           "automargin": true,
           "gridcolor": "white",
           "linecolor": "white",
           "ticks": "",
           "title": {
            "standoff": 15
           },
           "zerolinecolor": "white",
           "zerolinewidth": 2
          }
         }
        },
        "xaxis": {
         "anchor": "y",
         "constrain": "domain",
         "domain": [
          0,
          1
         ],
         "scaleanchor": "y"
        },
        "yaxis": {
         "anchor": "x",
         "autorange": "reversed",
         "constrain": "domain",
         "domain": [
          0,
          1
         ]
        }
       }
      }
     },
     "metadata": {},
     "output_type": "display_data"
    }
   ],
   "source": [
    "import plotly.express as px\n",
    "\n",
    "\n",
    "fig = px.imshow(correlaciones, text_auto=True)\n",
    "fig.show()"
   ]
  }
 ],
 "metadata": {
  "kernelspec": {
   "display_name": "Python 3.10.4 ('env')",
   "language": "python",
   "name": "python3"
  },
  "language_info": {
   "codemirror_mode": {
    "name": "ipython",
    "version": 3
   },
   "file_extension": ".py",
   "mimetype": "text/x-python",
   "name": "python",
   "nbconvert_exporter": "python",
   "pygments_lexer": "ipython3",
   "version": "3.10.4"
  },
  "orig_nbformat": 4,
  "vscode": {
   "interpreter": {
    "hash": "c4144324fcff0bc5a8de6332d56aa7c47a05da9eb72c9e185f253733c7069112"
   }
  }
 },
 "nbformat": 4,
 "nbformat_minor": 2
}
