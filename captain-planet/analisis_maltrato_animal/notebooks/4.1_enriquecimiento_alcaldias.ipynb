{
 "cells": [
  {
   "cell_type": "code",
   "execution_count": 35,
   "metadata": {},
   "outputs": [],
   "source": [
    "import pandas as pd\n",
    "import numpy as np\n",
    "import funciones\n",
    "\n",
    "pd.set_option('display.max_columns', None)\n"
   ]
  },
  {
   "cell_type": "code",
   "execution_count": 36,
   "metadata": {},
   "outputs": [],
   "source": [
    "df_telefonia_indice = pd.read_csv(r'C:\\Users\\samue\\OneDrive\\Documents\\GitHub\\captain_planet_sammy\\captain-planet\\analisis_maltrato_animal\\data\\raw\\indice desarrollo social cdmx\\telefonia\\telefonia-indice-de-desarrollo-social-en-la-ciudad.csv', encoding='utf-8')\n",
    "\n",
    "funciones.estandarizacion(df_telefonia_indice,'nomgeo','dim')\n",
    "\n",
    "funciones.limpiar_encabezados(df_telefonia_indice)\n",
    "\n",
    "df_vivienda_indicee = df_telefonia_indice.sort_values(by=['nomgeo','estratos'])"
   ]
  },
  {
   "cell_type": "code",
   "execution_count": 37,
   "metadata": {},
   "outputs": [],
   "source": [
    "df_victimas = pd.read_csv(r'C:\\Users\\samue\\OneDrive\\Documents\\GitHub\\captain_planet_sammy\\captain-planet\\analisis_maltrato_animal\\data\\clean\\df_victimas.csv', encoding='utf-8')\n"
   ]
  },
  {
   "cell_type": "code",
   "execution_count": 38,
   "metadata": {},
   "outputs": [],
   "source": [
    "df_vivienda_indice = pd.read_csv(r'C:\\Users\\samue\\OneDrive\\Documents\\GitHub\\captain_planet_sammy\\captain-planet\\analisis_maltrato_animal\\data\\raw\\indice desarrollo social cdmx\\vivienda-indice-de-desarrollo-social-en-la-ciudad.csv', encoding='utf-8')\n",
    "\n",
    "funciones.estandarizacion(df_vivienda_indice,'nomgeo','dim')\n",
    "\n",
    "funciones.limpiar_encabezados(df_vivienda_indice)\n"
   ]
  },
  {
   "cell_type": "code",
   "execution_count": 39,
   "metadata": {},
   "outputs": [],
   "source": [
    "df_maltrato_animal = pd.read_csv(r'C:\\Users\\samue\\OneDrive\\Documents\\GitHub\\captain_planet_sammy\\captain-planet\\analisis_maltrato_animal\\data\\clean\\df_maltrato_animal_categorizado', encoding='utf-8')\n"
   ]
  },
  {
   "cell_type": "code",
   "execution_count": 40,
   "metadata": {},
   "outputs": [],
   "source": [
    "def preparacion_enriquecimiento(df_og, alcaldias_og, id_denuncia_og):\n",
    "    df_a_enriquecer = df_og.groupby([alcaldias_og]).count().loc[:,[id_denuncia_og]]\n",
    "\n",
    "    df_a_enriquecer= df_a_enriquecer.rename(columns={id_denuncia_og:'num_denuncias'})\n",
    "    return df_a_enriquecer\n"
   ]
  },
  {
   "cell_type": "code",
   "execution_count": 41,
   "metadata": {},
   "outputs": [
    {
     "data": {
      "text/html": [
       "<div>\n",
       "<style scoped>\n",
       "    .dataframe tbody tr th:only-of-type {\n",
       "        vertical-align: middle;\n",
       "    }\n",
       "\n",
       "    .dataframe tbody tr th {\n",
       "        vertical-align: top;\n",
       "    }\n",
       "\n",
       "    .dataframe thead th {\n",
       "        text-align: right;\n",
       "    }\n",
       "</style>\n",
       "<table border=\"1\" class=\"dataframe\">\n",
       "  <thead>\n",
       "    <tr style=\"text-align: right;\">\n",
       "      <th></th>\n",
       "      <th>num_denuncias</th>\n",
       "    </tr>\n",
       "    <tr>\n",
       "      <th>alcaldia</th>\n",
       "      <th></th>\n",
       "    </tr>\n",
       "  </thead>\n",
       "  <tbody>\n",
       "    <tr>\n",
       "      <th>alvaro obregon</th>\n",
       "      <td>774</td>\n",
       "    </tr>\n",
       "    <tr>\n",
       "      <th>azcapotzalco</th>\n",
       "      <td>533</td>\n",
       "    </tr>\n",
       "    <tr>\n",
       "      <th>benito juarez</th>\n",
       "      <td>600</td>\n",
       "    </tr>\n",
       "    <tr>\n",
       "      <th>coyoacan</th>\n",
       "      <td>671</td>\n",
       "    </tr>\n",
       "    <tr>\n",
       "      <th>cuajimalpa de morelos</th>\n",
       "      <td>190</td>\n",
       "    </tr>\n",
       "    <tr>\n",
       "      <th>cuauhtemoc</th>\n",
       "      <td>743</td>\n",
       "    </tr>\n",
       "    <tr>\n",
       "      <th>gustavo a madero</th>\n",
       "      <td>1174</td>\n",
       "    </tr>\n",
       "    <tr>\n",
       "      <th>iztacalco</th>\n",
       "      <td>484</td>\n",
       "    </tr>\n",
       "    <tr>\n",
       "      <th>iztapalapa</th>\n",
       "      <td>1782</td>\n",
       "    </tr>\n",
       "    <tr>\n",
       "      <th>la magdalena contreras</th>\n",
       "      <td>254</td>\n",
       "    </tr>\n",
       "    <tr>\n",
       "      <th>miguel hidalgo</th>\n",
       "      <td>409</td>\n",
       "    </tr>\n",
       "    <tr>\n",
       "      <th>milpa alta</th>\n",
       "      <td>84</td>\n",
       "    </tr>\n",
       "    <tr>\n",
       "      <th>tlahuac</th>\n",
       "      <td>324</td>\n",
       "    </tr>\n",
       "    <tr>\n",
       "      <th>tlalpan</th>\n",
       "      <td>754</td>\n",
       "    </tr>\n",
       "    <tr>\n",
       "      <th>venustiano carranza</th>\n",
       "      <td>516</td>\n",
       "    </tr>\n",
       "    <tr>\n",
       "      <th>xochimilco</th>\n",
       "      <td>473</td>\n",
       "    </tr>\n",
       "  </tbody>\n",
       "</table>\n",
       "</div>"
      ],
      "text/plain": [
       "                        num_denuncias\n",
       "alcaldia                             \n",
       "alvaro obregon                    774\n",
       "azcapotzalco                      533\n",
       "benito juarez                     600\n",
       "coyoacan                          671\n",
       "cuajimalpa de morelos             190\n",
       "cuauhtemoc                        743\n",
       "gustavo a madero                 1174\n",
       "iztacalco                         484\n",
       "iztapalapa                       1782\n",
       "la magdalena contreras            254\n",
       "miguel hidalgo                    409\n",
       "milpa alta                         84\n",
       "tlahuac                           324\n",
       "tlalpan                           754\n",
       "venustiano carranza               516\n",
       "xochimilco                        473"
      ]
     },
     "execution_count": 41,
     "metadata": {},
     "output_type": "execute_result"
    }
   ],
   "source": [
    "datos_corr = preparacion_enriquecimiento(df_maltrato_animal, 'alcaldia', 'id_denuncia')\n",
    "datos_corr"
   ]
  },
  {
   "cell_type": "code",
   "execution_count": 42,
   "metadata": {},
   "outputs": [],
   "source": [
    "def enriquecimiento(df_a_enriquecer, df_externo, alcaldias_externo, columnas_de_interes, nombre, tipo):\n",
    "\n",
    "    if(tipo=='conteo'):\n",
    "        df_externo_gb = df_externo.groupby([alcaldias_externo]).count()\n",
    "    elif(tipo=='suma'):\n",
    "        df_externo_gb = df_externo.groupby([alcaldias_externo]).sum()\n",
    "    else:\n",
    "        df_externo_gb = df_externo.groupby([alcaldias_externo]).mean()\n",
    "\n",
    "    for columna in columnas_de_interes:\n",
    "        \n",
    "        df_a_enriquecer[nombre] = np.nan\n",
    "\n",
    "        for i in df_a_enriquecer.index:\n",
    "            \n",
    "            datos_externos_temp = df_externo_gb.loc[i]\n",
    "            \n",
    "            if(not datos_externos_temp.empty):    \n",
    "                df_a_enriquecer.loc[i, nombre] = datos_externos_temp[columna]\n",
    "    \n",
    "        datos_corr[nombre] = datos_corr[nombre].astype('float64')"
   ]
  },
  {
   "cell_type": "code",
   "execution_count": 43,
   "metadata": {},
   "outputs": [],
   "source": [
    "estrato_bajo_tel = df_telefonia_indice[df_telefonia_indice['estratos']=='Pobreza muy alta']\n",
    "estrato_medio_tel = df_telefonia_indice[df_telefonia_indice['estratos']=='Satisfaccion mínima']\n",
    "estrato_alto_tel = df_telefonia_indice[df_telefonia_indice['estratos']=='Estrato alto']\n",
    "\n",
    "estrato_bajo_viv = df_vivienda_indice[df_vivienda_indice['estratos']=='Pobreza muy alta']\n",
    "estrato_medio_viv = df_vivienda_indice[df_vivienda_indice['estratos']=='Satisfaccion mínima']\n",
    "estrato_alto_viv = df_vivienda_indice[df_vivienda_indice['estratos']=='Estrato alto']"
   ]
  },
  {
   "cell_type": "code",
   "execution_count": 44,
   "metadata": {},
   "outputs": [],
   "source": [
    "enriquecimiento(datos_corr, estrato_bajo_tel, 'nomgeo', ['total'], 'bajo_total_tel', 'suma')\n",
    "enriquecimiento(datos_corr, estrato_medio_tel, 'nomgeo', ['total'], 'medio_total_tel', 'suma')\n",
    "enriquecimiento(datos_corr, estrato_alto_tel, 'nomgeo', ['total'], 'alto_total_tel', 'suma')\n",
    "\n",
    "enriquecimiento(datos_corr, estrato_bajo_viv, 'nomgeo', ['total'], 'bajo_total_viv', 'suma')\n",
    "enriquecimiento(datos_corr, estrato_medio_viv, 'nomgeo', ['total'], 'medio_total_viv', 'suma')\n",
    "enriquecimiento(datos_corr, estrato_alto_viv, 'nomgeo', ['total'], 'alto_total_viv', 'suma')\n",
    "\n",
    "enriquecimiento(datos_corr, df_victimas, 'alcaldiahechos', ['idcarpeta'], 'num_carpetas', 'conteo')\n",
    "enriquecimiento(datos_corr, df_victimas[df_victimas['delito']=='MALTRATO ANIMAL'], 'alcaldiahechos', ['idcarpeta'], ['num_carpetas_maltrato'], 'conteo')\n",
    "enriquecimiento(datos_corr, df_victimas[df_victimas['delito']=='ROBO DE ANIMALES'], 'alcaldiahechos', ['idcarpeta'], ['num_carpetas_robo_animales'], 'conteo')\n",
    "\n",
    "\n",
    "\n"
   ]
  },
  {
   "cell_type": "code",
   "execution_count": 45,
   "metadata": {},
   "outputs": [],
   "source": [
    "\n",
    "enriquecimiento(datos_corr, df_maltrato_animal,'alcaldia',['maltrato_fisico'],['maltrato_fisico'],'suma')\n",
    "enriquecimiento(datos_corr, df_maltrato_animal,'alcaldia',['intemperie_o_inmovilidad'],['intemperie_o_inmovilidad'],'suma')\n",
    "enriquecimiento(datos_corr, df_maltrato_animal,'alcaldia',['subalimentacion'],['subalimentacion'],'suma')\n",
    "enriquecimiento(datos_corr, df_maltrato_animal,'alcaldia',['criadero'],['criadero'],'suma')\n",
    "enriquecimiento(datos_corr, df_maltrato_animal,'alcaldia',['rituales'],['rituales'],'suma')\n",
    "enriquecimiento(datos_corr, df_maltrato_animal,'alcaldia',['comercio'],['comercio'],'suma')\n"
   ]
  },
  {
   "cell_type": "code",
   "execution_count": 46,
   "metadata": {},
   "outputs": [
    {
     "data": {
      "text/html": [
       "<div>\n",
       "<style scoped>\n",
       "    .dataframe tbody tr th:only-of-type {\n",
       "        vertical-align: middle;\n",
       "    }\n",
       "\n",
       "    .dataframe tbody tr th {\n",
       "        vertical-align: top;\n",
       "    }\n",
       "\n",
       "    .dataframe thead th {\n",
       "        text-align: right;\n",
       "    }\n",
       "</style>\n",
       "<table border=\"1\" class=\"dataframe\">\n",
       "  <thead>\n",
       "    <tr style=\"text-align: right;\">\n",
       "      <th></th>\n",
       "      <th>num_denuncias</th>\n",
       "      <th>bajo_total_tel</th>\n",
       "      <th>medio_total_tel</th>\n",
       "      <th>alto_total_tel</th>\n",
       "      <th>bajo_total_viv</th>\n",
       "      <th>medio_total_viv</th>\n",
       "      <th>alto_total_viv</th>\n",
       "      <th>num_carpetas</th>\n",
       "      <th>num_carpetas_maltrato</th>\n",
       "      <th>num_carpetas_robo_animales</th>\n",
       "      <th>maltrato_fisico</th>\n",
       "      <th>intemperie_o_inmovilidad</th>\n",
       "      <th>subalimentacion</th>\n",
       "      <th>criadero</th>\n",
       "      <th>rituales</th>\n",
       "      <th>comercio</th>\n",
       "    </tr>\n",
       "    <tr>\n",
       "      <th>alcaldia</th>\n",
       "      <th></th>\n",
       "      <th></th>\n",
       "      <th></th>\n",
       "      <th></th>\n",
       "      <th></th>\n",
       "      <th></th>\n",
       "      <th></th>\n",
       "      <th></th>\n",
       "      <th></th>\n",
       "      <th></th>\n",
       "      <th></th>\n",
       "      <th></th>\n",
       "      <th></th>\n",
       "      <th></th>\n",
       "      <th></th>\n",
       "      <th></th>\n",
       "    </tr>\n",
       "  </thead>\n",
       "  <tbody>\n",
       "    <tr>\n",
       "      <th>alvaro obregon</th>\n",
       "      <td>774</td>\n",
       "      <td>31154.0</td>\n",
       "      <td>240021.0</td>\n",
       "      <td>465194.0</td>\n",
       "      <td>142012.0</td>\n",
       "      <td>90936.0</td>\n",
       "      <td>93049.0</td>\n",
       "      <td>27183.0</td>\n",
       "      <td>36.0</td>\n",
       "      <td>14.0</td>\n",
       "      <td>93.0</td>\n",
       "      <td>563.0</td>\n",
       "      <td>522.0</td>\n",
       "      <td>40.0</td>\n",
       "      <td>0.0</td>\n",
       "      <td>1.0</td>\n",
       "    </tr>\n",
       "    <tr>\n",
       "      <th>azcapotzalco</th>\n",
       "      <td>533</td>\n",
       "      <td>16045.0</td>\n",
       "      <td>126152.0</td>\n",
       "      <td>255291.0</td>\n",
       "      <td>52492.0</td>\n",
       "      <td>62297.0</td>\n",
       "      <td>45508.0</td>\n",
       "      <td>16808.0</td>\n",
       "      <td>24.0</td>\n",
       "      <td>9.0</td>\n",
       "      <td>65.0</td>\n",
       "      <td>355.0</td>\n",
       "      <td>327.0</td>\n",
       "      <td>34.0</td>\n",
       "      <td>1.0</td>\n",
       "      <td>0.0</td>\n",
       "    </tr>\n",
       "    <tr>\n",
       "      <th>benito juarez</th>\n",
       "      <td>600</td>\n",
       "      <td>5404.0</td>\n",
       "      <td>78378.0</td>\n",
       "      <td>328140.0</td>\n",
       "      <td>22788.0</td>\n",
       "      <td>54379.0</td>\n",
       "      <td>107452.0</td>\n",
       "      <td>29415.0</td>\n",
       "      <td>32.0</td>\n",
       "      <td>16.0</td>\n",
       "      <td>72.0</td>\n",
       "      <td>380.0</td>\n",
       "      <td>316.0</td>\n",
       "      <td>21.0</td>\n",
       "      <td>0.0</td>\n",
       "      <td>5.0</td>\n",
       "    </tr>\n",
       "    <tr>\n",
       "      <th>coyoacan</th>\n",
       "      <td>671</td>\n",
       "      <td>17302.0</td>\n",
       "      <td>153612.0</td>\n",
       "      <td>425819.0</td>\n",
       "      <td>74229.0</td>\n",
       "      <td>71478.0</td>\n",
       "      <td>112746.0</td>\n",
       "      <td>23512.0</td>\n",
       "      <td>40.0</td>\n",
       "      <td>12.0</td>\n",
       "      <td>70.0</td>\n",
       "      <td>450.0</td>\n",
       "      <td>408.0</td>\n",
       "      <td>37.0</td>\n",
       "      <td>0.0</td>\n",
       "      <td>3.0</td>\n",
       "    </tr>\n",
       "    <tr>\n",
       "      <th>cuajimalpa de morelos</th>\n",
       "      <td>190</td>\n",
       "      <td>7628.0</td>\n",
       "      <td>57628.0</td>\n",
       "      <td>127553.0</td>\n",
       "      <td>39091.0</td>\n",
       "      <td>16438.0</td>\n",
       "      <td>36532.0</td>\n",
       "      <td>5462.0</td>\n",
       "      <td>8.0</td>\n",
       "      <td>5.0</td>\n",
       "      <td>14.0</td>\n",
       "      <td>133.0</td>\n",
       "      <td>119.0</td>\n",
       "      <td>9.0</td>\n",
       "      <td>0.0</td>\n",
       "      <td>1.0</td>\n",
       "    </tr>\n",
       "    <tr>\n",
       "      <th>cuauhtemoc</th>\n",
       "      <td>743</td>\n",
       "      <td>17202.0</td>\n",
       "      <td>167516.0</td>\n",
       "      <td>343537.0</td>\n",
       "      <td>63333.0</td>\n",
       "      <td>77898.0</td>\n",
       "      <td>80048.0</td>\n",
       "      <td>53570.0</td>\n",
       "      <td>56.0</td>\n",
       "      <td>20.0</td>\n",
       "      <td>88.0</td>\n",
       "      <td>468.0</td>\n",
       "      <td>484.0</td>\n",
       "      <td>36.0</td>\n",
       "      <td>0.0</td>\n",
       "      <td>0.0</td>\n",
       "    </tr>\n",
       "    <tr>\n",
       "      <th>gustavo a madero</th>\n",
       "      <td>1174</td>\n",
       "      <td>59614.0</td>\n",
       "      <td>409008.0</td>\n",
       "      <td>686320.0</td>\n",
       "      <td>199227.0</td>\n",
       "      <td>149279.0</td>\n",
       "      <td>121672.0</td>\n",
       "      <td>37813.0</td>\n",
       "      <td>67.0</td>\n",
       "      <td>13.0</td>\n",
       "      <td>132.0</td>\n",
       "      <td>775.0</td>\n",
       "      <td>768.0</td>\n",
       "      <td>71.0</td>\n",
       "      <td>1.0</td>\n",
       "      <td>1.0</td>\n",
       "    </tr>\n",
       "    <tr>\n",
       "      <th>iztacalco</th>\n",
       "      <td>484</td>\n",
       "      <td>9839.0</td>\n",
       "      <td>125398.0</td>\n",
       "      <td>251762.0</td>\n",
       "      <td>48598.0</td>\n",
       "      <td>61248.0</td>\n",
       "      <td>40804.0</td>\n",
       "      <td>15712.0</td>\n",
       "      <td>14.0</td>\n",
       "      <td>6.0</td>\n",
       "      <td>53.0</td>\n",
       "      <td>332.0</td>\n",
       "      <td>314.0</td>\n",
       "      <td>41.0</td>\n",
       "      <td>0.0</td>\n",
       "      <td>0.0</td>\n",
       "    </tr>\n",
       "    <tr>\n",
       "      <th>iztapalapa</th>\n",
       "      <td>1782</td>\n",
       "      <td>114510.0</td>\n",
       "      <td>717842.0</td>\n",
       "      <td>981854.0</td>\n",
       "      <td>390217.0</td>\n",
       "      <td>223210.0</td>\n",
       "      <td>125233.0</td>\n",
       "      <td>58687.0</td>\n",
       "      <td>62.0</td>\n",
       "      <td>20.0</td>\n",
       "      <td>220.0</td>\n",
       "      <td>1269.0</td>\n",
       "      <td>1209.0</td>\n",
       "      <td>84.0</td>\n",
       "      <td>0.0</td>\n",
       "      <td>4.0</td>\n",
       "    </tr>\n",
       "    <tr>\n",
       "      <th>la magdalena contreras</th>\n",
       "      <td>254</td>\n",
       "      <td>13901.0</td>\n",
       "      <td>83867.0</td>\n",
       "      <td>142961.0</td>\n",
       "      <td>64396.0</td>\n",
       "      <td>22601.0</td>\n",
       "      <td>23282.0</td>\n",
       "      <td>6263.0</td>\n",
       "      <td>14.0</td>\n",
       "      <td>5.0</td>\n",
       "      <td>29.0</td>\n",
       "      <td>196.0</td>\n",
       "      <td>166.0</td>\n",
       "      <td>17.0</td>\n",
       "      <td>0.0</td>\n",
       "      <td>0.0</td>\n",
       "    </tr>\n",
       "    <tr>\n",
       "      <th>miguel hidalgo</th>\n",
       "      <td>409</td>\n",
       "      <td>8216.0</td>\n",
       "      <td>82759.0</td>\n",
       "      <td>261143.0</td>\n",
       "      <td>27372.0</td>\n",
       "      <td>44411.0</td>\n",
       "      <td>84157.0</td>\n",
       "      <td>24321.0</td>\n",
       "      <td>24.0</td>\n",
       "      <td>8.0</td>\n",
       "      <td>54.0</td>\n",
       "      <td>255.0</td>\n",
       "      <td>220.0</td>\n",
       "      <td>17.0</td>\n",
       "      <td>0.0</td>\n",
       "      <td>0.0</td>\n",
       "    </tr>\n",
       "    <tr>\n",
       "      <th>milpa alta</th>\n",
       "      <td>84</td>\n",
       "      <td>15069.0</td>\n",
       "      <td>69424.0</td>\n",
       "      <td>53053.0</td>\n",
       "      <td>45885.0</td>\n",
       "      <td>13666.0</td>\n",
       "      <td>5021.0</td>\n",
       "      <td>2537.0</td>\n",
       "      <td>9.0</td>\n",
       "      <td>4.0</td>\n",
       "      <td>10.0</td>\n",
       "      <td>60.0</td>\n",
       "      <td>66.0</td>\n",
       "      <td>6.0</td>\n",
       "      <td>0.0</td>\n",
       "      <td>0.0</td>\n",
       "    </tr>\n",
       "    <tr>\n",
       "      <th>tlahuac</th>\n",
       "      <td>324</td>\n",
       "      <td>23116.0</td>\n",
       "      <td>146412.0</td>\n",
       "      <td>190538.0</td>\n",
       "      <td>74575.0</td>\n",
       "      <td>47248.0</td>\n",
       "      <td>19386.0</td>\n",
       "      <td>9394.0</td>\n",
       "      <td>18.0</td>\n",
       "      <td>12.0</td>\n",
       "      <td>43.0</td>\n",
       "      <td>237.0</td>\n",
       "      <td>223.0</td>\n",
       "      <td>17.0</td>\n",
       "      <td>0.0</td>\n",
       "      <td>1.0</td>\n",
       "    </tr>\n",
       "    <tr>\n",
       "      <th>tlalpan</th>\n",
       "      <td>754</td>\n",
       "      <td>27354.0</td>\n",
       "      <td>226507.0</td>\n",
       "      <td>416115.0</td>\n",
       "      <td>141781.0</td>\n",
       "      <td>77940.0</td>\n",
       "      <td>86078.0</td>\n",
       "      <td>21657.0</td>\n",
       "      <td>37.0</td>\n",
       "      <td>17.0</td>\n",
       "      <td>76.0</td>\n",
       "      <td>530.0</td>\n",
       "      <td>497.0</td>\n",
       "      <td>37.0</td>\n",
       "      <td>0.0</td>\n",
       "      <td>2.0</td>\n",
       "    </tr>\n",
       "    <tr>\n",
       "      <th>venustiano carranza</th>\n",
       "      <td>516</td>\n",
       "      <td>15991.0</td>\n",
       "      <td>146598.0</td>\n",
       "      <td>262521.0</td>\n",
       "      <td>65271.0</td>\n",
       "      <td>57051.0</td>\n",
       "      <td>46902.0</td>\n",
       "      <td>22159.0</td>\n",
       "      <td>29.0</td>\n",
       "      <td>8.0</td>\n",
       "      <td>75.0</td>\n",
       "      <td>357.0</td>\n",
       "      <td>340.0</td>\n",
       "      <td>33.0</td>\n",
       "      <td>0.0</td>\n",
       "      <td>1.0</td>\n",
       "    </tr>\n",
       "    <tr>\n",
       "      <th>xochimilco</th>\n",
       "      <td>473</td>\n",
       "      <td>23513.0</td>\n",
       "      <td>158341.0</td>\n",
       "      <td>230708.0</td>\n",
       "      <td>106620.0</td>\n",
       "      <td>40867.0</td>\n",
       "      <td>32732.0</td>\n",
       "      <td>11589.0</td>\n",
       "      <td>25.0</td>\n",
       "      <td>15.0</td>\n",
       "      <td>64.0</td>\n",
       "      <td>336.0</td>\n",
       "      <td>320.0</td>\n",
       "      <td>27.0</td>\n",
       "      <td>0.0</td>\n",
       "      <td>1.0</td>\n",
       "    </tr>\n",
       "  </tbody>\n",
       "</table>\n",
       "</div>"
      ],
      "text/plain": [
       "                        num_denuncias  bajo_total_tel  medio_total_tel  \\\n",
       "alcaldia                                                                 \n",
       "alvaro obregon                    774         31154.0         240021.0   \n",
       "azcapotzalco                      533         16045.0         126152.0   \n",
       "benito juarez                     600          5404.0          78378.0   \n",
       "coyoacan                          671         17302.0         153612.0   \n",
       "cuajimalpa de morelos             190          7628.0          57628.0   \n",
       "cuauhtemoc                        743         17202.0         167516.0   \n",
       "gustavo a madero                 1174         59614.0         409008.0   \n",
       "iztacalco                         484          9839.0         125398.0   \n",
       "iztapalapa                       1782        114510.0         717842.0   \n",
       "la magdalena contreras            254         13901.0          83867.0   \n",
       "miguel hidalgo                    409          8216.0          82759.0   \n",
       "milpa alta                         84         15069.0          69424.0   \n",
       "tlahuac                           324         23116.0         146412.0   \n",
       "tlalpan                           754         27354.0         226507.0   \n",
       "venustiano carranza               516         15991.0         146598.0   \n",
       "xochimilco                        473         23513.0         158341.0   \n",
       "\n",
       "                        alto_total_tel  bajo_total_viv  medio_total_viv  \\\n",
       "alcaldia                                                                  \n",
       "alvaro obregon                465194.0        142012.0          90936.0   \n",
       "azcapotzalco                  255291.0         52492.0          62297.0   \n",
       "benito juarez                 328140.0         22788.0          54379.0   \n",
       "coyoacan                      425819.0         74229.0          71478.0   \n",
       "cuajimalpa de morelos         127553.0         39091.0          16438.0   \n",
       "cuauhtemoc                    343537.0         63333.0          77898.0   \n",
       "gustavo a madero              686320.0        199227.0         149279.0   \n",
       "iztacalco                     251762.0         48598.0          61248.0   \n",
       "iztapalapa                    981854.0        390217.0         223210.0   \n",
       "la magdalena contreras        142961.0         64396.0          22601.0   \n",
       "miguel hidalgo                261143.0         27372.0          44411.0   \n",
       "milpa alta                     53053.0         45885.0          13666.0   \n",
       "tlahuac                       190538.0         74575.0          47248.0   \n",
       "tlalpan                       416115.0        141781.0          77940.0   \n",
       "venustiano carranza           262521.0         65271.0          57051.0   \n",
       "xochimilco                    230708.0        106620.0          40867.0   \n",
       "\n",
       "                        alto_total_viv  num_carpetas  num_carpetas_maltrato  \\\n",
       "alcaldia                                                                      \n",
       "alvaro obregon                 93049.0       27183.0                   36.0   \n",
       "azcapotzalco                   45508.0       16808.0                   24.0   \n",
       "benito juarez                 107452.0       29415.0                   32.0   \n",
       "coyoacan                      112746.0       23512.0                   40.0   \n",
       "cuajimalpa de morelos          36532.0        5462.0                    8.0   \n",
       "cuauhtemoc                     80048.0       53570.0                   56.0   \n",
       "gustavo a madero              121672.0       37813.0                   67.0   \n",
       "iztacalco                      40804.0       15712.0                   14.0   \n",
       "iztapalapa                    125233.0       58687.0                   62.0   \n",
       "la magdalena contreras         23282.0        6263.0                   14.0   \n",
       "miguel hidalgo                 84157.0       24321.0                   24.0   \n",
       "milpa alta                      5021.0        2537.0                    9.0   \n",
       "tlahuac                        19386.0        9394.0                   18.0   \n",
       "tlalpan                        86078.0       21657.0                   37.0   \n",
       "venustiano carranza            46902.0       22159.0                   29.0   \n",
       "xochimilco                     32732.0       11589.0                   25.0   \n",
       "\n",
       "                        num_carpetas_robo_animales  maltrato_fisico  \\\n",
       "alcaldia                                                              \n",
       "alvaro obregon                                14.0             93.0   \n",
       "azcapotzalco                                   9.0             65.0   \n",
       "benito juarez                                 16.0             72.0   \n",
       "coyoacan                                      12.0             70.0   \n",
       "cuajimalpa de morelos                          5.0             14.0   \n",
       "cuauhtemoc                                    20.0             88.0   \n",
       "gustavo a madero                              13.0            132.0   \n",
       "iztacalco                                      6.0             53.0   \n",
       "iztapalapa                                    20.0            220.0   \n",
       "la magdalena contreras                         5.0             29.0   \n",
       "miguel hidalgo                                 8.0             54.0   \n",
       "milpa alta                                     4.0             10.0   \n",
       "tlahuac                                       12.0             43.0   \n",
       "tlalpan                                       17.0             76.0   \n",
       "venustiano carranza                            8.0             75.0   \n",
       "xochimilco                                    15.0             64.0   \n",
       "\n",
       "                        intemperie_o_inmovilidad  subalimentacion  criadero  \\\n",
       "alcaldia                                                                      \n",
       "alvaro obregon                             563.0            522.0      40.0   \n",
       "azcapotzalco                               355.0            327.0      34.0   \n",
       "benito juarez                              380.0            316.0      21.0   \n",
       "coyoacan                                   450.0            408.0      37.0   \n",
       "cuajimalpa de morelos                      133.0            119.0       9.0   \n",
       "cuauhtemoc                                 468.0            484.0      36.0   \n",
       "gustavo a madero                           775.0            768.0      71.0   \n",
       "iztacalco                                  332.0            314.0      41.0   \n",
       "iztapalapa                                1269.0           1209.0      84.0   \n",
       "la magdalena contreras                     196.0            166.0      17.0   \n",
       "miguel hidalgo                             255.0            220.0      17.0   \n",
       "milpa alta                                  60.0             66.0       6.0   \n",
       "tlahuac                                    237.0            223.0      17.0   \n",
       "tlalpan                                    530.0            497.0      37.0   \n",
       "venustiano carranza                        357.0            340.0      33.0   \n",
       "xochimilco                                 336.0            320.0      27.0   \n",
       "\n",
       "                        rituales  comercio  \n",
       "alcaldia                                    \n",
       "alvaro obregon               0.0       1.0  \n",
       "azcapotzalco                 1.0       0.0  \n",
       "benito juarez                0.0       5.0  \n",
       "coyoacan                     0.0       3.0  \n",
       "cuajimalpa de morelos        0.0       1.0  \n",
       "cuauhtemoc                   0.0       0.0  \n",
       "gustavo a madero             1.0       1.0  \n",
       "iztacalco                    0.0       0.0  \n",
       "iztapalapa                   0.0       4.0  \n",
       "la magdalena contreras       0.0       0.0  \n",
       "miguel hidalgo               0.0       0.0  \n",
       "milpa alta                   0.0       0.0  \n",
       "tlahuac                      0.0       1.0  \n",
       "tlalpan                      0.0       2.0  \n",
       "venustiano carranza          0.0       1.0  \n",
       "xochimilco                   0.0       1.0  "
      ]
     },
     "execution_count": 46,
     "metadata": {},
     "output_type": "execute_result"
    }
   ],
   "source": [
    "datos_corr"
   ]
  },
  {
   "cell_type": "code",
   "execution_count": 47,
   "metadata": {},
   "outputs": [],
   "source": [
    "datos_corr['pob_total_tel'] = datos_corr['bajo_total_tel'] + datos_corr['medio_total_tel']+ datos_corr['alto_total_tel']\n",
    "\n",
    "datos_corr['pctg_alto_tel'] = datos_corr['alto_total_tel'] / datos_corr['pob_total_tel']\n",
    "datos_corr['pctg_medio_tel'] = datos_corr['medio_total_tel'] / datos_corr['pob_total_tel']\n",
    "datos_corr['pctg_bajo_tel'] = datos_corr['bajo_total_tel'] / datos_corr['pob_total_tel']"
   ]
  },
  {
   "cell_type": "code",
   "execution_count": 48,
   "metadata": {},
   "outputs": [],
   "source": [
    "datos_corr['pob_total_viv'] = datos_corr['bajo_total_viv'] + datos_corr['medio_total_viv']+ datos_corr['alto_total_viv']\n",
    "\n",
    "datos_corr['pctg_alto_viv'] = datos_corr['alto_total_viv'] / datos_corr['pob_total_viv']\n",
    "datos_corr['pctg_medio_viv'] = datos_corr['medio_total_viv'] / datos_corr['pob_total_viv']\n",
    "datos_corr['pctg_bajo_viv'] = datos_corr['bajo_total_viv'] / datos_corr['pob_total_viv']"
   ]
  },
  {
   "cell_type": "code",
   "execution_count": 49,
   "metadata": {},
   "outputs": [],
   "source": [
    "datos_corr = datos_corr.loc[:,['pctg_alto_tel', 'pctg_medio_tel', 'pctg_bajo_tel', 'pctg_alto_viv', 'pctg_medio_viv', 'pctg_bajo_viv', 'num_carpetas','maltrato_fisico','intemperie_o_inmovilidad','subalimentacion','num_carpetas_maltrato','num_carpetas_robo_animales', 'num_denuncias',]]"
   ]
  },
  {
   "cell_type": "code",
   "execution_count": 50,
   "metadata": {},
   "outputs": [],
   "source": [
    "correlaciones = datos_corr.corr()"
   ]
  },
  {
   "cell_type": "code",
   "execution_count": 51,
   "metadata": {},
   "outputs": [
    {
     "data": {
      "application/vnd.plotly.v1+json": {
       "config": {
        "plotlyServerURL": "https://plot.ly"
       },
       "data": [
        {
         "coloraxis": "coloraxis",
         "hovertemplate": "x: %{x}<br>y: %{y}<br>color: %{z}<extra></extra>",
         "name": "0",
         "texttemplate": "%{z}",
         "type": "heatmap",
         "x": [
          "pctg_alto_tel",
          "pctg_medio_tel",
          "pctg_bajo_tel",
          "pctg_alto_viv",
          "pctg_medio_viv",
          "pctg_bajo_viv",
          "num_carpetas",
          "maltrato_fisico",
          "intemperie_o_inmovilidad",
          "subalimentacion",
          "num_carpetas_maltrato",
          "num_carpetas_robo_animales",
          "num_denuncias"
         ],
         "xaxis": "x",
         "y": [
          "pctg_alto_tel",
          "pctg_medio_tel",
          "pctg_bajo_tel",
          "pctg_alto_viv",
          "pctg_medio_viv",
          "pctg_bajo_viv",
          "num_carpetas",
          "maltrato_fisico",
          "intemperie_o_inmovilidad",
          "subalimentacion",
          "num_carpetas_maltrato",
          "num_carpetas_robo_animales",
          "num_denuncias"
         ],
         "yaxis": "y",
         "z": [
          [
           1,
           -0.996291107540437,
           -0.9604903980989968,
           0.939916059319989,
           0.22073948140972327,
           -0.9223303562156293,
           0.22782212443518096,
           0.010898790672616305,
           -0.0026615247142452105,
           -0.03949012625098021,
           0.12254330280746092,
           0.15861630125313655,
           0.03937794487087906
          ],
          [
           -0.996291107540437,
           1,
           0.9329801255585514,
           -0.9554244037579689,
           -0.1655884655724896,
           0.9130949435300385,
           -0.2072737290105632,
           0.009497230693825829,
           0.022265126811230582,
           0.061258834611279,
           -0.10665497455040358,
           -0.13894511992793995,
           -0.019954402353199185
          ],
          [
           -0.9604903980989968,
           0.9329801255585514,
           1,
           -0.8413440535694372,
           -0.38775298604731306,
           0.9046964119012635,
           -0.28255059546647837,
           -0.07630722764822674,
           -0.06088231152972801,
           -0.032953511686165955,
           -0.16762151840178013,
           -0.21407197419543378,
           -0.10017411170350295
          ],
          [
           0.939916059319989,
           -0.9554244037579689,
           -0.8413440535694372,
           1,
           0.0629077727130966,
           -0.9097748146803618,
           0.209283285126125,
           -0.07275373657287441,
           -0.09499005835900548,
           -0.12822692627993088,
           0.0880661552501446,
           0.10168462196318714,
           -0.0446976017368461
          ],
          [
           0.22073948140972327,
           -0.1655884655724896,
           -0.38775298604731306,
           0.0629077727130966,
           1,
           -0.47151187288240964,
           0.40301006233672787,
           0.3221593056078308,
           0.26692440223656416,
           0.2777201592797861,
           0.30164537111728884,
           0.21258517856571163,
           0.29719972693846486
          ],
          [
           -0.9223303562156293,
           0.9130949435300385,
           0.9046964119012635,
           -0.9097748146803618,
           -0.47151187288240964,
           1,
           -0.3525471114347917,
           -0.06970849640079747,
           -0.027086634237317265,
           -0.00220844615798681,
           -0.2032782576453338,
           -0.1782692240059198,
           -0.08411783684129519
          ],
          [
           0.22782212443518096,
           -0.2072737290105632,
           -0.28255059546647837,
           0.209283285126125,
           0.40301006233672787,
           -0.3525471114347917,
           1,
           0.8653103454496223,
           0.832797433444809,
           0.841521222478992,
           0.9057655829138332,
           0.783626502942691,
           0.8629376002765047
          ],
          [
           0.010898790672616305,
           0.009497230693825829,
           -0.07630722764822674,
           -0.07275373657287441,
           0.3221593056078308,
           -0.06970849640079747,
           0.8653103454496223,
           1,
           0.9882058711803269,
           0.9867763706182185,
           0.8607838619796906,
           0.7155167482037791,
           0.9891377913225582
          ],
          [
           -0.0026615247142452105,
           0.022265126811230582,
           -0.06088231152972801,
           -0.09499005835900548,
           0.26692440223656416,
           -0.027086634237317265,
           0.832797433444809,
           0.9882058711803269,
           1,
           0.9975510096368204,
           0.8526170374339459,
           0.707178378304514,
           0.9965749515528058
          ],
          [
           -0.03949012625098021,
           0.061258834611279,
           -0.032953511686165955,
           -0.12822692627993088,
           0.2777201592797861,
           -0.00220844615798681,
           0.841521222478992,
           0.9867763706182185,
           0.9975510096368204,
           1,
           0.8672766227470737,
           0.7079978419419434,
           0.9955278051317749
          ],
          [
           0.12254330280746092,
           -0.10665497455040358,
           -0.16762151840178013,
           0.0880661552501446,
           0.30164537111728884,
           -0.2032782576453338,
           0.9057655829138332,
           0.8607838619796906,
           0.8526170374339459,
           0.8672766227470737,
           1,
           0.7838972805310401,
           0.8837746263371845
          ],
          [
           0.15861630125313655,
           -0.13894511992793995,
           -0.21407197419543378,
           0.10168462196318714,
           0.21258517856571163,
           -0.1782692240059198,
           0.783626502942691,
           0.7155167482037791,
           0.707178378304514,
           0.7079978419419434,
           0.7838972805310401,
           1,
           0.7224237814496067
          ],
          [
           0.03937794487087906,
           -0.019954402353199185,
           -0.10017411170350295,
           -0.0446976017368461,
           0.29719972693846486,
           -0.08411783684129519,
           0.8629376002765047,
           0.9891377913225582,
           0.9965749515528058,
           0.9955278051317749,
           0.8837746263371845,
           0.7224237814496067,
           1
          ]
         ]
        }
       ],
       "layout": {
        "coloraxis": {
         "colorscale": [
          [
           0,
           "#0d0887"
          ],
          [
           0.1111111111111111,
           "#46039f"
          ],
          [
           0.2222222222222222,
           "#7201a8"
          ],
          [
           0.3333333333333333,
           "#9c179e"
          ],
          [
           0.4444444444444444,
           "#bd3786"
          ],
          [
           0.5555555555555556,
           "#d8576b"
          ],
          [
           0.6666666666666666,
           "#ed7953"
          ],
          [
           0.7777777777777778,
           "#fb9f3a"
          ],
          [
           0.8888888888888888,
           "#fdca26"
          ],
          [
           1,
           "#f0f921"
          ]
         ]
        },
        "margin": {
         "t": 60
        },
        "template": {
         "data": {
          "bar": [
           {
            "error_x": {
             "color": "#2a3f5f"
            },
            "error_y": {
             "color": "#2a3f5f"
            },
            "marker": {
             "line": {
              "color": "#E5ECF6",
              "width": 0.5
             },
             "pattern": {
              "fillmode": "overlay",
              "size": 10,
              "solidity": 0.2
             }
            },
            "type": "bar"
           }
          ],
          "barpolar": [
           {
            "marker": {
             "line": {
              "color": "#E5ECF6",
              "width": 0.5
             },
             "pattern": {
              "fillmode": "overlay",
              "size": 10,
              "solidity": 0.2
             }
            },
            "type": "barpolar"
           }
          ],
          "carpet": [
           {
            "aaxis": {
             "endlinecolor": "#2a3f5f",
             "gridcolor": "white",
             "linecolor": "white",
             "minorgridcolor": "white",
             "startlinecolor": "#2a3f5f"
            },
            "baxis": {
             "endlinecolor": "#2a3f5f",
             "gridcolor": "white",
             "linecolor": "white",
             "minorgridcolor": "white",
             "startlinecolor": "#2a3f5f"
            },
            "type": "carpet"
           }
          ],
          "choropleth": [
           {
            "colorbar": {
             "outlinewidth": 0,
             "ticks": ""
            },
            "type": "choropleth"
           }
          ],
          "contour": [
           {
            "colorbar": {
             "outlinewidth": 0,
             "ticks": ""
            },
            "colorscale": [
             [
              0,
              "#0d0887"
             ],
             [
              0.1111111111111111,
              "#46039f"
             ],
             [
              0.2222222222222222,
              "#7201a8"
             ],
             [
              0.3333333333333333,
              "#9c179e"
             ],
             [
              0.4444444444444444,
              "#bd3786"
             ],
             [
              0.5555555555555556,
              "#d8576b"
             ],
             [
              0.6666666666666666,
              "#ed7953"
             ],
             [
              0.7777777777777778,
              "#fb9f3a"
             ],
             [
              0.8888888888888888,
              "#fdca26"
             ],
             [
              1,
              "#f0f921"
             ]
            ],
            "type": "contour"
           }
          ],
          "contourcarpet": [
           {
            "colorbar": {
             "outlinewidth": 0,
             "ticks": ""
            },
            "type": "contourcarpet"
           }
          ],
          "heatmap": [
           {
            "colorbar": {
             "outlinewidth": 0,
             "ticks": ""
            },
            "colorscale": [
             [
              0,
              "#0d0887"
             ],
             [
              0.1111111111111111,
              "#46039f"
             ],
             [
              0.2222222222222222,
              "#7201a8"
             ],
             [
              0.3333333333333333,
              "#9c179e"
             ],
             [
              0.4444444444444444,
              "#bd3786"
             ],
             [
              0.5555555555555556,
              "#d8576b"
             ],
             [
              0.6666666666666666,
              "#ed7953"
             ],
             [
              0.7777777777777778,
              "#fb9f3a"
             ],
             [
              0.8888888888888888,
              "#fdca26"
             ],
             [
              1,
              "#f0f921"
             ]
            ],
            "type": "heatmap"
           }
          ],
          "heatmapgl": [
           {
            "colorbar": {
             "outlinewidth": 0,
             "ticks": ""
            },
            "colorscale": [
             [
              0,
              "#0d0887"
             ],
             [
              0.1111111111111111,
              "#46039f"
             ],
             [
              0.2222222222222222,
              "#7201a8"
             ],
             [
              0.3333333333333333,
              "#9c179e"
             ],
             [
              0.4444444444444444,
              "#bd3786"
             ],
             [
              0.5555555555555556,
              "#d8576b"
             ],
             [
              0.6666666666666666,
              "#ed7953"
             ],
             [
              0.7777777777777778,
              "#fb9f3a"
             ],
             [
              0.8888888888888888,
              "#fdca26"
             ],
             [
              1,
              "#f0f921"
             ]
            ],
            "type": "heatmapgl"
           }
          ],
          "histogram": [
           {
            "marker": {
             "pattern": {
              "fillmode": "overlay",
              "size": 10,
              "solidity": 0.2
             }
            },
            "type": "histogram"
           }
          ],
          "histogram2d": [
           {
            "colorbar": {
             "outlinewidth": 0,
             "ticks": ""
            },
            "colorscale": [
             [
              0,
              "#0d0887"
             ],
             [
              0.1111111111111111,
              "#46039f"
             ],
             [
              0.2222222222222222,
              "#7201a8"
             ],
             [
              0.3333333333333333,
              "#9c179e"
             ],
             [
              0.4444444444444444,
              "#bd3786"
             ],
             [
              0.5555555555555556,
              "#d8576b"
             ],
             [
              0.6666666666666666,
              "#ed7953"
             ],
             [
              0.7777777777777778,
              "#fb9f3a"
             ],
             [
              0.8888888888888888,
              "#fdca26"
             ],
             [
              1,
              "#f0f921"
             ]
            ],
            "type": "histogram2d"
           }
          ],
          "histogram2dcontour": [
           {
            "colorbar": {
             "outlinewidth": 0,
             "ticks": ""
            },
            "colorscale": [
             [
              0,
              "#0d0887"
             ],
             [
              0.1111111111111111,
              "#46039f"
             ],
             [
              0.2222222222222222,
              "#7201a8"
             ],
             [
              0.3333333333333333,
              "#9c179e"
             ],
             [
              0.4444444444444444,
              "#bd3786"
             ],
             [
              0.5555555555555556,
              "#d8576b"
             ],
             [
              0.6666666666666666,
              "#ed7953"
             ],
             [
              0.7777777777777778,
              "#fb9f3a"
             ],
             [
              0.8888888888888888,
              "#fdca26"
             ],
             [
              1,
              "#f0f921"
             ]
            ],
            "type": "histogram2dcontour"
           }
          ],
          "mesh3d": [
           {
            "colorbar": {
             "outlinewidth": 0,
             "ticks": ""
            },
            "type": "mesh3d"
           }
          ],
          "parcoords": [
           {
            "line": {
             "colorbar": {
              "outlinewidth": 0,
              "ticks": ""
             }
            },
            "type": "parcoords"
           }
          ],
          "pie": [
           {
            "automargin": true,
            "type": "pie"
           }
          ],
          "scatter": [
           {
            "fillpattern": {
             "fillmode": "overlay",
             "size": 10,
             "solidity": 0.2
            },
            "type": "scatter"
           }
          ],
          "scatter3d": [
           {
            "line": {
             "colorbar": {
              "outlinewidth": 0,
              "ticks": ""
             }
            },
            "marker": {
             "colorbar": {
              "outlinewidth": 0,
              "ticks": ""
             }
            },
            "type": "scatter3d"
           }
          ],
          "scattercarpet": [
           {
            "marker": {
             "colorbar": {
              "outlinewidth": 0,
              "ticks": ""
             }
            },
            "type": "scattercarpet"
           }
          ],
          "scattergeo": [
           {
            "marker": {
             "colorbar": {
              "outlinewidth": 0,
              "ticks": ""
             }
            },
            "type": "scattergeo"
           }
          ],
          "scattergl": [
           {
            "marker": {
             "colorbar": {
              "outlinewidth": 0,
              "ticks": ""
             }
            },
            "type": "scattergl"
           }
          ],
          "scattermapbox": [
           {
            "marker": {
             "colorbar": {
              "outlinewidth": 0,
              "ticks": ""
             }
            },
            "type": "scattermapbox"
           }
          ],
          "scatterpolar": [
           {
            "marker": {
             "colorbar": {
              "outlinewidth": 0,
              "ticks": ""
             }
            },
            "type": "scatterpolar"
           }
          ],
          "scatterpolargl": [
           {
            "marker": {
             "colorbar": {
              "outlinewidth": 0,
              "ticks": ""
             }
            },
            "type": "scatterpolargl"
           }
          ],
          "scatterternary": [
           {
            "marker": {
             "colorbar": {
              "outlinewidth": 0,
              "ticks": ""
             }
            },
            "type": "scatterternary"
           }
          ],
          "surface": [
           {
            "colorbar": {
             "outlinewidth": 0,
             "ticks": ""
            },
            "colorscale": [
             [
              0,
              "#0d0887"
             ],
             [
              0.1111111111111111,
              "#46039f"
             ],
             [
              0.2222222222222222,
              "#7201a8"
             ],
             [
              0.3333333333333333,
              "#9c179e"
             ],
             [
              0.4444444444444444,
              "#bd3786"
             ],
             [
              0.5555555555555556,
              "#d8576b"
             ],
             [
              0.6666666666666666,
              "#ed7953"
             ],
             [
              0.7777777777777778,
              "#fb9f3a"
             ],
             [
              0.8888888888888888,
              "#fdca26"
             ],
             [
              1,
              "#f0f921"
             ]
            ],
            "type": "surface"
           }
          ],
          "table": [
           {
            "cells": {
             "fill": {
              "color": "#EBF0F8"
             },
             "line": {
              "color": "white"
             }
            },
            "header": {
             "fill": {
              "color": "#C8D4E3"
             },
             "line": {
              "color": "white"
             }
            },
            "type": "table"
           }
          ]
         },
         "layout": {
          "annotationdefaults": {
           "arrowcolor": "#2a3f5f",
           "arrowhead": 0,
           "arrowwidth": 1
          },
          "autotypenumbers": "strict",
          "coloraxis": {
           "colorbar": {
            "outlinewidth": 0,
            "ticks": ""
           }
          },
          "colorscale": {
           "diverging": [
            [
             0,
             "#8e0152"
            ],
            [
             0.1,
             "#c51b7d"
            ],
            [
             0.2,
             "#de77ae"
            ],
            [
             0.3,
             "#f1b6da"
            ],
            [
             0.4,
             "#fde0ef"
            ],
            [
             0.5,
             "#f7f7f7"
            ],
            [
             0.6,
             "#e6f5d0"
            ],
            [
             0.7,
             "#b8e186"
            ],
            [
             0.8,
             "#7fbc41"
            ],
            [
             0.9,
             "#4d9221"
            ],
            [
             1,
             "#276419"
            ]
           ],
           "sequential": [
            [
             0,
             "#0d0887"
            ],
            [
             0.1111111111111111,
             "#46039f"
            ],
            [
             0.2222222222222222,
             "#7201a8"
            ],
            [
             0.3333333333333333,
             "#9c179e"
            ],
            [
             0.4444444444444444,
             "#bd3786"
            ],
            [
             0.5555555555555556,
             "#d8576b"
            ],
            [
             0.6666666666666666,
             "#ed7953"
            ],
            [
             0.7777777777777778,
             "#fb9f3a"
            ],
            [
             0.8888888888888888,
             "#fdca26"
            ],
            [
             1,
             "#f0f921"
            ]
           ],
           "sequentialminus": [
            [
             0,
             "#0d0887"
            ],
            [
             0.1111111111111111,
             "#46039f"
            ],
            [
             0.2222222222222222,
             "#7201a8"
            ],
            [
             0.3333333333333333,
             "#9c179e"
            ],
            [
             0.4444444444444444,
             "#bd3786"
            ],
            [
             0.5555555555555556,
             "#d8576b"
            ],
            [
             0.6666666666666666,
             "#ed7953"
            ],
            [
             0.7777777777777778,
             "#fb9f3a"
            ],
            [
             0.8888888888888888,
             "#fdca26"
            ],
            [
             1,
             "#f0f921"
            ]
           ]
          },
          "colorway": [
           "#636efa",
           "#EF553B",
           "#00cc96",
           "#ab63fa",
           "#FFA15A",
           "#19d3f3",
           "#FF6692",
           "#B6E880",
           "#FF97FF",
           "#FECB52"
          ],
          "font": {
           "color": "#2a3f5f"
          },
          "geo": {
           "bgcolor": "white",
           "lakecolor": "white",
           "landcolor": "#E5ECF6",
           "showlakes": true,
           "showland": true,
           "subunitcolor": "white"
          },
          "hoverlabel": {
           "align": "left"
          },
          "hovermode": "closest",
          "mapbox": {
           "style": "light"
          },
          "paper_bgcolor": "white",
          "plot_bgcolor": "#E5ECF6",
          "polar": {
           "angularaxis": {
            "gridcolor": "white",
            "linecolor": "white",
            "ticks": ""
           },
           "bgcolor": "#E5ECF6",
           "radialaxis": {
            "gridcolor": "white",
            "linecolor": "white",
            "ticks": ""
           }
          },
          "scene": {
           "xaxis": {
            "backgroundcolor": "#E5ECF6",
            "gridcolor": "white",
            "gridwidth": 2,
            "linecolor": "white",
            "showbackground": true,
            "ticks": "",
            "zerolinecolor": "white"
           },
           "yaxis": {
            "backgroundcolor": "#E5ECF6",
            "gridcolor": "white",
            "gridwidth": 2,
            "linecolor": "white",
            "showbackground": true,
            "ticks": "",
            "zerolinecolor": "white"
           },
           "zaxis": {
            "backgroundcolor": "#E5ECF6",
            "gridcolor": "white",
            "gridwidth": 2,
            "linecolor": "white",
            "showbackground": true,
            "ticks": "",
            "zerolinecolor": "white"
           }
          },
          "shapedefaults": {
           "line": {
            "color": "#2a3f5f"
           }
          },
          "ternary": {
           "aaxis": {
            "gridcolor": "white",
            "linecolor": "white",
            "ticks": ""
           },
           "baxis": {
            "gridcolor": "white",
            "linecolor": "white",
            "ticks": ""
           },
           "bgcolor": "#E5ECF6",
           "caxis": {
            "gridcolor": "white",
            "linecolor": "white",
            "ticks": ""
           }
          },
          "title": {
           "x": 0.05
          },
          "xaxis": {
           "automargin": true,
           "gridcolor": "white",
           "linecolor": "white",
           "ticks": "",
           "title": {
            "standoff": 15
           },
           "zerolinecolor": "white",
           "zerolinewidth": 2
          },
          "yaxis": {
           "automargin": true,
           "gridcolor": "white",
           "linecolor": "white",
           "ticks": "",
           "title": {
            "standoff": 15
           },
           "zerolinecolor": "white",
           "zerolinewidth": 2
          }
         }
        },
        "xaxis": {
         "anchor": "y",
         "constrain": "domain",
         "domain": [
          0,
          1
         ],
         "scaleanchor": "y"
        },
        "yaxis": {
         "anchor": "x",
         "autorange": "reversed",
         "constrain": "domain",
         "domain": [
          0,
          1
         ]
        }
       }
      }
     },
     "metadata": {},
     "output_type": "display_data"
    }
   ],
   "source": [
    "import plotly.express as px\n",
    "\n",
    "\n",
    "fig = px.imshow(correlaciones, text_auto=True)\n",
    "fig.show()"
   ]
  },
  {
   "cell_type": "markdown",
   "metadata": {},
   "source": []
  }
 ],
 "metadata": {
  "kernelspec": {
   "display_name": "Python 3.10.4 ('env')",
   "language": "python",
   "name": "python3"
  },
  "language_info": {
   "codemirror_mode": {
    "name": "ipython",
    "version": 3
   },
   "file_extension": ".py",
   "mimetype": "text/x-python",
   "name": "python",
   "nbconvert_exporter": "python",
   "pygments_lexer": "ipython3",
   "version": "3.10.4"
  },
  "orig_nbformat": 4,
  "vscode": {
   "interpreter": {
    "hash": "c4144324fcff0bc5a8de6332d56aa7c47a05da9eb72c9e185f253733c7069112"
   }
  }
 },
 "nbformat": 4,
 "nbformat_minor": 2
}
