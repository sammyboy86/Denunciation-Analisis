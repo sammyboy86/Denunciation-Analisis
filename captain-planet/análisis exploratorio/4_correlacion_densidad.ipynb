{
 "cells": [
  {
   "cell_type": "code",
   "execution_count": 1,
   "metadata": {},
   "outputs": [],
   "source": [
    "import plotly.express as px\n",
    "import plotly.graph_objects as go\n",
    "import os\n",
    "import pandas as pd\n",
    "import numpy as np \n",
    "import s3fs\n",
    "import configparser\n",
    "\n",
    "config = configparser.ConfigParser()\n",
    "# Este archivo se creará cuando se instale el AWS command line interface.\n",
    "# Seguir estas instrucciones: https://docs.aws.amazon.com/cli/latest/userguide/getting-started-install.html\n",
    "# ES OBLIGATORIO instalar este componente antes de continuar esta ejecución.\n",
    "config.read(os.getenv(\"HOME\") + '/.aws/credentials')\n",
    "\n",
    "aws_credentials = {'key': config[\"cdas-itam\"][\"aws_access_key_id\"],'secret': config[\"cdas-itam\"][\"aws_secret_access_key\"]}\n",
    "\n",
    "df = pd.read_csv(r's3://captain-planet-denuncias-paot/clean/clean_denuncias_paot.csv', storage_options=aws_credentials, low_memory=False)\n",
    "\n",
    "df[[\"fecha_de_recepcion\", \"fecha_de_ratificacion\", \"fecha_de_turno\", \"fecha_de_admision/radicacion\", \"fecha_de_conclusion\"]] = df[[\"fecha_de_recepcion\", \"fecha_de_ratificacion\", \"fecha_de_turno\", \"fecha_de_admision/radicacion\", \"fecha_de_conclusion\"]].apply(pd.to_datetime, errors = 'coerce', infer_datetime_format=True)\n"
   ]
  },
  {
   "cell_type": "code",
   "execution_count": 2,
   "metadata": {},
   "outputs": [
    {
     "name": "stdout",
     "output_type": "stream",
     "text": [
      "PyTables is not installed. No support for HDF output.\n"
     ]
    },
    {
     "ename": "FileNotFoundError",
     "evalue": "[Errno 2] No such file or directory: 'C:\\\\Users\\\\samue\\\\OneDrive\\\\Documents\\\\GitHub\\\\captain_planet_sammy\\\\captain-planet\\\\data\\\\raw\\\\ri_11.dbf'",
     "output_type": "error",
     "traceback": [
      "\u001b[0;31m---------------------------------------------------------------------------\u001b[0m",
      "\u001b[0;31mFileNotFoundError\u001b[0m                         Traceback (most recent call last)",
      "Input \u001b[0;32mIn [2]\u001b[0m, in \u001b[0;36m<cell line: 5>\u001b[0;34m()\u001b[0m\n\u001b[1;32m      1\u001b[0m \u001b[38;5;28;01mimport\u001b[39;00m \u001b[38;5;21;01mpandas\u001b[39;00m \u001b[38;5;28;01mas\u001b[39;00m \u001b[38;5;21;01mpd\u001b[39;00m\n\u001b[1;32m      3\u001b[0m \u001b[38;5;28;01mfrom\u001b[39;00m \u001b[38;5;21;01msimpledbf\u001b[39;00m \u001b[38;5;28;01mimport\u001b[39;00m Dbf5\n\u001b[0;32m----> 5\u001b[0m dbf \u001b[38;5;241m=\u001b[39m \u001b[43mDbf5\u001b[49m\u001b[43m(\u001b[49m\u001b[38;5;124;43mr\u001b[39;49m\u001b[38;5;124;43m'\u001b[39;49m\u001b[38;5;124;43mC:\u001b[39;49m\u001b[38;5;124;43m\\\u001b[39;49m\u001b[38;5;124;43mUsers\u001b[39;49m\u001b[38;5;124;43m\\\u001b[39;49m\u001b[38;5;124;43msamue\u001b[39;49m\u001b[38;5;124;43m\\\u001b[39;49m\u001b[38;5;124;43mOneDrive\u001b[39;49m\u001b[38;5;124;43m\\\u001b[39;49m\u001b[38;5;124;43mDocuments\u001b[39;49m\u001b[38;5;124;43m\\\u001b[39;49m\u001b[38;5;124;43mGitHub\u001b[39;49m\u001b[38;5;124;43m\\\u001b[39;49m\u001b[38;5;124;43mcaptain_planet_sammy\u001b[39;49m\u001b[38;5;124;43m\\\u001b[39;49m\u001b[38;5;124;43mcaptain-planet\u001b[39;49m\u001b[38;5;124;43m\\\u001b[39;49m\u001b[38;5;124;43mdata\u001b[39;49m\u001b[38;5;124;43m\\\u001b[39;49m\u001b[38;5;124;43mraw\u001b[39;49m\u001b[38;5;124;43m\\\u001b[39;49m\u001b[38;5;124;43mri_11.dbf\u001b[39;49m\u001b[38;5;124;43m'\u001b[39;49m\u001b[43m)\u001b[49m\n\u001b[1;32m      7\u001b[0m df_pob \u001b[38;5;241m=\u001b[39m dbf\u001b[38;5;241m.\u001b[39mto_dataframe()\n\u001b[1;32m     11\u001b[0m \u001b[38;5;28;01mdef\u001b[39;00m \u001b[38;5;21mcorrelacion_densidad_parametro\u001b[39m(columna, parametro):\n\u001b[1;32m     12\u001b[0m \n\u001b[1;32m     13\u001b[0m     \u001b[38;5;66;03m#dataframe vacio\u001b[39;00m\n",
      "File \u001b[0;32m/opt/tljh/user/lib/python3.9/site-packages/simpledbf/simpledbf.py:539\u001b[0m, in \u001b[0;36mDbf5.__init__\u001b[0;34m(self, dbf, codec)\u001b[0m\n\u001b[1;32m    537\u001b[0m \u001b[38;5;28mself\u001b[39m\u001b[38;5;241m.\u001b[39m_esc \u001b[38;5;241m=\u001b[39m \u001b[38;5;28;01mNone\u001b[39;00m\n\u001b[1;32m    538\u001b[0m \u001b[38;5;66;03m# Reading as binary so bytes will always be returned\u001b[39;00m\n\u001b[0;32m--> 539\u001b[0m \u001b[38;5;28mself\u001b[39m\u001b[38;5;241m.\u001b[39mf \u001b[38;5;241m=\u001b[39m \u001b[38;5;28;43mopen\u001b[39;49m\u001b[43m(\u001b[49m\u001b[43mdbf\u001b[49m\u001b[43m,\u001b[49m\u001b[43m \u001b[49m\u001b[38;5;124;43m'\u001b[39;49m\u001b[38;5;124;43mrb\u001b[39;49m\u001b[38;5;124;43m'\u001b[39;49m\u001b[43m)\u001b[49m\n\u001b[1;32m    541\u001b[0m \u001b[38;5;28mself\u001b[39m\u001b[38;5;241m.\u001b[39mnumrec, \u001b[38;5;28mself\u001b[39m\u001b[38;5;241m.\u001b[39mlenheader \u001b[38;5;241m=\u001b[39m struct\u001b[38;5;241m.\u001b[39munpack(\u001b[38;5;124m'\u001b[39m\u001b[38;5;124m<xxxxLH22x\u001b[39m\u001b[38;5;124m'\u001b[39m, \n\u001b[1;32m    542\u001b[0m         \u001b[38;5;28mself\u001b[39m\u001b[38;5;241m.\u001b[39mf\u001b[38;5;241m.\u001b[39mread(\u001b[38;5;241m32\u001b[39m))    \n\u001b[1;32m    543\u001b[0m \u001b[38;5;28mself\u001b[39m\u001b[38;5;241m.\u001b[39mnumfields \u001b[38;5;241m=\u001b[39m (\u001b[38;5;28mself\u001b[39m\u001b[38;5;241m.\u001b[39mlenheader \u001b[38;5;241m-\u001b[39m \u001b[38;5;241m33\u001b[39m) \u001b[38;5;241m/\u001b[39m\u001b[38;5;241m/\u001b[39m \u001b[38;5;241m32\u001b[39m\n",
      "\u001b[0;31mFileNotFoundError\u001b[0m: [Errno 2] No such file or directory: 'C:\\\\Users\\\\samue\\\\OneDrive\\\\Documents\\\\GitHub\\\\captain_planet_sammy\\\\captain-planet\\\\data\\\\raw\\\\ri_11.dbf'"
     ]
    }
   ],
   "source": [
    "\n",
    "\n",
    "import pandas as pd\n",
    "\n",
    "from simpledbf import Dbf5\n",
    "\n",
    "dbf = Dbf5(r'C:\\Users\\samue\\OneDrive\\Documents\\GitHub\\captain_planet_sammy\\captain-planet\\data\\raw\\ri_11.dbf')\n",
    "\n",
    "df_pob = dbf.to_dataframe()\n",
    "\n",
    "\n",
    "\n",
    "def correlacion_densidad_parametro(columna, parametro):\n",
    "\n",
    "    #dataframe vacio\n",
    "    df_comparativo = pd.DataFrame(columns=['colonia', 'num_denuncias','hab_por_km_cuadrado'], index = range(df['colonia'].unique().size))\n",
    "\n",
    "    #iniciar indice\n",
    "    index = 0\n",
    "    \n",
    "    for colonia in df['colonia'].unique():\n",
    "        \n",
    "\n",
    "        #checar q la colina exista en la base de densidad\n",
    "        if(colonia.upper() in df_pob['colonia'].unique()):\n",
    "\n",
    "            #asignar colonia\n",
    "            df_comparativo.iloc[index, 0] = colonia\n",
    "\n",
    "            #numero de denuncias por colonia siguiendo parametro de columna dados\n",
    "            df_comparativo.iloc[index,1] =  df[(df[columna]==parametro) & (df['colonia']==colonia)].shape[0]\n",
    "            \n",
    "            #& (df['fecha_de_recepcion'].dt.year == 2010) se reducen demasiado los resultados\n",
    "\n",
    "            #datos especificos de la colonia (en tabla densidad)\n",
    "            datos_colonia = df_pob[df_pob['colonia'] == colonia.upper()]\n",
    "\n",
    "            if(not datos_colonia.empty):\n",
    "                #densidad x km cuadrado\n",
    "                df_comparativo.iloc[index,2] = (1000000/int(datos_colonia.iloc[0,5])*int(datos_colonia.iloc[0,4]))\n",
    "            \n",
    "\n",
    "      \n",
    "        \n",
    "        index = index +1 \n",
    "        \n",
    "        \n",
    "\n",
    "    return df_comparativo.dropna()\n",
    "\n",
    "\n",
    "correlacion_densidad_parametro('materia', 'Maltrato Animal')\n",
    "\n",
    "\n"
   ]
  },
  {
   "cell_type": "markdown",
   "metadata": {},
   "source": [
    "Pruebas iniciales de mergear datasets, sin linkage"
   ]
  },
  {
   "cell_type": "code",
   "execution_count": null,
   "metadata": {},
   "outputs": [],
   "source": [
    "df_pob[df_pob['colonia']=='SAN RAFAEL']"
   ]
  },
  {
   "cell_type": "code",
   "execution_count": null,
   "metadata": {},
   "outputs": [],
   "source": [
    "correlacion_materias = pd.DataFrame(columns=['materia','correlacion_con_densidad'], index = range(df['materia'].unique().size))\n",
    "\n",
    "index = 0\n",
    "for materia in df['materia'].unique():\n",
    "    tabla_denuncias_densidad = correlacion_densidad_parametro('materia', materia)\n",
    "    correlacion_materias.iloc[index, 0] = materia\n",
    "    correlacion_materias.iloc[index, 1] = tabla_denuncias_densidad['num_denuncias'].astype('float64').corr(tabla_denuncias_densidad['hab_por_km_cuadrado'].astype('float64'))\n",
    "    index = index + 1\n",
    "\n",
    "\n",
    "# se logro :) la tabla con correlaciones de materia con densidad de poblacion\n",
    "correlacion_materias.head(50)\n",
    "\n"
   ]
  },
  {
   "cell_type": "code",
   "execution_count": null,
   "metadata": {},
   "outputs": [],
   "source": [
    "correlacion_materias.to_csv(r'C:\\Users\\samue\\OneDrive\\Documents\\GitHub\\captain_planet_sammy\\captain-planet\\data\\clean\\correlacion_materia_densidad.csv', encoding = 'latin')"
   ]
  },
  {
   "cell_type": "code",
   "execution_count": null,
   "metadata": {},
   "outputs": [],
   "source": [
    "#para presentarlo al equipo\n",
    "\n",
    "correlacion_materias = pd.read_csv(r'C:\\Users\\samue\\OneDrive\\Documents\\GitHub\\captain_planet_sammy\\captain-planet\\data\\clean\\correlacion_materia_densidad.csv', encoding = 'latin', index_col= 0)\n",
    "correlacion_materias"
   ]
  }
 ],
 "metadata": {
  "kernelspec": {
   "display_name": "Python 3 (ipykernel)",
   "language": "python",
   "name": "python3"
  },
  "language_info": {
   "codemirror_mode": {
    "name": "ipython",
    "version": 3
   },
   "file_extension": ".py",
   "mimetype": "text/x-python",
   "name": "python",
   "nbconvert_exporter": "python",
   "pygments_lexer": "ipython3",
   "version": "3.9.13"
  },
  "vscode": {
   "interpreter": {
    "hash": "c4144324fcff0bc5a8de6332d56aa7c47a05da9eb72c9e185f253733c7069112"
   }
  }
 },
 "nbformat": 4,
 "nbformat_minor": 4
}
