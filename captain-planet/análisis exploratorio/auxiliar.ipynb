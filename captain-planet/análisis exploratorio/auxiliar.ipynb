{
 "cells": [
  {
   "cell_type": "code",
   "execution_count": 2,
   "metadata": {},
   "outputs": [
    {
     "name": "stderr",
     "output_type": "stream",
     "text": [
      "C:\\Users\\samue\\AppData\\Local\\Temp\\ipykernel_24700\\2071097641.py:2: DtypeWarning: Columns (22) have mixed types. Specify dtype option on import or set low_memory=False.\n",
      "  df_paot = pd.read_csv(r'C:\\Users\\samue\\OneDrive\\Documents\\GitHub\\captain_planet_sammy\\captain-planet\\data\\raw\\df_paot_con_limpieza.csv')\n"
     ]
    }
   ],
   "source": [
    "import pandas as pd\n",
    "df_paot = pd.read_csv(r'C:\\Users\\samue\\OneDrive\\Documents\\GitHub\\captain_planet_sammy\\captain-planet\\data\\raw\\df_paot_con_limpieza.csv')\n"
   ]
  },
  {
   "cell_type": "code",
   "execution_count": 12,
   "metadata": {},
   "outputs": [
    {
     "data": {
      "text/html": [
       "<div>\n",
       "<style scoped>\n",
       "    .dataframe tbody tr th:only-of-type {\n",
       "        vertical-align: middle;\n",
       "    }\n",
       "\n",
       "    .dataframe tbody tr th {\n",
       "        vertical-align: top;\n",
       "    }\n",
       "\n",
       "    .dataframe thead th {\n",
       "        text-align: right;\n",
       "    }\n",
       "</style>\n",
       "<table border=\"1\" class=\"dataframe\">\n",
       "  <thead>\n",
       "    <tr style=\"text-align: right;\">\n",
       "      <th></th>\n",
       "      <th>Unnamed: 0.1</th>\n",
       "      <th>Unnamed: 0</th>\n",
       "      <th>id_denuncia</th>\n",
       "      <th>estatus</th>\n",
       "      <th>tipo_de_denuncia</th>\n",
       "      <th>expediente</th>\n",
       "      <th>materia</th>\n",
       "      <th>fecha_de_recepcion</th>\n",
       "      <th>fecha_de_ratificacion</th>\n",
       "      <th>fecha_de_turno</th>\n",
       "      <th>fecha_de_admision/radicacion</th>\n",
       "      <th>fecha_de_conclusion</th>\n",
       "      <th>medio_de_recepcion</th>\n",
       "      <th>domicilio</th>\n",
       "      <th>colonia</th>\n",
       "      <th>alcaldia</th>\n",
       "      <th>codigo_postal</th>\n",
       "      <th>regimen_propiedad</th>\n",
       "      <th>actos,_hechos_y_omisiones</th>\n",
       "      <th>area_responsable</th>\n",
       "      <th>coord._x</th>\n",
       "      <th>coord._y</th>\n",
       "      <th>denuncia_padre</th>\n",
       "    </tr>\n",
       "  </thead>\n",
       "  <tbody>\n",
       "    <tr>\n",
       "      <th>41410</th>\n",
       "      <td>41410</td>\n",
       "      <td>41410</td>\n",
       "      <td>41475</td>\n",
       "      <td>Concluida</td>\n",
       "      <td>Denuncia ciudadana</td>\n",
       "      <td>PAOT-2019-3521-SPA-2159</td>\n",
       "      <td>Maltrato Animal</td>\n",
       "      <td>28/08/2019</td>\n",
       "      <td>28/08/2019</td>\n",
       "      <td>29/08/2019</td>\n",
       "      <td>11/09/2019</td>\n",
       "      <td>31/03/2022</td>\n",
       "      <td>Módulos Delegacionales</td>\n",
       "      <td>Calle: Acuilotitla Núm. ext: S/N Núm. int: S/N</td>\n",
       "      <td>rancho pachita</td>\n",
       "      <td>la magdalena contreras</td>\n",
       "      <td>10650.0</td>\n",
       "      <td>NaN</td>\n",
       "      <td>El maltrato del que es objeto tres caballos los cuales los tienen al interior de una barranca a la intemperie, sin alimento ni agua aunado a que se encuentran amarrados con un lazo el cual no les permite la movilidad, sito en calle Acuilotitla, colonia Rancho Pachita, demarcación territorial Magdalena Contreras.</td>\n",
       "      <td>Subprocuraduría Ambiental, de Protección y Bienestar a los Animales</td>\n",
       "      <td>2134026.42</td>\n",
       "      <td>472330.72</td>\n",
       "      <td>NaN</td>\n",
       "    </tr>\n",
       "  </tbody>\n",
       "</table>\n",
       "</div>"
      ],
      "text/plain": [
       "       Unnamed: 0.1  Unnamed: 0  id_denuncia    estatus    tipo_de_denuncia  \\\n",
       "41410         41410       41410        41475  Concluida  Denuncia ciudadana   \n",
       "\n",
       "                    expediente          materia fecha_de_recepcion  \\\n",
       "41410  PAOT-2019-3521-SPA-2159  Maltrato Animal         28/08/2019   \n",
       "\n",
       "      fecha_de_ratificacion fecha_de_turno fecha_de_admision/radicacion  \\\n",
       "41410            28/08/2019     29/08/2019                   11/09/2019   \n",
       "\n",
       "      fecha_de_conclusion      medio_de_recepcion  \\\n",
       "41410          31/03/2022  Módulos Delegacionales   \n",
       "\n",
       "                                            domicilio         colonia  \\\n",
       "41410  Calle: Acuilotitla Núm. ext: S/N Núm. int: S/N  rancho pachita   \n",
       "\n",
       "                     alcaldia  codigo_postal regimen_propiedad  \\\n",
       "41410  la magdalena contreras        10650.0               NaN   \n",
       "\n",
       "                                                                                                                                                                                                                                                                                                       actos,_hechos_y_omisiones  \\\n",
       "41410  El maltrato del que es objeto tres caballos los cuales los tienen al interior de una barranca a la intemperie, sin alimento ni agua aunado a que se encuentran amarrados con un lazo el cual no les permite la movilidad, sito en calle Acuilotitla, colonia Rancho Pachita, demarcación territorial Magdalena Contreras.   \n",
       "\n",
       "                                                          area_responsable  \\\n",
       "41410  Subprocuraduría Ambiental, de Protección y Bienestar a los Animales   \n",
       "\n",
       "         coord._x   coord._y denuncia_padre  \n",
       "41410  2134026.42  472330.72            NaN  "
      ]
     },
     "execution_count": 12,
     "metadata": {},
     "output_type": "execute_result"
    }
   ],
   "source": [
    "pd.set_option('display.max_colwidth', None)\n",
    "pd.set_option('display.max_columns', None)\n",
    "df_paot[(df_paot['colonia'].str.contains('pachita'))&(df_paot['alcaldia']=='la magdalena contreras')]"
   ]
  }
 ],
 "metadata": {
  "kernelspec": {
   "display_name": "Python 3.10.4 ('env')",
   "language": "python",
   "name": "python3"
  },
  "language_info": {
   "codemirror_mode": {
    "name": "ipython",
    "version": 3
   },
   "file_extension": ".py",
   "mimetype": "text/x-python",
   "name": "python",
   "nbconvert_exporter": "python",
   "pygments_lexer": "ipython3",
   "version": "3.10.4"
  },
  "orig_nbformat": 4,
  "vscode": {
   "interpreter": {
    "hash": "c4144324fcff0bc5a8de6332d56aa7c47a05da9eb72c9e185f253733c7069112"
   }
  }
 },
 "nbformat": 4,
 "nbformat_minor": 2
}
