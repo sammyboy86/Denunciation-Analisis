{
 "cells": [
  {
   "cell_type": "code",
   "execution_count": 1,
   "metadata": {},
   "outputs": [
    {
     "data": {
      "text/html": [
       "<div>\n",
       "<style scoped>\n",
       "    .dataframe tbody tr th:only-of-type {\n",
       "        vertical-align: middle;\n",
       "    }\n",
       "\n",
       "    .dataframe tbody tr th {\n",
       "        vertical-align: top;\n",
       "    }\n",
       "\n",
       "    .dataframe thead th {\n",
       "        text-align: right;\n",
       "    }\n",
       "</style>\n",
       "<table border=\"1\" class=\"dataframe\">\n",
       "  <thead>\n",
       "    <tr style=\"text-align: right;\">\n",
       "      <th></th>\n",
       "      <th>id denuncia</th>\n",
       "      <th>Estatus</th>\n",
       "      <th>Tipo de denuncia</th>\n",
       "      <th>Expediente</th>\n",
       "      <th>Materia</th>\n",
       "      <th>Fecha de recepción</th>\n",
       "      <th>Fecha de ratificación</th>\n",
       "      <th>Fecha de turno</th>\n",
       "      <th>Fecha de admisión/radicación</th>\n",
       "      <th>Fecha de conclusión</th>\n",
       "      <th>...</th>\n",
       "      <th>Alcaldía</th>\n",
       "      <th>Entre calle 1</th>\n",
       "      <th>Entre calle 2</th>\n",
       "      <th>Referencias</th>\n",
       "      <th>Código postal</th>\n",
       "      <th>Régimen propiedad</th>\n",
       "      <th>Actos, Hechos y Omisiones</th>\n",
       "      <th>Área responsable</th>\n",
       "      <th>Coord. X</th>\n",
       "      <th>Coord. Y</th>\n",
       "    </tr>\n",
       "  </thead>\n",
       "  <tbody>\n",
       "    <tr>\n",
       "      <th>0</th>\n",
       "      <td>1</td>\n",
       "      <td>Concluida</td>\n",
       "      <td>Denuncia ciudadana</td>\n",
       "      <td>PAOT-2002/CAJRD-0001-SOT-001</td>\n",
       "      <td>Áreas Verdes (en Suelo Urbano)</td>\n",
       "      <td>30/01/2002</td>\n",
       "      <td>30/01/2002</td>\n",
       "      <td>06/02/2002</td>\n",
       "      <td>06/02/2002</td>\n",
       "      <td>14/03/2002</td>\n",
       "      <td>...</td>\n",
       "      <td>Iztacalco</td>\n",
       "      <td>ORIENTE 217</td>\n",
       "      <td>ORIENTE 221</td>\n",
       "      <td>NaN</td>\n",
       "      <td>8500.0</td>\n",
       "      <td>Pública</td>\n",
       "      <td>Derribo de árboles en área verde de la Colonia...</td>\n",
       "      <td>Subprocuraduría del Ordenamiento Territorial</td>\n",
       "      <td>2144406.000</td>\n",
       "      <td>491217.0000</td>\n",
       "    </tr>\n",
       "    <tr>\n",
       "      <th>1</th>\n",
       "      <td>2</td>\n",
       "      <td>Concluida</td>\n",
       "      <td>Denuncia ciudadana</td>\n",
       "      <td>PAOT-2002/CAJRD-0002-SPA-001</td>\n",
       "      <td>Suelo de Conservación</td>\n",
       "      <td>10/04/2002</td>\n",
       "      <td>10/04/2002</td>\n",
       "      <td>12/04/2002</td>\n",
       "      <td>12/04/2002</td>\n",
       "      <td>10/06/2002</td>\n",
       "      <td>...</td>\n",
       "      <td>Tláhuac</td>\n",
       "      <td>NaN</td>\n",
       "      <td>NaN</td>\n",
       "      <td>NaN</td>\n",
       "      <td>13500.0</td>\n",
       "      <td>Social</td>\n",
       "      <td>Contaminación de suelos agrícolas con material...</td>\n",
       "      <td>Subprocuraduría Ambiental, de Protección y Bie...</td>\n",
       "      <td>2128631.137</td>\n",
       "      <td>500897.8680</td>\n",
       "    </tr>\n",
       "    <tr>\n",
       "      <th>2</th>\n",
       "      <td>3</td>\n",
       "      <td>Concluida</td>\n",
       "      <td>Denuncia ciudadana</td>\n",
       "      <td>PAOT-2002/CAJRD-0003-SPA-002</td>\n",
       "      <td>Aire</td>\n",
       "      <td>29/04/2002</td>\n",
       "      <td>29/04/2002</td>\n",
       "      <td>30/04/2002</td>\n",
       "      <td>06/05/2002</td>\n",
       "      <td>24/06/2002</td>\n",
       "      <td>...</td>\n",
       "      <td>Cuauhtémoc</td>\n",
       "      <td>FRANCISCO PIMENTEL</td>\n",
       "      <td>ALFONSO HERRERA</td>\n",
       "      <td>NaN</td>\n",
       "      <td>6470.0</td>\n",
       "      <td>Pública</td>\n",
       "      <td>Contaminación del aire por servicios de hojala...</td>\n",
       "      <td>Subprocuraduría Ambiental, de Protección y Bie...</td>\n",
       "      <td>2149346.794</td>\n",
       "      <td>482638.9534</td>\n",
       "    </tr>\n",
       "    <tr>\n",
       "      <th>3</th>\n",
       "      <td>4</td>\n",
       "      <td>No admitida</td>\n",
       "      <td>Denuncia ciudadana</td>\n",
       "      <td>PAOT-2002/CAJRD-0004-SPA-004</td>\n",
       "      <td>Maltrato Animal</td>\n",
       "      <td>30/04/2002</td>\n",
       "      <td>30/04/2002</td>\n",
       "      <td>02/05/2002</td>\n",
       "      <td>02/05/2002</td>\n",
       "      <td>02/05/2002</td>\n",
       "      <td>...</td>\n",
       "      <td>Álvaro Obregón</td>\n",
       "      <td>NaN</td>\n",
       "      <td>NaN</td>\n",
       "      <td>NaN</td>\n",
       "      <td>1450.0</td>\n",
       "      <td>Privada</td>\n",
       "      <td>Daño en propiedad ajena y amenazas por Pit-bul...</td>\n",
       "      <td>Subprocuraduría Ambiental, de Protección y Bie...</td>\n",
       "      <td>2141901.002</td>\n",
       "      <td>478549.2810</td>\n",
       "    </tr>\n",
       "    <tr>\n",
       "      <th>4</th>\n",
       "      <td>7</td>\n",
       "      <td>Concluida</td>\n",
       "      <td>Denuncia ciudadana</td>\n",
       "      <td>PAOT-2002/CAJRD-0006-SPA-003</td>\n",
       "      <td>Uso de Suelo Urbano</td>\n",
       "      <td>02/05/2002</td>\n",
       "      <td>03/05/2002</td>\n",
       "      <td>07/05/2002</td>\n",
       "      <td>07/05/2002</td>\n",
       "      <td>20/06/2002</td>\n",
       "      <td>...</td>\n",
       "      <td>Álvaro Obregón</td>\n",
       "      <td>NaN</td>\n",
       "      <td>NaN</td>\n",
       "      <td>NaN</td>\n",
       "      <td>1001.0</td>\n",
       "      <td>Pública</td>\n",
       "      <td>Omisión de leyes y normas ambientales con el p...</td>\n",
       "      <td>Subprocuraduría Ambiental, de Protección y Bie...</td>\n",
       "      <td>2143425.900</td>\n",
       "      <td>479864.3900</td>\n",
       "    </tr>\n",
       "  </tbody>\n",
       "</table>\n",
       "<p>5 rows × 23 columns</p>\n",
       "</div>"
      ],
      "text/plain": [
       "   id denuncia      Estatus    Tipo de denuncia                    Expediente  \\\n",
       "0            1    Concluida  Denuncia ciudadana  PAOT-2002/CAJRD-0001-SOT-001   \n",
       "1            2    Concluida  Denuncia ciudadana  PAOT-2002/CAJRD-0002-SPA-001   \n",
       "2            3    Concluida  Denuncia ciudadana  PAOT-2002/CAJRD-0003-SPA-002   \n",
       "3            4  No admitida  Denuncia ciudadana  PAOT-2002/CAJRD-0004-SPA-004   \n",
       "4            7    Concluida  Denuncia ciudadana  PAOT-2002/CAJRD-0006-SPA-003   \n",
       "\n",
       "                          Materia Fecha de recepción Fecha de ratificación  \\\n",
       "0  Áreas Verdes (en Suelo Urbano)         30/01/2002            30/01/2002   \n",
       "1           Suelo de Conservación         10/04/2002            10/04/2002   \n",
       "2                            Aire         29/04/2002            29/04/2002   \n",
       "3                 Maltrato Animal         30/04/2002            30/04/2002   \n",
       "4             Uso de Suelo Urbano         02/05/2002            03/05/2002   \n",
       "\n",
       "  Fecha de turno Fecha de admisión/radicación Fecha de conclusión  ...  \\\n",
       "0     06/02/2002                   06/02/2002          14/03/2002  ...   \n",
       "1     12/04/2002                   12/04/2002          10/06/2002  ...   \n",
       "2     30/04/2002                   06/05/2002          24/06/2002  ...   \n",
       "3     02/05/2002                   02/05/2002          02/05/2002  ...   \n",
       "4     07/05/2002                   07/05/2002          20/06/2002  ...   \n",
       "\n",
       "         Alcaldía       Entre calle 1    Entre calle 2 Referencias  \\\n",
       "0       Iztacalco         ORIENTE 217      ORIENTE 221         NaN   \n",
       "1         Tláhuac                 NaN              NaN         NaN   \n",
       "2      Cuauhtémoc  FRANCISCO PIMENTEL  ALFONSO HERRERA         NaN   \n",
       "3  Álvaro Obregón                 NaN              NaN         NaN   \n",
       "4  Álvaro Obregón                 NaN              NaN         NaN   \n",
       "\n",
       "  Código postal Régimen propiedad  \\\n",
       "0        8500.0           Pública   \n",
       "1       13500.0            Social   \n",
       "2        6470.0           Pública   \n",
       "3        1450.0           Privada   \n",
       "4        1001.0           Pública   \n",
       "\n",
       "                           Actos, Hechos y Omisiones  \\\n",
       "0  Derribo de árboles en área verde de la Colonia...   \n",
       "1  Contaminación de suelos agrícolas con material...   \n",
       "2  Contaminación del aire por servicios de hojala...   \n",
       "3  Daño en propiedad ajena y amenazas por Pit-bul...   \n",
       "4  Omisión de leyes y normas ambientales con el p...   \n",
       "\n",
       "                                    Área responsable     Coord. X     Coord. Y  \n",
       "0       Subprocuraduría del Ordenamiento Territorial  2144406.000  491217.0000  \n",
       "1  Subprocuraduría Ambiental, de Protección y Bie...  2128631.137  500897.8680  \n",
       "2  Subprocuraduría Ambiental, de Protección y Bie...  2149346.794  482638.9534  \n",
       "3  Subprocuraduría Ambiental, de Protección y Bie...  2141901.002  478549.2810  \n",
       "4  Subprocuraduría Ambiental, de Protección y Bie...  2143425.900  479864.3900  \n",
       "\n",
       "[5 rows x 23 columns]"
      ]
     },
     "execution_count": 1,
     "metadata": {},
     "output_type": "execute_result"
    }
   ],
   "source": [
    "import os\n",
    "import pandas as pd\n",
    "import numpy as np \n",
    "import s3fs\n",
    "import configparser\n",
    "\n",
    "config = configparser.ConfigParser()\n",
    "# Este archivo se creará cuando se instale el AWS command line interface.\n",
    "# Seguir estas instrucciones: https://docs.aws.amazon.com/cli/latest/userguide/getting-started-install.html\n",
    "# ES OBLIGATORIO instalar este componente antes de continuar esta ejecución.\n",
    "config.read(os.getenv(\"HOME\") + '/.aws/credentials')\n",
    "\n",
    "aws_credentials = {'key': config[\"cdas-itam\"][\"aws_access_key_id\"],'secret': config[\"cdas-itam\"][\"aws_secret_access_key\"]}\n",
    "\n",
    "df = pd.read_csv(f\"s3://captain-planet-denuncias-paot/raw/rptDatosAbiertos.csv\", storage_options=aws_credentials, encoding=\"latin-1\")\n",
    "\n",
    "df.head()\n",
    "\n"
   ]
  },
  {
   "cell_type": "markdown",
   "metadata": {},
   "source": [
    "Se lee el csv y se guarda como DataFrame"
   ]
  },
  {
   "cell_type": "code",
   "execution_count": 2,
   "metadata": {},
   "outputs": [
    {
     "data": {
      "text/plain": [
       "Index(['id_denuncia', 'estatus', 'tipo_de_denuncia', 'expediente', 'materia',\n",
       "       'fecha_de_recepcion', 'fecha_de_ratificacion', 'fecha_de_turno',\n",
       "       'fecha_de_admision/radicacion', 'fecha_de_conclusion',\n",
       "       'medio_de_recepcion', 'domicilio', 'colonia', 'alcaldia',\n",
       "       'entre_calle_1', 'entre_calle_2', 'referencias', 'codigo_postal',\n",
       "       'regimen_propiedad', 'actos,_hechos_y_omisiones', 'area_responsable',\n",
       "       'coord._x', 'coord._y'],\n",
       "      dtype='object')"
      ]
     },
     "execution_count": 2,
     "metadata": {},
     "output_type": "execute_result"
    }
   ],
   "source": [
    "df.columns = df.columns.str.lower()\n",
    "df.columns = df.columns.str.replace(' ', '_')\n",
    "df.columns = df.columns.str.replace('ó', 'o')\n",
    "df.columns = df.columns.str.replace('í', 'i')\n",
    "df.columns = df.columns.str.replace('é', 'e')\n",
    "df.columns = df.columns.str.replace('á', 'a')\n",
    "\n",
    "df.columns"
   ]
  },
  {
   "cell_type": "markdown",
   "metadata": {},
   "source": [
    "Se estandariza el nombre de las columnas\n"
   ]
  },
  {
   "cell_type": "code",
   "execution_count": 3,
   "metadata": {},
   "outputs": [
    {
     "data": {
      "text/plain": [
       "0       2002-03-14\n",
       "1       2002-06-10\n",
       "2       2002-06-24\n",
       "3       2002-05-02\n",
       "4       2002-06-20\n",
       "           ...    \n",
       "57711          NaT\n",
       "57712          NaT\n",
       "57713          NaT\n",
       "57714          NaT\n",
       "57715          NaT\n",
       "Name: fecha_de_conclusion, Length: 57716, dtype: datetime64[ns]"
      ]
     },
     "execution_count": 3,
     "metadata": {},
     "output_type": "execute_result"
    }
   ],
   "source": [
    "\n",
    "\n",
    "pd.to_datetime(df['fecha_de_recepcion'], dayfirst = True, errors='coerce')\n",
    "pd.to_datetime(df['fecha_de_ratificacion'], dayfirst = True, errors='coerce')\n",
    "pd.to_datetime(df['fecha_de_turno'], dayfirst = True, errors='coerce')\n",
    "pd.to_datetime(df['fecha_de_admision/radicacion'], dayfirst = True, errors='coerce')\n",
    "pd.to_datetime(df['fecha_de_conclusion'], dayfirst = True, errors='coerce')\n",
    "\n"
   ]
  },
  {
   "cell_type": "markdown",
   "metadata": {},
   "source": [
    "Se limpian y estandarizan las fechas\n"
   ]
  },
  {
   "cell_type": "code",
   "execution_count": 4,
   "metadata": {},
   "outputs": [
    {
     "data": {
      "text/plain": [
       "array(['Subprocuraduría del Ordenamiento Territorial',\n",
       "       'Subprocuraduría Ambiental, de Protección y Bienestar a los Animales',\n",
       "       nan], dtype=object)"
      ]
     },
     "execution_count": 4,
     "metadata": {},
     "output_type": "execute_result"
    }
   ],
   "source": [
    "df['materia'].unique() # materia\n",
    "df['colonia'].unique() # colonia\n",
    "df['alcaldia'].unique() #alcaldia\n",
    "df['medio_de_recepcion'].unique() # medio de recepcion\n",
    "df['tipo_de_denuncia'].unique() # tipo de denuncia\n",
    "df['area_responsable'].unique() # area responsable"
   ]
  },
  {
   "cell_type": "markdown",
   "metadata": {},
   "source": [
    "Se revisa que campos categóricos realmente sean campos categóricos"
   ]
  },
  {
   "cell_type": "code",
   "execution_count": 5,
   "metadata": {},
   "outputs": [],
   "source": [
    "df['materia'] = df['materia'].astype('category')\n",
    "df['colonia'] = df['colonia'].astype('category')\n",
    "df['alcaldia'] = df['alcaldia'].astype('category')\n",
    "df['regimen_propiedad'] = df['regimen_propiedad'].astype('category')\n",
    "df['medio_de_recepcion'] = df['medio_de_recepcion'].astype('category')\n",
    "df['tipo_de_denuncia'] = df['tipo_de_denuncia'].astype('category')\n",
    "df['area_responsable'] = df['area_responsable'].astype('category')"
   ]
  },
  {
   "cell_type": "code",
   "execution_count": 6,
   "metadata": {},
   "outputs": [],
   "source": [
    "del df['entre_calle_1']\n",
    "del df['entre_calle_2']\n",
    "del df['referencias']"
   ]
  },
  {
   "cell_type": "markdown",
   "metadata": {},
   "source": [
    "Se borran entre_calle_1, entre_calle_2 y referencias"
   ]
  },
  {
   "cell_type": "code",
   "execution_count": 7,
   "metadata": {},
   "outputs": [
    {
     "data": {
      "text/plain": [
       "array(['Concluida', 'No admitida', 'No presentada', 'En investigación',\n",
       "       'En proceso de admisión', 'En proceso de turno'], dtype=object)"
      ]
     },
     "execution_count": 7,
     "metadata": {},
     "output_type": "execute_result"
    }
   ],
   "source": [
    "df['denuncia_padre'] = np.where(df['expediente'].str.contains('BIS'), df['expediente'].shift(1), None)\n",
    "\n",
    "df['estatus'].unique()\n"
   ]
  },
  {
   "cell_type": "markdown",
   "metadata": {},
   "source": [
    "Se verifica que denuncias tienen 'BIS' en su expediente"
   ]
  },
  {
   "cell_type": "code",
   "execution_count": 8,
   "metadata": {},
   "outputs": [],
   "source": [
    "df['coord._x'] = df['coord._x'].astype(float)\n",
    "df['coord._y'] = df['coord._y'].astype(float)"
   ]
  },
  {
   "cell_type": "markdown",
   "metadata": {},
   "source": [
    "Se convierten coordenadas a float"
   ]
  },
  {
   "cell_type": "code",
   "execution_count": 9,
   "metadata": {},
   "outputs": [],
   "source": [
    "df.to_csv(r's3://captain-planet-denuncias-paot/clean/clean_denuncias_paot.csv', storage_options=aws_credentials)"
   ]
  },
  {
   "cell_type": "markdown",
   "metadata": {},
   "source": [
    "Se exporta en csv para seguir con el análisis"
   ]
  }
 ],
 "metadata": {
  "kernelspec": {
   "display_name": "Python 3 (ipykernel)",
   "language": "python",
   "name": "python3"
  },
  "language_info": {
   "codemirror_mode": {
    "name": "ipython",
    "version": 3
   },
   "file_extension": ".py",
   "mimetype": "text/x-python",
   "name": "python",
   "nbconvert_exporter": "python",
   "pygments_lexer": "ipython3",
   "version": "3.10.4"
  },
  "vscode": {
   "interpreter": {
    "hash": "c4144324fcff0bc5a8de6332d56aa7c47a05da9eb72c9e185f253733c7069112"
   }
  }
 },
 "nbformat": 4,
 "nbformat_minor": 4
}
